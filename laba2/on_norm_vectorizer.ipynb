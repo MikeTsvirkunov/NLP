{
 "cells": [
  {
   "cell_type": "code",
   "execution_count": 1,
   "metadata": {},
   "outputs": [
    {
     "name": "stderr",
     "output_type": "stream",
     "text": [
      "d:\\5semak\\NLP_5_semak\\NLP\\lib\\site-packages\\torchaudio\\backend\\utils.py:74: UserWarning: No audio backend is available.\n",
      "  warnings.warn(\"No audio backend is available.\")\n"
     ]
    }
   ],
   "source": [
    "import pandas as pd\n",
    "from nltk.tokenize import sent_tokenize\n",
    "from nltk.corpus import stopwords\n",
    "import re\n",
    "from string import punctuation\n",
    "import pymorphy2\n",
    "import numpy as np\n",
    "from scipy.linalg import eigh\n",
    "import nltk\n",
    "import torch\n",
    "import pickle\n",
    "import matplotlib.pyplot as plt\n",
    "import torchmetrics\n",
    "from sklearn.model_selection import train_test_split\n",
    "from sklearn.metrics import classification_report\n",
    "from razdel import tokenize\n",
    "from navec import Navec\n"
   ]
  },
  {
   "cell_type": "code",
   "execution_count": 2,
   "metadata": {},
   "outputs": [],
   "source": [
    "navec = Navec.load('../navec_hudlit_v1_12B_500K_300d_100q.tar')\n"
   ]
  },
  {
   "cell_type": "code",
   "execution_count": 3,
   "metadata": {},
   "outputs": [],
   "source": [
    "rus_stop_words = stopwords.words(\"russian\")\n",
    "symbols = list(punctuation) + ['\\t', '\\n', '\\r',\n",
    "                               '№', '#', '@', '^', '%', '*', '»', '«', ]\n",
    "emojy = [\n",
    "    '\\xeb',\n",
    "    '\\ufffc',\n",
    "    '\\xbf',\n",
    "    '\\u2011',\n",
    "    '\\u200b'\n",
    "]\n",
    "morph = pymorphy2.MorphAnalyzer(lang='ru')\n"
   ]
  },
  {
   "cell_type": "markdown",
   "metadata": {},
   "source": [
    "# Task 1\n",
    "Загрузите датасет из ЛР1. Датасет большой, рекомендуется для работы взять его часть (далее - корпус)."
   ]
  },
  {
   "cell_type": "code",
   "execution_count": 4,
   "metadata": {},
   "outputs": [
    {
     "data": {
      "text/html": [
       "<div>\n",
       "<style scoped>\n",
       "    .dataframe tbody tr th:only-of-type {\n",
       "        vertical-align: middle;\n",
       "    }\n",
       "\n",
       "    .dataframe tbody tr th {\n",
       "        vertical-align: top;\n",
       "    }\n",
       "\n",
       "    .dataframe thead th {\n",
       "        text-align: right;\n",
       "    }\n",
       "</style>\n",
       "<table border=\"1\" class=\"dataframe\">\n",
       "  <thead>\n",
       "    <tr style=\"text-align: right;\">\n",
       "      <th></th>\n",
       "      <th>id</th>\n",
       "      <th>public_petition_text</th>\n",
       "      <th>reason_category</th>\n",
       "    </tr>\n",
       "  </thead>\n",
       "  <tbody>\n",
       "    <tr>\n",
       "      <th>0</th>\n",
       "      <td>3168490</td>\n",
       "      <td>снег на дороге</td>\n",
       "      <td>Благоустройство</td>\n",
       "    </tr>\n",
       "    <tr>\n",
       "      <th>1</th>\n",
       "      <td>3219678</td>\n",
       "      <td>очистить кабельный киоск от рекламы</td>\n",
       "      <td>Благоустройство</td>\n",
       "    </tr>\n",
       "    <tr>\n",
       "      <th>2</th>\n",
       "      <td>2963920</td>\n",
       "      <td>Просим убрать все деревья и кустарники, которы...</td>\n",
       "      <td>Благоустройство</td>\n",
       "    </tr>\n",
       "    <tr>\n",
       "      <th>3</th>\n",
       "      <td>3374910</td>\n",
       "      <td>Неудовлетворительное состояние парадной - надп...</td>\n",
       "      <td>Содержание МКД</td>\n",
       "    </tr>\n",
       "    <tr>\n",
       "      <th>4</th>\n",
       "      <td>3336285</td>\n",
       "      <td>Граффити</td>\n",
       "      <td>Благоустройство</td>\n",
       "    </tr>\n",
       "    <tr>\n",
       "      <th>...</th>\n",
       "      <td>...</td>\n",
       "      <td>...</td>\n",
       "      <td>...</td>\n",
       "    </tr>\n",
       "    <tr>\n",
       "      <th>59884</th>\n",
       "      <td>3128111</td>\n",
       "      <td>прошу закрасить граффити</td>\n",
       "      <td>Благоустройство</td>\n",
       "    </tr>\n",
       "    <tr>\n",
       "      <th>59885</th>\n",
       "      <td>3276713</td>\n",
       "      <td>Прошу вас отремонтировать пешеходную дорожку</td>\n",
       "      <td>Благоустройство</td>\n",
       "    </tr>\n",
       "    <tr>\n",
       "      <th>59886</th>\n",
       "      <td>3274663</td>\n",
       "      <td>Необходимо демонтировать незаконную рекламную ...</td>\n",
       "      <td>Незаконная информационная и (или) рекламная ко...</td>\n",
       "    </tr>\n",
       "    <tr>\n",
       "      <th>59887</th>\n",
       "      <td>3359308</td>\n",
       "      <td>Очень гремит на ветру металлическая часть окна...</td>\n",
       "      <td>Кровля</td>\n",
       "    </tr>\n",
       "    <tr>\n",
       "      <th>59888</th>\n",
       "      <td>3209098</td>\n",
       "      <td>Две проблемы в одном:\\n1) Незаконные надписи/о...</td>\n",
       "      <td>Благоустройство</td>\n",
       "    </tr>\n",
       "  </tbody>\n",
       "</table>\n",
       "<p>59889 rows × 3 columns</p>\n",
       "</div>"
      ],
      "text/plain": [
       "            id                               public_petition_text  \\\n",
       "0      3168490                                     снег на дороге   \n",
       "1      3219678                очистить кабельный киоск от рекламы   \n",
       "2      2963920  Просим убрать все деревья и кустарники, которы...   \n",
       "3      3374910  Неудовлетворительное состояние парадной - надп...   \n",
       "4      3336285                                           Граффити   \n",
       "...        ...                                                ...   \n",
       "59884  3128111                           прошу закрасить граффити   \n",
       "59885  3276713       Прошу вас отремонтировать пешеходную дорожку   \n",
       "59886  3274663  Необходимо демонтировать незаконную рекламную ...   \n",
       "59887  3359308  Очень гремит на ветру металлическая часть окна...   \n",
       "59888  3209098  Две проблемы в одном:\\n1) Незаконные надписи/о...   \n",
       "\n",
       "                                         reason_category  \n",
       "0                                        Благоустройство  \n",
       "1                                        Благоустройство  \n",
       "2                                        Благоустройство  \n",
       "3                                         Содержание МКД  \n",
       "4                                        Благоустройство  \n",
       "...                                                  ...  \n",
       "59884                                    Благоустройство  \n",
       "59885                                    Благоустройство  \n",
       "59886  Незаконная информационная и (или) рекламная ко...  \n",
       "59887                                             Кровля  \n",
       "59888                                    Благоустройство  \n",
       "\n",
       "[59889 rows x 3 columns]"
      ]
     },
     "execution_count": 4,
     "metadata": {},
     "output_type": "execute_result"
    }
   ],
   "source": [
    "df = pd.read_csv('../Data/Petitions.csv')\n",
    "df\n"
   ]
  },
  {
   "cell_type": "markdown",
   "metadata": {},
   "source": [
    "# Task 2\n",
    "Рассмотрите каждый объект корпуса как отдельный текстовый документ. Выполните предварительную обработку каждого объекта."
   ]
  },
  {
   "cell_type": "code",
   "execution_count": 5,
   "metadata": {},
   "outputs": [],
   "source": [
    "public_petition_text = df['public_petition_text']\n"
   ]
  },
  {
   "cell_type": "code",
   "execution_count": 6,
   "metadata": {},
   "outputs": [],
   "source": [
    "def filter_fun(text):\n",
    "    is_not_symbol = True\n",
    "    for i in text:\n",
    "        if i in symbols:\n",
    "            is_not_symbol = False\n",
    "    is_not_num = not bool(re.match('\\d+', text))\n",
    "    is_not_stop_word = not text in rus_stop_words\n",
    "    return is_not_num and is_not_symbol and is_not_stop_word\n"
   ]
  },
  {
   "cell_type": "code",
   "execution_count": 7,
   "metadata": {},
   "outputs": [],
   "source": [
    "def text_preprocessed(text: str):\n",
    "    text = text.lower()\n",
    "    for i in emojy:\n",
    "        text = text.replace(i, '')\n",
    "    text = nltk.tokenize.word_tokenize(text)\n",
    "    text = list(filter(filter_fun, text))\n",
    "    text = list(map(lambda i: morph.parse(i)[0].normal_form, text))\n",
    "    return ' '.join(text)\n"
   ]
  },
  {
   "cell_type": "code",
   "execution_count": 8,
   "metadata": {},
   "outputs": [],
   "source": [
    "df['public_petition_text_modded'] = public_petition_text.apply(text_preprocessed)\n"
   ]
  },
  {
   "cell_type": "code",
   "execution_count": 9,
   "metadata": {},
   "outputs": [],
   "source": [
    "df = df.drop('public_petition_text', axis=1)\n"
   ]
  },
  {
   "cell_type": "code",
   "execution_count": 10,
   "metadata": {},
   "outputs": [
    {
     "data": {
      "text/html": [
       "<div>\n",
       "<style scoped>\n",
       "    .dataframe tbody tr th:only-of-type {\n",
       "        vertical-align: middle;\n",
       "    }\n",
       "\n",
       "    .dataframe tbody tr th {\n",
       "        vertical-align: top;\n",
       "    }\n",
       "\n",
       "    .dataframe thead th {\n",
       "        text-align: right;\n",
       "    }\n",
       "</style>\n",
       "<table border=\"1\" class=\"dataframe\">\n",
       "  <thead>\n",
       "    <tr style=\"text-align: right;\">\n",
       "      <th></th>\n",
       "      <th>id</th>\n",
       "      <th>reason_category</th>\n",
       "      <th>public_petition_text_modded</th>\n",
       "    </tr>\n",
       "  </thead>\n",
       "  <tbody>\n",
       "    <tr>\n",
       "      <th>0</th>\n",
       "      <td>3168490</td>\n",
       "      <td>Благоустройство</td>\n",
       "      <td>снег дорога</td>\n",
       "    </tr>\n",
       "    <tr>\n",
       "      <th>1</th>\n",
       "      <td>3219678</td>\n",
       "      <td>Благоустройство</td>\n",
       "      <td>очистить кабельный киоск реклама</td>\n",
       "    </tr>\n",
       "    <tr>\n",
       "      <th>2</th>\n",
       "      <td>2963920</td>\n",
       "      <td>Благоустройство</td>\n",
       "      <td>просить убрать дерево кустарник который выйти ...</td>\n",
       "    </tr>\n",
       "    <tr>\n",
       "      <th>3</th>\n",
       "      <td>3374910</td>\n",
       "      <td>Содержание МКД</td>\n",
       "      <td>неудовлетворительный состояние парадный надпис...</td>\n",
       "    </tr>\n",
       "    <tr>\n",
       "      <th>4</th>\n",
       "      <td>3336285</td>\n",
       "      <td>Благоустройство</td>\n",
       "      <td>граффити</td>\n",
       "    </tr>\n",
       "  </tbody>\n",
       "</table>\n",
       "</div>"
      ],
      "text/plain": [
       "        id  reason_category                        public_petition_text_modded\n",
       "0  3168490  Благоустройство                                        снег дорога\n",
       "1  3219678  Благоустройство                   очистить кабельный киоск реклама\n",
       "2  2963920  Благоустройство  просить убрать дерево кустарник который выйти ...\n",
       "3  3374910   Содержание МКД  неудовлетворительный состояние парадный надпис...\n",
       "4  3336285  Благоустройство                                           граффити"
      ]
     },
     "execution_count": 10,
     "metadata": {},
     "output_type": "execute_result"
    }
   ],
   "source": [
    "df.head()"
   ]
  },
  {
   "cell_type": "code",
   "execution_count": 11,
   "metadata": {},
   "outputs": [],
   "source": [
    "df.to_csv('../Data/modded.csv')"
   ]
  },
  {
   "cell_type": "markdown",
   "metadata": {},
   "source": [
    "# Task 3\n",
    "Выполните векторизацию каждого документа любым способом (можно с помощью своих моделей Word2Vec, при условии, что Word2Vec модели обучались на той же выборке документов; можно использовать другие библиотеки и модели)."
   ]
  },
  {
   "cell_type": "code",
   "execution_count": 12,
   "metadata": {},
   "outputs": [],
   "source": [
    "def vectorizer(text):\n",
    "    return sum(map(lambda a: navec[a] if a in navec else navec['<unk>'], text.split(' ')))\n"
   ]
  },
  {
   "cell_type": "code",
   "execution_count": 13,
   "metadata": {},
   "outputs": [],
   "source": [
    "public_petition_text_vector = df['public_petition_text_modded'].apply(vectorizer)\n"
   ]
  },
  {
   "cell_type": "code",
   "execution_count": 14,
   "metadata": {},
   "outputs": [],
   "source": [
    "df_vectored = df.drop(['public_petition_text_modded'], axis=1)\n",
    "df_vectored['public_petition_text_vectored'] = public_petition_text_vector\n"
   ]
  },
  {
   "cell_type": "code",
   "execution_count": 15,
   "metadata": {},
   "outputs": [
    {
     "data": {
      "text/html": [
       "<div>\n",
       "<style scoped>\n",
       "    .dataframe tbody tr th:only-of-type {\n",
       "        vertical-align: middle;\n",
       "    }\n",
       "\n",
       "    .dataframe tbody tr th {\n",
       "        vertical-align: top;\n",
       "    }\n",
       "\n",
       "    .dataframe thead th {\n",
       "        text-align: right;\n",
       "    }\n",
       "</style>\n",
       "<table border=\"1\" class=\"dataframe\">\n",
       "  <thead>\n",
       "    <tr style=\"text-align: right;\">\n",
       "      <th></th>\n",
       "      <th>id</th>\n",
       "      <th>reason_category</th>\n",
       "      <th>public_petition_text_vectored</th>\n",
       "    </tr>\n",
       "  </thead>\n",
       "  <tbody>\n",
       "    <tr>\n",
       "      <th>0</th>\n",
       "      <td>3168490</td>\n",
       "      <td>Благоустройство</td>\n",
       "      <td>[0.29590172, -1.2651815, 0.37506878, -0.427091...</td>\n",
       "    </tr>\n",
       "    <tr>\n",
       "      <th>1</th>\n",
       "      <td>3219678</td>\n",
       "      <td>Благоустройство</td>\n",
       "      <td>[0.56108713, -0.2537534, 0.26748753, -0.421476...</td>\n",
       "    </tr>\n",
       "    <tr>\n",
       "      <th>2</th>\n",
       "      <td>2963920</td>\n",
       "      <td>Благоустройство</td>\n",
       "      <td>[1.4993877, -7.6264415, 1.3750213, -2.3595083,...</td>\n",
       "    </tr>\n",
       "    <tr>\n",
       "      <th>3</th>\n",
       "      <td>3374910</td>\n",
       "      <td>Содержание МКД</td>\n",
       "      <td>[0.8002656, -0.74999213, 0.4285491, -1.3885938...</td>\n",
       "    </tr>\n",
       "    <tr>\n",
       "      <th>4</th>\n",
       "      <td>3336285</td>\n",
       "      <td>Благоустройство</td>\n",
       "      <td>[-0.19770631, 0.08428149, 0.2634739, 0.0454894...</td>\n",
       "    </tr>\n",
       "  </tbody>\n",
       "</table>\n",
       "</div>"
      ],
      "text/plain": [
       "        id  reason_category                      public_petition_text_vectored\n",
       "0  3168490  Благоустройство  [0.29590172, -1.2651815, 0.37506878, -0.427091...\n",
       "1  3219678  Благоустройство  [0.56108713, -0.2537534, 0.26748753, -0.421476...\n",
       "2  2963920  Благоустройство  [1.4993877, -7.6264415, 1.3750213, -2.3595083,...\n",
       "3  3374910   Содержание МКД  [0.8002656, -0.74999213, 0.4285491, -1.3885938...\n",
       "4  3336285  Благоустройство  [-0.19770631, 0.08428149, 0.2634739, 0.0454894..."
      ]
     },
     "execution_count": 15,
     "metadata": {},
     "output_type": "execute_result"
    }
   ],
   "source": [
    "df_vectored.head()\n"
   ]
  },
  {
   "cell_type": "markdown",
   "metadata": {},
   "source": [
    "# Task 4 \n",
    "Закодируйте значения целевого признака (категория обращения). Разделите данные на обучающую и тестирующую выборку."
   ]
  },
  {
   "cell_type": "code",
   "execution_count": 16,
   "metadata": {},
   "outputs": [
    {
     "data": {
      "text/plain": [
       "reason_category\n",
       "Благоустройство                                                                     34769\n",
       "Содержание МКД                                                                      14461\n",
       "Нарушение правил пользования общим имуществом                                        2170\n",
       "Незаконная информационная и (или) рекламная конструкция                              1831\n",
       "Фасад                                                                                1483\n",
       "Повреждения или неисправность элементов уличной инфраструктуры                       1164\n",
       "Кровля                                                                                825\n",
       "Водоснабжение                                                                         809\n",
       "Состояние рекламных или информационных конструкций                                    673\n",
       "Санитарное состояние                                                                  434\n",
       "Центральное отопление                                                                 284\n",
       "Подвалы                                                                               254\n",
       "Незаконная реализация товаров с торгового оборудования (прилавок, ящик, с земли)      251\n",
       "Нарушение порядка пользования общим имуществом                                        243\n",
       "Водоотведение                                                                         238\n",
       "Name: count, dtype: int64"
      ]
     },
     "execution_count": 16,
     "metadata": {},
     "output_type": "execute_result"
    }
   ],
   "source": [
    "df['reason_category'].value_counts()\n"
   ]
  },
  {
   "cell_type": "code",
   "execution_count": 17,
   "metadata": {},
   "outputs": [],
   "source": [
    "with open('../Data/problems_number.pkl', 'wb') as f:\n",
    "    pickle.dump(dict(enumerate(df['reason_category'].factorize()[1])), f)"
   ]
  },
  {
   "cell_type": "code",
   "execution_count": 18,
   "metadata": {},
   "outputs": [],
   "source": [
    "with open('../Data/problems_number.pkl', 'rb') as f:\n",
    "    problems_number = pickle.load(f)\n"
   ]
  },
  {
   "cell_type": "code",
   "execution_count": 19,
   "metadata": {},
   "outputs": [],
   "source": [
    "def factorizerProb(id: int):\n",
    "    v = np.zeros(max(problems_number)+1)\n",
    "    v[id] = 1\n",
    "    return v\n"
   ]
  },
  {
   "cell_type": "code",
   "execution_count": 20,
   "metadata": {},
   "outputs": [],
   "source": [
    "df_vectored['reason_category'] = df['reason_category'].factorize()[0]\n"
   ]
  },
  {
   "cell_type": "code",
   "execution_count": 21,
   "metadata": {},
   "outputs": [],
   "source": [
    "df_vectored['reason_category2'] = df_vectored['reason_category'].apply(factorizerProb)\n"
   ]
  },
  {
   "cell_type": "code",
   "execution_count": 22,
   "metadata": {},
   "outputs": [
    {
     "data": {
      "text/html": [
       "<div>\n",
       "<style scoped>\n",
       "    .dataframe tbody tr th:only-of-type {\n",
       "        vertical-align: middle;\n",
       "    }\n",
       "\n",
       "    .dataframe tbody tr th {\n",
       "        vertical-align: top;\n",
       "    }\n",
       "\n",
       "    .dataframe thead th {\n",
       "        text-align: right;\n",
       "    }\n",
       "</style>\n",
       "<table border=\"1\" class=\"dataframe\">\n",
       "  <thead>\n",
       "    <tr style=\"text-align: right;\">\n",
       "      <th></th>\n",
       "      <th>id</th>\n",
       "      <th>reason_category</th>\n",
       "      <th>public_petition_text_vectored</th>\n",
       "      <th>reason_category2</th>\n",
       "    </tr>\n",
       "  </thead>\n",
       "  <tbody>\n",
       "    <tr>\n",
       "      <th>0</th>\n",
       "      <td>3168490</td>\n",
       "      <td>0</td>\n",
       "      <td>[0.29590172, -1.2651815, 0.37506878, -0.427091...</td>\n",
       "      <td>[1.0, 0.0, 0.0, 0.0, 0.0, 0.0, 0.0, 0.0, 0.0, ...</td>\n",
       "    </tr>\n",
       "    <tr>\n",
       "      <th>1</th>\n",
       "      <td>3219678</td>\n",
       "      <td>0</td>\n",
       "      <td>[0.56108713, -0.2537534, 0.26748753, -0.421476...</td>\n",
       "      <td>[1.0, 0.0, 0.0, 0.0, 0.0, 0.0, 0.0, 0.0, 0.0, ...</td>\n",
       "    </tr>\n",
       "    <tr>\n",
       "      <th>2</th>\n",
       "      <td>2963920</td>\n",
       "      <td>0</td>\n",
       "      <td>[1.4993877, -7.6264415, 1.3750213, -2.3595083,...</td>\n",
       "      <td>[1.0, 0.0, 0.0, 0.0, 0.0, 0.0, 0.0, 0.0, 0.0, ...</td>\n",
       "    </tr>\n",
       "    <tr>\n",
       "      <th>3</th>\n",
       "      <td>3374910</td>\n",
       "      <td>1</td>\n",
       "      <td>[0.8002656, -0.74999213, 0.4285491, -1.3885938...</td>\n",
       "      <td>[0.0, 1.0, 0.0, 0.0, 0.0, 0.0, 0.0, 0.0, 0.0, ...</td>\n",
       "    </tr>\n",
       "    <tr>\n",
       "      <th>4</th>\n",
       "      <td>3336285</td>\n",
       "      <td>0</td>\n",
       "      <td>[-0.19770631, 0.08428149, 0.2634739, 0.0454894...</td>\n",
       "      <td>[1.0, 0.0, 0.0, 0.0, 0.0, 0.0, 0.0, 0.0, 0.0, ...</td>\n",
       "    </tr>\n",
       "    <tr>\n",
       "      <th>...</th>\n",
       "      <td>...</td>\n",
       "      <td>...</td>\n",
       "      <td>...</td>\n",
       "      <td>...</td>\n",
       "    </tr>\n",
       "    <tr>\n",
       "      <th>59884</th>\n",
       "      <td>3128111</td>\n",
       "      <td>0</td>\n",
       "      <td>[0.38387415, -0.13600658, 0.31474167, 0.000557...</td>\n",
       "      <td>[1.0, 0.0, 0.0, 0.0, 0.0, 0.0, 0.0, 0.0, 0.0, ...</td>\n",
       "    </tr>\n",
       "    <tr>\n",
       "      <th>59885</th>\n",
       "      <td>3276713</td>\n",
       "      <td>0</td>\n",
       "      <td>[0.61508846, -0.92907864, 0.6802722, -1.201326...</td>\n",
       "      <td>[1.0, 0.0, 0.0, 0.0, 0.0, 0.0, 0.0, 0.0, 0.0, ...</td>\n",
       "    </tr>\n",
       "    <tr>\n",
       "      <th>59886</th>\n",
       "      <td>3274663</td>\n",
       "      <td>2</td>\n",
       "      <td>[0.18860286, -0.08216125, 0.5107379, -1.675691...</td>\n",
       "      <td>[0.0, 0.0, 1.0, 0.0, 0.0, 0.0, 0.0, 0.0, 0.0, ...</td>\n",
       "    </tr>\n",
       "    <tr>\n",
       "      <th>59887</th>\n",
       "      <td>3359308</td>\n",
       "      <td>7</td>\n",
       "      <td>[-0.30990747, -2.406936, 1.2886531, -0.1675881...</td>\n",
       "      <td>[0.0, 0.0, 0.0, 0.0, 0.0, 0.0, 0.0, 1.0, 0.0, ...</td>\n",
       "    </tr>\n",
       "    <tr>\n",
       "      <th>59888</th>\n",
       "      <td>3209098</td>\n",
       "      <td>0</td>\n",
       "      <td>[0.64433, -0.36446115, 0.28400233, -1.503907, ...</td>\n",
       "      <td>[1.0, 0.0, 0.0, 0.0, 0.0, 0.0, 0.0, 0.0, 0.0, ...</td>\n",
       "    </tr>\n",
       "  </tbody>\n",
       "</table>\n",
       "<p>59889 rows × 4 columns</p>\n",
       "</div>"
      ],
      "text/plain": [
       "            id  reason_category  \\\n",
       "0      3168490                0   \n",
       "1      3219678                0   \n",
       "2      2963920                0   \n",
       "3      3374910                1   \n",
       "4      3336285                0   \n",
       "...        ...              ...   \n",
       "59884  3128111                0   \n",
       "59885  3276713                0   \n",
       "59886  3274663                2   \n",
       "59887  3359308                7   \n",
       "59888  3209098                0   \n",
       "\n",
       "                           public_petition_text_vectored  \\\n",
       "0      [0.29590172, -1.2651815, 0.37506878, -0.427091...   \n",
       "1      [0.56108713, -0.2537534, 0.26748753, -0.421476...   \n",
       "2      [1.4993877, -7.6264415, 1.3750213, -2.3595083,...   \n",
       "3      [0.8002656, -0.74999213, 0.4285491, -1.3885938...   \n",
       "4      [-0.19770631, 0.08428149, 0.2634739, 0.0454894...   \n",
       "...                                                  ...   \n",
       "59884  [0.38387415, -0.13600658, 0.31474167, 0.000557...   \n",
       "59885  [0.61508846, -0.92907864, 0.6802722, -1.201326...   \n",
       "59886  [0.18860286, -0.08216125, 0.5107379, -1.675691...   \n",
       "59887  [-0.30990747, -2.406936, 1.2886531, -0.1675881...   \n",
       "59888  [0.64433, -0.36446115, 0.28400233, -1.503907, ...   \n",
       "\n",
       "                                        reason_category2  \n",
       "0      [1.0, 0.0, 0.0, 0.0, 0.0, 0.0, 0.0, 0.0, 0.0, ...  \n",
       "1      [1.0, 0.0, 0.0, 0.0, 0.0, 0.0, 0.0, 0.0, 0.0, ...  \n",
       "2      [1.0, 0.0, 0.0, 0.0, 0.0, 0.0, 0.0, 0.0, 0.0, ...  \n",
       "3      [0.0, 1.0, 0.0, 0.0, 0.0, 0.0, 0.0, 0.0, 0.0, ...  \n",
       "4      [1.0, 0.0, 0.0, 0.0, 0.0, 0.0, 0.0, 0.0, 0.0, ...  \n",
       "...                                                  ...  \n",
       "59884  [1.0, 0.0, 0.0, 0.0, 0.0, 0.0, 0.0, 0.0, 0.0, ...  \n",
       "59885  [1.0, 0.0, 0.0, 0.0, 0.0, 0.0, 0.0, 0.0, 0.0, ...  \n",
       "59886  [0.0, 0.0, 1.0, 0.0, 0.0, 0.0, 0.0, 0.0, 0.0, ...  \n",
       "59887  [0.0, 0.0, 0.0, 0.0, 0.0, 0.0, 0.0, 1.0, 0.0, ...  \n",
       "59888  [1.0, 0.0, 0.0, 0.0, 0.0, 0.0, 0.0, 0.0, 0.0, ...  \n",
       "\n",
       "[59889 rows x 4 columns]"
      ]
     },
     "execution_count": 22,
     "metadata": {},
     "output_type": "execute_result"
    }
   ],
   "source": [
    "df_vectored\n"
   ]
  },
  {
   "cell_type": "code",
   "execution_count": 23,
   "metadata": {},
   "outputs": [
    {
     "data": {
      "text/plain": [
       "reason_category\n",
       "0     34769\n",
       "1     14461\n",
       "5      2170\n",
       "2      1831\n",
       "3      1483\n",
       "6      1164\n",
       "7       825\n",
       "4       809\n",
       "8       673\n",
       "12      434\n",
       "13      284\n",
       "10      254\n",
       "14      251\n",
       "9       243\n",
       "11      238\n",
       "Name: count, dtype: int64"
      ]
     },
     "execution_count": 23,
     "metadata": {},
     "output_type": "execute_result"
    }
   ],
   "source": [
    "df_vectored['reason_category'].value_counts()\n"
   ]
  },
  {
   "cell_type": "code",
   "execution_count": 24,
   "metadata": {},
   "outputs": [],
   "source": [
    "from imblearn.over_sampling import SMOTE\n",
    "from imblearn.under_sampling import RandomUnderSampler\n"
   ]
  },
  {
   "cell_type": "code",
   "execution_count": 25,
   "metadata": {},
   "outputs": [
    {
     "name": "stderr",
     "output_type": "stream",
     "text": [
      "d:\\5semak\\NLP_5_semak\\NLP\\lib\\site-packages\\imblearn\\over_sampling\\_smote\\base.py:345: FutureWarning: The parameter `n_jobs` has been deprecated in 0.10 and will be removed in 0.12. You can pass an nearest neighbors estimator where `n_jobs` is already set instead.\n",
      "  warnings.warn(\n"
     ]
    }
   ],
   "source": [
    "X, y = SMOTE(\n",
    "    sampling_strategy='all',\n",
    "    n_jobs=4\n",
    ").fit_resample(\n",
    "    np.array(df_vectored['public_petition_text_vectored'].to_list()), \n",
    "    df_vectored['reason_category'].to_numpy()\n",
    ")\n"
   ]
  },
  {
   "cell_type": "code",
   "execution_count": 26,
   "metadata": {},
   "outputs": [
    {
     "data": {
      "text/plain": [
       "0     34769\n",
       "1     34769\n",
       "2     34769\n",
       "3     34769\n",
       "4     34769\n",
       "5     34769\n",
       "6     34769\n",
       "7     34769\n",
       "8     34769\n",
       "9     34769\n",
       "10    34769\n",
       "11    34769\n",
       "12    34769\n",
       "13    34769\n",
       "14    34769\n",
       "Name: count, dtype: int64"
      ]
     },
     "execution_count": 26,
     "metadata": {},
     "output_type": "execute_result"
    }
   ],
   "source": [
    "pd.Series(y).value_counts()"
   ]
  },
  {
   "cell_type": "code",
   "execution_count": 27,
   "metadata": {},
   "outputs": [
    {
     "data": {
      "text/plain": [
       "((521535, 300), (521535, 15))"
      ]
     },
     "execution_count": 27,
     "metadata": {},
     "output_type": "execute_result"
    }
   ],
   "source": [
    "X.shape, np.array(pd.Series(y).apply(factorizerProb).to_list()).shape\n"
   ]
  },
  {
   "cell_type": "code",
   "execution_count": 28,
   "metadata": {},
   "outputs": [],
   "source": [
    "X_train, X_test, y_train, y_test = train_test_split(\n",
    "    X, \n",
    "    np.array(pd.Series(y).apply(factorizerProb).to_list()), \n",
    "    test_size=0.9,\n",
    ")\n"
   ]
  },
  {
   "cell_type": "code",
   "execution_count": 29,
   "metadata": {},
   "outputs": [
    {
     "data": {
      "text/plain": [
       "(52153, 300)"
      ]
     },
     "execution_count": 29,
     "metadata": {},
     "output_type": "execute_result"
    }
   ],
   "source": [
    "X_train.shape\n"
   ]
  },
  {
   "cell_type": "markdown",
   "metadata": {},
   "source": [
    "# Task 5\n",
    "С помощью PyTorch соберите и обучите три нейронных сети для решения задачи классификации (предсказания категории обращения); количество слоев и значения других параметров конфигурируете по вашему усмотрению:\n",
    "1) сеть на базе блока RNN;\n",
    "2) сеть на базе блока LSTM;\n",
    "3) сеть на базе блока GRU."
   ]
  },
  {
   "cell_type": "code",
   "execution_count": 53,
   "metadata": {},
   "outputs": [],
   "source": [
    "class CBow(torch.nn.Module):\n",
    "    def __init__(\n",
    "        self,\n",
    "        input_size: int,\n",
    "        hidden_size_of_first_layer: int,\n",
    "        num_layers_of_first_layer: int,\n",
    "        input_size_of_second_layer: int,\n",
    "        hidden_size_of_second_layer: int,\n",
    "        num_layers_of_second_layer: int,\n",
    "        input_size_of_third_layer: int,\n",
    "        hidden_size_of_third_layer: int,\n",
    "        num_layers_of_third_layer: int,\n",
    "        input_size_of_fourth_layer: int,\n",
    "        output_size_of_fourth_layer: int,\n",
    "        input_size_of_fifth_layer: int,\n",
    "        output_size_of_fifth_layer: int,\n",
    "        output_layer_size: int\n",
    "    ):\n",
    "        \n",
    "        super(CBow, self).__init__()\n",
    "        self.input_size = input_size\n",
    "        self.hidden_size_of_first_layer = hidden_size_of_first_layer\n",
    "        self.num_layers_of_first_layer = num_layers_of_first_layer\n",
    "        self.input_size_of_second_layer = input_size_of_second_layer\n",
    "        self.hidden_size_of_second_layer = hidden_size_of_second_layer\n",
    "        self.num_layers_of_second_layer = num_layers_of_second_layer\n",
    "        self.input_size_of_third_layer = input_size_of_third_layer\n",
    "        self.hidden_size_of_third_layer = hidden_size_of_third_layer\n",
    "        self.num_layers_of_third_layer = num_layers_of_third_layer\n",
    "        self.input_size_of_fourth_layer = input_size_of_fourth_layer\n",
    "        self.input_size_of_fifth_layer = input_size_of_fifth_layer\n",
    "        self.output_layer_size = output_layer_size\n",
    "\n",
    "        self.input_layer = torch.nn.RNN(\n",
    "            input_size=input_size,\n",
    "            hidden_size=hidden_size_of_first_layer,\n",
    "            num_layers=num_layers_of_first_layer,\n",
    "            # bidirectional=True\n",
    "        )\n",
    "        self.second_layer = torch.nn.LSTM(\n",
    "            input_size=input_size_of_second_layer,\n",
    "            hidden_size=hidden_size_of_second_layer,\n",
    "            num_layers=num_layers_of_second_layer,\n",
    "            # bidirectional=False\n",
    "        )\n",
    "        self.third_layer = torch.nn.GRU(\n",
    "            input_size=input_size_of_third_layer,\n",
    "            hidden_size=hidden_size_of_third_layer,\n",
    "            num_layers=num_layers_of_third_layer,\n",
    "            # bidirectional=False\n",
    "        )\n",
    "        self.fourth_layer = torch.nn.Linear(\n",
    "            in_features=input_size_of_fourth_layer,\n",
    "            out_features=output_size_of_fourth_layer,\n",
    "        )\n",
    "        self.fifth_layer = torch.nn.Linear(\n",
    "            in_features=input_size_of_fifth_layer,\n",
    "            out_features=output_size_of_fifth_layer,\n",
    "        )\n",
    "\n",
    "        self.input_activation = torch.nn.Tanh()\n",
    "        self.second_activation = torch.nn.Tanh()\n",
    "        self.third_activation = torch.nn.Tanh()\n",
    "        self.fourth_activation = torch.nn.ReLU()\n",
    "        # self.output_activation = torch.nn.LogSoftmax()\n",
    "        self.h1 = torch.zeros(self.num_layers_of_first_layer, self.hidden_size_of_first_layer).requires_grad_().double().to('cuda')\n",
    "        self.h2 = torch.zeros(self.num_layers_of_second_layer, self.hidden_size_of_second_layer).requires_grad_().double().to('cuda')\n",
    "        self.h2_1 = torch.zeros(self.num_layers_of_second_layer, self.hidden_size_of_second_layer).requires_grad_().double().to('cuda')\n",
    "        self.h2_2 = torch.zeros(self.num_layers_of_second_layer, self.hidden_size_of_second_layer).requires_grad_().double().to('cuda')\n",
    "        self.h3 = torch.zeros(self.num_layers_of_third_layer, self.hidden_size_of_third_layer).requires_grad_().double().to('cuda')\n",
    "\n",
    "    def forward(self, x):\n",
    "        y, self.h1 = self.input_layer(x, self.h1.detach().to('cuda'))\n",
    "        y = self.input_activation(y)\n",
    "        y, (self.h2_1, self.h2_2) = self.second_layer(y, (self.h2_1.detach().to('cuda'), self.h2_1.detach().to('cuda')))\n",
    "        y = self.second_activation(y)\n",
    "        y, self.h3 = self.third_layer(y, self.h3.detach().to('cuda'))\n",
    "        y = self.third_activation(y)\n",
    "        y = self.fourth_layer(y)\n",
    "        y = self.fourth_activation(y)\n",
    "        y = self.fifth_layer(y)\n",
    "        return y\n"
   ]
  },
  {
   "cell_type": "markdown",
   "metadata": {},
   "source": [
    "Gensim"
   ]
  },
  {
   "cell_type": "code",
   "execution_count": 54,
   "metadata": {},
   "outputs": [],
   "source": [
    "ds_train = torch.utils.data.TensorDataset(torch.from_numpy(X_train).double(), torch.from_numpy(y_train).double())\n",
    "dl_train = torch.utils.data.DataLoader(ds_train, batch_size=256, shuffle=True)\n"
   ]
  },
  {
   "cell_type": "code",
   "execution_count": 55,
   "metadata": {},
   "outputs": [],
   "source": [
    "model = CBow(\n",
    "    input_size=300,\n",
    "    hidden_size_of_first_layer=250,\n",
    "    num_layers_of_first_layer=3,\n",
    "    input_size_of_second_layer=250,\n",
    "    hidden_size_of_second_layer=200,\n",
    "    num_layers_of_second_layer=2,\n",
    "    input_size_of_third_layer=200,#100,\n",
    "    hidden_size_of_third_layer=100,\n",
    "    num_layers_of_third_layer=2,# y_train.shape[1],\n",
    "    input_size_of_fourth_layer=100,\n",
    "    output_size_of_fourth_layer=50,\n",
    "    input_size_of_fifth_layer=50,\n",
    "    output_size_of_fifth_layer=15,\n",
    "    output_layer_size=15# y_train.shape[1]\n",
    ").double().to('cuda')\n"
   ]
  },
  {
   "cell_type": "code",
   "execution_count": 56,
   "metadata": {},
   "outputs": [],
   "source": [
    "loss = torch.nn.MultiLabelSoftMarginLoss()\n",
    "optimizer = torch.optim.Adam(model.parameters(), lr=0.001)\n"
   ]
  },
  {
   "cell_type": "code",
   "execution_count": 57,
   "metadata": {},
   "outputs": [
    {
     "name": "stdout",
     "output_type": "stream",
     "text": [
      "Эпоха 1, Значение функции потерь: 0.24516368560508023\n",
      "Эпоха 2, Значение функции потерь: 0.2451052111169347\n",
      "Эпоха 3, Значение функции потерь: 0.2451234268864214\n",
      "Эпоха 4, Значение функции потерь: 0.24505103244528603\n",
      "Эпоха 5, Значение функции потерь: 0.2449121747745351\n",
      "Эпоха 6, Значение функции потерь: 0.24524206232400983\n",
      "Эпоха 7, Значение функции потерь: 0.2452511893925666\n",
      "Эпоха 8, Значение функции потерь: 0.24554834503849415\n",
      "Эпоха 9, Значение функции потерь: 0.24453651832441334\n",
      "Эпоха 10, Значение функции потерь: 0.24449404730937532\n"
     ]
    }
   ],
   "source": [
    "er_list=[]\n",
    "epochs = 10\n",
    "for epoch in range(epochs):\n",
    "    for x_b, y_b in dl_train:\n",
    "        outputs = model(x_b.to('cuda'))\n",
    "        # if len(er_list) > 1:\n",
    "        #     if er_list[-1] < 5:\n",
    "        #         optimizer = torch.optim.Adam(model.parameters(), lr=0.0000005)\n",
    "        #     else:\n",
    "        #         optimizer = torch.optim.Adam(model.parameters(), lr=0.0000005)\n",
    "        loss_value = loss(outputs, y_b.to('cuda'))\n",
    "        loss_value.backward(retain_graph=True)\n",
    "        optimizer.step()\n",
    "        optimizer.zero_grad()\n",
    "    er_list.append(loss_value.item())\n",
    "    print(f'Эпоха {epoch + 1}, Значение функции потерь: {loss_value.item()}')\n"
   ]
  },
  {
   "cell_type": "code",
   "execution_count": 46,
   "metadata": {},
   "outputs": [
    {
     "data": {
      "text/plain": [
       "tensor([[ 0.1852,  0.9927, -0.9999,  0.9962, -0.7371, -0.9471, -1.0000,  0.9492,\n",
       "          0.9050,  0.9983,  0.9851, -0.9715, -0.9999,  0.9998, -0.8736,  0.8558,\n",
       "          1.0000,  0.4294,  0.9998, -0.9582,  0.9978,  0.9987,  0.9992,  0.9993,\n",
       "         -0.9991, -0.9999,  0.9857,  0.9991,  1.0000, -0.9996,  0.9983, -0.9952,\n",
       "         -0.9983, -0.9698, -0.9990,  0.9280, -1.0000,  1.0000, -0.9984,  0.9993,\n",
       "          0.9990,  0.8397, -0.9992,  0.9982,  0.9806, -0.9997, -0.9399, -0.9997,\n",
       "          0.9999, -0.9830, -0.9996,  1.0000, -0.9958, -0.9988,  0.3825, -1.0000,\n",
       "         -0.9997,  0.9994, -0.9666,  0.9993, -0.9993,  0.9939, -0.9992,  1.0000,\n",
       "         -0.9996,  0.9999, -0.9979, -0.9997, -0.9994, -1.0000, -1.0000,  0.8835,\n",
       "         -0.2192,  0.9955,  1.0000,  0.9931, -0.9980,  0.9999,  0.8194, -0.9584,\n",
       "          0.9999,  0.9733,  0.9997, -1.0000,  0.8522,  0.9863, -0.9997,  0.2553,\n",
       "         -0.9993,  1.0000, -0.9999,  0.9847, -0.9208,  0.9996, -0.7958, -0.9992,\n",
       "          0.9973,  0.8229,  0.9904,  0.8691, -1.0000,  0.9987, -0.9999, -1.0000,\n",
       "         -0.9971,  1.0000,  0.9984,  0.9998, -1.0000, -0.9999, -0.8468, -0.9996,\n",
       "         -1.0000,  0.9997, -0.9999,  0.9192, -0.9995,  0.9994,  0.9950, -0.9902,\n",
       "         -0.9989,  0.8424, -0.9999,  0.9545,  0.9923, -0.9998, -0.9998, -0.9910,\n",
       "          0.9780,  0.6761,  0.9932, -0.9970, -1.0000, -1.0000, -0.9971, -0.9999,\n",
       "         -0.9997, -0.9947, -0.9993, -0.1142, -1.0000, -1.0000, -0.9998,  0.9959,\n",
       "         -0.9999, -0.9999,  0.9952,  0.9995,  1.0000,  0.9941,  0.9998, -0.7212,\n",
       "         -1.0000,  0.9994, -0.9999,  0.9998,  0.9986, -0.9999, -0.9997,  0.9997,\n",
       "          0.3561,  1.0000, -0.4087, -0.9898, -0.9874, -0.9999, -0.9987, -0.9858,\n",
       "         -0.9916, -0.9976,  0.9976,  0.9735, -0.9997,  0.9999,  1.0000,  0.9998,\n",
       "          1.0000,  0.9823,  0.9985, -0.9997,  0.9931, -0.9949, -0.9893,  0.9986,\n",
       "          0.9957,  0.9981,  0.9834,  0.9984,  1.0000, -0.9882,  1.0000,  1.0000,\n",
       "         -0.9999,  0.2108, -0.9998,  0.2258,  0.9999,  0.9991, -0.8296,  1.0000,\n",
       "          1.0000,  0.7185,  0.9977, -0.9999,  0.9976, -0.9041,  0.9999, -0.9931,\n",
       "          0.9998,  0.9960, -0.9996, -0.9999, -0.9999,  0.9999, -0.9965, -0.2036,\n",
       "          0.9910, -0.8305, -0.9741,  0.9999, -0.6478,  0.9999, -0.9996,  0.9981,\n",
       "          0.9797, -1.0000, -1.0000,  0.9997, -1.0000, -0.9988,  0.9989,  0.5229,\n",
       "         -0.8875,  0.9957, -0.9624,  0.7131,  1.0000,  0.9982,  0.9998,  0.9997,\n",
       "          1.0000, -0.9934,  0.9886, -0.9705,  0.9998, -0.9509,  0.9999, -0.9890,\n",
       "         -0.9242, -0.9855],\n",
       "        [-0.9990,  0.9944,  0.9999,  0.9976, -0.9998, -0.9995, -0.9998, -0.9834,\n",
       "          0.9447,  0.9987,  0.9998,  0.9991,  0.9995, -0.9994, -0.9999, -0.9994,\n",
       "         -0.9999, -0.9987, -0.7620, -0.9998, -0.9997,  0.6914, -0.9818, -0.5689,\n",
       "          0.0234, -0.9979, -0.9961, -0.9977, -0.9770, -0.9984,  0.9968, -0.9977,\n",
       "          0.9999, -0.9999, -0.5749,  0.9894,  0.9784, -0.9997,  0.9999, -0.4636,\n",
       "          0.9794,  0.1657, -0.9818,  0.9991, -0.9998,  0.9997, -0.9898,  0.9924,\n",
       "         -0.3575, -0.9439, -1.0000, -0.9392, -0.9121,  0.3946,  0.9998, -0.9997,\n",
       "          0.9880,  0.9309, -0.8816,  0.9890,  0.9999,  0.9882, -0.9891,  0.8767,\n",
       "         -0.9383,  0.9987, -0.9999,  0.9997,  0.9970, -0.9996,  0.8939,  0.9956,\n",
       "         -0.9994, -0.9974,  0.9991, -0.9999,  0.9998,  0.5490, -0.9822, -0.9991,\n",
       "         -0.9916,  0.0210,  0.9927, -0.9989, -0.9999, -0.9999,  0.9999,  0.9973,\n",
       "          0.9849,  0.9998, -0.9998,  0.9899,  0.9993, -0.9997,  0.9992,  0.9984,\n",
       "          0.9986,  0.9999, -0.9997,  0.6721,  0.9997, -0.1598,  0.5808, -0.8340,\n",
       "          0.9999, -0.1012,  0.9946,  1.0000, -0.9765,  0.9943,  0.9985,  0.9986,\n",
       "         -0.9077,  0.9999, -0.9998, -0.9999, -0.9970, -0.9994, -0.9984, -0.9999,\n",
       "          0.9995, -0.9992, -0.9999, -0.9997,  0.1450, -0.9995,  0.9955,  0.9996,\n",
       "         -0.9995,  0.7095,  0.9999,  0.9948, -0.9982, -0.9917, -0.9999, -0.7355,\n",
       "         -0.9995, -0.9925, -0.9963, -0.9960,  0.9994, -0.9997,  0.9993,  0.9970,\n",
       "         -0.9993,  0.9997,  0.8710, -0.9236,  0.9989,  0.8277,  0.9453,  0.9984,\n",
       "          0.9998, -0.9998,  0.9937, -0.9996, -0.9944, -0.5917, -0.9997, -1.0000,\n",
       "         -0.9985,  0.8648, -0.9971, -0.9993,  1.0000, -0.9985,  0.9809,  0.9956,\n",
       "          0.9947, -0.9995,  0.9980,  0.8988,  0.9965,  0.9781, -0.7143, -0.9918,\n",
       "         -0.5504, -0.9995, -0.7988,  0.9998,  0.9550, -0.9971, -0.9815,  0.9982,\n",
       "          0.9916,  0.9992,  0.9999,  0.5342,  0.9906, -0.9957, -0.9997, -0.9862,\n",
       "         -0.5909,  0.9997,  0.9856,  0.8888,  0.9996, -0.3667,  0.9947,  0.9993,\n",
       "          0.9957, -0.9993, -0.9863,  0.9999,  0.1209,  0.9798, -0.9894, -0.9969,\n",
       "         -0.9931,  0.2563,  0.9984,  0.9992,  0.9958, -0.9995,  0.9989,  0.9998,\n",
       "         -0.9375, -0.9999,  0.9999, -0.9913, -0.9768,  0.9229, -0.9935,  0.9994,\n",
       "          0.5895, -0.9884,  0.9985, -0.9658, -0.9943, -0.9898,  0.9700,  0.9960,\n",
       "          0.9999,  0.7209, -0.9940, -0.9996,  0.9997, -0.9998,  0.9984, -0.9995,\n",
       "         -0.9997, -0.9993, -0.9994,  1.0000, -0.9993,  0.9998,  0.9981, -0.9708,\n",
       "          0.8155,  0.9989],\n",
       "        [-0.9986,  1.0000, -0.9999, -0.9383,  0.9983,  0.9999,  0.9990, -0.9998,\n",
       "          0.9994, -0.9959, -0.9996, -0.9994, -0.9995,  0.9920,  0.9727,  0.9997,\n",
       "         -0.4201,  0.9948,  0.9993, -0.9995,  0.9999, -0.9998, -0.9997,  0.9999,\n",
       "          0.8658,  0.9999, -0.9998,  0.9166,  1.0000, -0.9998, -0.9998,  0.9997,\n",
       "         -0.9991, -0.5495, -0.9997,  0.9996, -0.9912,  0.9992,  0.9998,  0.7987,\n",
       "         -0.9990,  0.9992, -0.9992,  0.9995, -0.9998,  0.9996,  0.9994,  0.9993,\n",
       "         -0.9999, -0.9998,  0.9961, -0.9995,  0.9950,  0.9992, -0.9997,  0.9998,\n",
       "          0.8043,  0.9996, -0.9998, -0.9997, -0.9961,  0.9988, -0.9610, -1.0000,\n",
       "          0.9998,  0.8606, -0.9997,  0.9552, -0.9934,  0.9999,  0.9998, -0.9983,\n",
       "         -0.9995,  0.9999, -0.9995,  0.9472,  0.9997,  0.9998, -0.9992,  0.9994,\n",
       "         -0.9996, -0.9998, -0.9997,  0.9990,  0.9994, -0.9998,  0.9991, -0.9998,\n",
       "          0.9877,  0.9996,  0.7328,  0.9999,  0.9987,  0.9998, -0.9991,  0.9988,\n",
       "         -0.9637, -0.9999, -0.9997, -0.9991,  0.9890,  0.9998, -0.9997, -0.9999,\n",
       "          0.9999, -0.9981,  0.9959,  0.9999,  0.9964,  0.9996,  0.9986,  0.9999,\n",
       "         -0.9996,  0.9997, -0.9995,  0.9999,  0.9979,  0.9989, -0.6464, -0.9999,\n",
       "          0.9997, -0.9997,  0.9788, -0.9998,  0.9169,  0.9988, -0.9994, -0.9998,\n",
       "         -0.9985,  0.8009,  0.6683, -0.9989, -0.9999, -0.9979, -0.9999, -0.9963,\n",
       "         -0.9996,  0.9994,  0.9796, -0.9995,  0.9994,  0.9732, -0.9922, -0.9994,\n",
       "          0.6985,  0.2169, -0.9885,  0.9987,  0.9844,  0.9998, -0.9999, -0.3228,\n",
       "          0.9968,  0.9937,  0.9989,  0.9996,  0.9997, -0.9998,  0.9996, -0.9986,\n",
       "          0.9995, -0.9992, -0.3867,  0.9999,  0.9998, -0.9998, -0.9999, -0.9966,\n",
       "         -0.9936,  0.9999, -0.9996, -0.9996, -0.9999,  0.9960, -0.9999, -0.9999,\n",
       "         -1.0000,  0.9980,  0.9999, -0.7381, -0.9997,  0.9999,  0.9999, -0.9983,\n",
       "         -0.9997,  0.9986,  0.9999, -0.9998,  0.9451,  0.9999,  0.6854,  0.9998,\n",
       "          0.9995,  0.9997, -0.9995,  0.9996,  0.9871,  0.6337, -0.9969,  0.6257,\n",
       "          0.6598, -0.9445, -0.9998, -0.9998, -0.9998,  0.9984,  0.9784,  0.9998,\n",
       "         -0.9999,  0.9995, -0.9846,  0.9997,  0.9999,  0.4746, -0.9978,  0.9976,\n",
       "          0.9999, -0.9998, -0.9982,  0.9929,  0.9993,  0.0467,  0.9999,  0.9997,\n",
       "          0.5406,  0.9780, -0.9987, -0.9931,  0.9741, -0.9999, -0.9975, -0.9999,\n",
       "         -0.8530,  0.6452, -0.9968,  0.9911,  0.9981,  0.9997,  0.9998,  0.9997,\n",
       "          0.9993,  0.9998, -0.9644,  0.9985, -0.9516, -0.9220, -0.9988, -1.0000,\n",
       "          0.9999, -0.9999]], device='cuda:0', dtype=torch.float64,\n",
       "       grad_fn=<SqueezeBackward1>)"
      ]
     },
     "execution_count": 46,
     "metadata": {},
     "output_type": "execute_result"
    }
   ],
   "source": [
    "model.h1"
   ]
  },
  {
   "cell_type": "code",
   "execution_count": 47,
   "metadata": {},
   "outputs": [
    {
     "data": {
      "text/plain": [
       "[<matplotlib.lines.Line2D at 0x2c56b420af0>]"
      ]
     },
     "execution_count": 47,
     "metadata": {},
     "output_type": "execute_result"
    },
    {
     "data": {
      "image/png": "[encoded data removed]",
      "text/plain": [
       "<Figure size 640x480 with 1 Axes>"
      ]
     },
     "metadata": {},
     "output_type": "display_data"
    }
   ],
   "source": [
    "plt.plot(er_list)\n"
   ]
  },
  {
   "cell_type": "markdown",
   "metadata": {},
   "source": [
    "# Task 6\n",
    "Используя известные вам метрики классификации и тестирующую выборку оцените качество каждой из обученных моделей. Сделайте вывод о том, какая из моделей на ваших данных отработала лучше других."
   ]
  },
  {
   "cell_type": "code",
   "execution_count": 48,
   "metadata": {},
   "outputs": [],
   "source": [
    "X_, X_test, y_, y_test = train_test_split(\n",
    "    X,\n",
    "    np.array(pd.Series(y).apply(factorizerProb).to_list()),\n",
    "    test_size=0.1,\n",
    ")\n"
   ]
  },
  {
   "cell_type": "code",
   "execution_count": 49,
   "metadata": {},
   "outputs": [],
   "source": [
    "x_t = torch.tensor(X_test).to('cuda').double()\n",
    "# y_t = torch.tensor(y_test).to('cuda')\n"
   ]
  },
  {
   "cell_type": "code",
   "execution_count": 50,
   "metadata": {},
   "outputs": [],
   "source": [
    "torch.save(model, '../Models/Recur.pt')"
   ]
  },
  {
   "cell_type": "code",
   "execution_count": 51,
   "metadata": {},
   "outputs": [],
   "source": [
    "m = torch.load('../Models/Recur.pt')\n"
   ]
  },
  {
   "cell_type": "code",
   "execution_count": 52,
   "metadata": {},
   "outputs": [],
   "source": [
    "pred = model(x_t)\n"
   ]
  },
  {
   "cell_type": "code",
   "execution_count": 42,
   "metadata": {},
   "outputs": [
    {
     "data": {
      "text/plain": [
       "tensor([[-2.8336, -2.5916, -2.6908,  ..., -2.6373, -2.5578, -2.5612],\n",
       "        [-2.8336, -2.5916, -2.6908,  ..., -2.6373, -2.5578, -2.5612],\n",
       "        [-2.8336, -2.5916, -2.6908,  ..., -2.6373, -2.5578, -2.5612],\n",
       "        ...,\n",
       "        [-2.8336, -2.5916, -2.6908,  ..., -2.6373, -2.5578, -2.5612],\n",
       "        [-2.8336, -2.5916, -2.6908,  ..., -2.6373, -2.5578, -2.5612],\n",
       "        [-2.8336, -2.5916, -2.6908,  ..., -2.6373, -2.5578, -2.5612]],\n",
       "       device='cuda:0', dtype=torch.float64, grad_fn=<AddmmBackward0>)"
      ]
     },
     "execution_count": 42,
     "metadata": {},
     "output_type": "execute_result"
    }
   ],
   "source": [
    "pred\n"
   ]
  },
  {
   "cell_type": "code",
   "execution_count": 43,
   "metadata": {},
   "outputs": [
    {
     "data": {
      "text/plain": [
       "array([0, 0, 0, ..., 0, 0, 0], dtype=int64)"
      ]
     },
     "execution_count": 43,
     "metadata": {},
     "output_type": "execute_result"
    }
   ],
   "source": [
    "np.argmin(pred.to('cpu').detach().numpy(), axis=1)\n"
   ]
  },
  {
   "cell_type": "code",
   "execution_count": 44,
   "metadata": {},
   "outputs": [
    {
     "data": {
      "text/plain": [
       "array([14,  3,  8, ..., 11,  1, 11], dtype=int64)"
      ]
     },
     "execution_count": 44,
     "metadata": {},
     "output_type": "execute_result"
    }
   ],
   "source": [
    "np.argmax(y_test, axis=1)\n"
   ]
  },
  {
   "cell_type": "code",
   "execution_count": 45,
   "metadata": {},
   "outputs": [
    {
     "name": "stdout",
     "output_type": "stream",
     "text": [
      "              precision    recall  f1-score   support\n",
      "\n",
      "           0       0.00      0.00      0.00         0\n",
      "           1       0.00      0.00      0.00         0\n",
      "           2       0.00      0.00      0.00         0\n",
      "           3       0.00      0.00      0.00         0\n",
      "           4       0.00      0.00      0.00         0\n",
      "           5       0.00      0.00      0.00         0\n",
      "           6       0.00      0.00      0.00         0\n",
      "           7       0.00      0.00      0.00         0\n",
      "           8       0.00      0.00      0.00         0\n",
      "           9       0.00      0.00      0.00         0\n",
      "          10       0.00      0.00      0.00         0\n",
      "          11       0.00      0.00      0.00         0\n",
      "          12       0.00      0.00      0.00         0\n",
      "          13       1.00      0.07      0.12     52154\n",
      "          14       0.00      0.00      0.00         0\n",
      "\n",
      "    accuracy                           0.07     52154\n",
      "   macro avg       0.07      0.00      0.01     52154\n",
      "weighted avg       1.00      0.07      0.12     52154\n",
      "\n"
     ]
    },
    {
     "name": "stderr",
     "output_type": "stream",
     "text": [
      "d:\\5semak\\NLP_5_semak\\NLP\\lib\\site-packages\\sklearn\\metrics\\_classification.py:1469: UndefinedMetricWarning: Recall and F-score are ill-defined and being set to 0.0 in labels with no true samples. Use `zero_division` parameter to control this behavior.\n",
      "  _warn_prf(average, modifier, msg_start, len(result))\n",
      "d:\\5semak\\NLP_5_semak\\NLP\\lib\\site-packages\\sklearn\\metrics\\_classification.py:1469: UndefinedMetricWarning: Recall and F-score are ill-defined and being set to 0.0 in labels with no true samples. Use `zero_division` parameter to control this behavior.\n",
      "  _warn_prf(average, modifier, msg_start, len(result))\n",
      "d:\\5semak\\NLP_5_semak\\NLP\\lib\\site-packages\\sklearn\\metrics\\_classification.py:1469: UndefinedMetricWarning: Recall and F-score are ill-defined and being set to 0.0 in labels with no true samples. Use `zero_division` parameter to control this behavior.\n",
      "  _warn_prf(average, modifier, msg_start, len(result))\n"
     ]
    }
   ],
   "source": [
    "print(classification_report(np.argmax(pred.to('cpu').detach().numpy(), axis=1), np.argmax(y_test, axis=1)))"
   ]
  },
  {
   "cell_type": "markdown",
   "metadata": {},
   "source": [
    "# Вывод"
   ]
  },
  {
   "cell_type": "markdown",
   "metadata": {},
   "source": [
    "Чёт как-то оч не оч."
   ]
  }
 ],
 "metadata": {
  "kernelspec": {
   "display_name": "NLP",
   "language": "python",
   "name": "python3"
  },
  "language_info": {
   "codemirror_mode": {
    "name": "ipython",
    "version": 3
   },
   "file_extension": ".py",
   "mimetype": "text/x-python",
   "name": "python",
   "nbconvert_exporter": "python",
   "pygments_lexer": "ipython3",
   "version": "3.9.2"
  },
  "orig_nbformat": 4
 },
 "nbformat": 4,
 "nbformat_minor": 2
}
