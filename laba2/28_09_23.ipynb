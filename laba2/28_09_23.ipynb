{
 "cells": [
  {
   "cell_type": "code",
   "execution_count": 14,
   "metadata": {},
   "outputs": [],
   "source": [
    "import pandas as pd\n",
    "from nltk.tokenize import sent_tokenize\n",
    "from nltk.corpus import stopwords\n",
    "import re\n",
    "from string import punctuation\n",
    "import pymorphy2\n",
    "import numpy as np\n",
    "from scipy.linalg import eigh\n",
    "import nltk\n",
    "import torch\n",
    "import pickle\n",
    "import matplotlib.pyplot as plt\n",
    "import torchmetrics\n",
    "from sklearn.model_selection import train_test_split\n",
    "from sklearn.metrics import classification_report\n",
    "from navec import Navec\n",
    "from razdel import tokenize\n",
    "# from fasttext.util import download_model\n",
    "# import fasttext\n",
    "from gensim.models import Word2Vec\n"
   ]
  },
  {
   "cell_type": "code",
   "execution_count": 15,
   "metadata": {},
   "outputs": [],
   "source": [
    "rus_stop_words = stopwords.words(\"russian\")\n",
    "symbols = list(punctuation) + ['\\t', '\\n', '\\r',\n",
    "                               '№', '#', '@', '^', '%', '*', '»', '«', '×', 'ń', '√', 'а́']\n",
    "emojy = [\n",
    "    '\\xeb',\n",
    "    '\\ufffc',\n",
    "    '\\xbf',\n",
    "    '\\u2011',\n",
    "    '\\u200b',\n",
    "    '\\u203c'\n",
    "]\n",
    "morph = pymorphy2.MorphAnalyzer(lang='ru')\n"
   ]
  },
  {
   "cell_type": "code",
   "execution_count": 16,
   "metadata": {},
   "outputs": [],
   "source": [
    "emoj = re.compile('['\n",
    "                  u'\\U0001F600-\\U0001F64F'\n",
    "                  u'\\U0001F300-\\U0001F5FF'\n",
    "                  u'\\U0001F680-\\U0001F6FF'\n",
    "                  u'\\U0001F1E0-\\U0001F1FF'\n",
    "                  u'\\U00002500-\\U00002BEF'\n",
    "                  u'\\U00002702-\\U000027B0'\n",
    "                  u'\\U000024C2-\\U0001F251'\n",
    "                  u'\\U0001f926-\\U0001f937'\n",
    "                  u'\\U00010000-\\U0010ffff'\n",
    "                  u'\\u2640-\\u2642'\n",
    "                  u'\\u2600-\\u2B55'\n",
    "                  u'\\u200d'\n",
    "                  u'\\u23cf'\n",
    "                  u'\\u23e9'\n",
    "                  u'\\u231a'\n",
    "                  u'\\ufe0f'\n",
    "                  u'\\u3030'']+||(\\S+@\\S+\\.\\S+)||([+]*[(]{0,1}[0-9]{1,4}[)]{0,1}[-\\s\\./0-9]*)', re.UNICODE)\n"
   ]
  },
  {
   "cell_type": "markdown",
   "metadata": {},
   "source": [
    "# Task 1\n",
    "Загрузите датасет из ЛР1. Датасет большой, рекомендуется для работы взять его часть (далее - корпус)."
   ]
  },
  {
   "cell_type": "code",
   "execution_count": 17,
   "metadata": {},
   "outputs": [
    {
     "data": {
      "text/html": [
       "<div>\n",
       "<style scoped>\n",
       "    .dataframe tbody tr th:only-of-type {\n",
       "        vertical-align: middle;\n",
       "    }\n",
       "\n",
       "    .dataframe tbody tr th {\n",
       "        vertical-align: top;\n",
       "    }\n",
       "\n",
       "    .dataframe thead th {\n",
       "        text-align: right;\n",
       "    }\n",
       "</style>\n",
       "<table border=\"1\" class=\"dataframe\">\n",
       "  <thead>\n",
       "    <tr style=\"text-align: right;\">\n",
       "      <th></th>\n",
       "      <th>id</th>\n",
       "      <th>public_petition_text</th>\n",
       "      <th>reason_category</th>\n",
       "    </tr>\n",
       "  </thead>\n",
       "  <tbody>\n",
       "    <tr>\n",
       "      <th>0</th>\n",
       "      <td>3168490</td>\n",
       "      <td>снег на дороге</td>\n",
       "      <td>Благоустройство</td>\n",
       "    </tr>\n",
       "    <tr>\n",
       "      <th>1</th>\n",
       "      <td>3219678</td>\n",
       "      <td>очистить кабельный киоск от рекламы</td>\n",
       "      <td>Благоустройство</td>\n",
       "    </tr>\n",
       "    <tr>\n",
       "      <th>2</th>\n",
       "      <td>2963920</td>\n",
       "      <td>Просим убрать все деревья и кустарники, которы...</td>\n",
       "      <td>Благоустройство</td>\n",
       "    </tr>\n",
       "    <tr>\n",
       "      <th>3</th>\n",
       "      <td>3374910</td>\n",
       "      <td>Неудовлетворительное состояние парадной - надп...</td>\n",
       "      <td>Содержание МКД</td>\n",
       "    </tr>\n",
       "    <tr>\n",
       "      <th>4</th>\n",
       "      <td>3336285</td>\n",
       "      <td>Граффити</td>\n",
       "      <td>Благоустройство</td>\n",
       "    </tr>\n",
       "  </tbody>\n",
       "</table>\n",
       "</div>"
      ],
      "text/plain": [
       "        id                               public_petition_text  reason_category\n",
       "0  3168490                                     снег на дороге  Благоустройство\n",
       "1  3219678                очистить кабельный киоск от рекламы  Благоустройство\n",
       "2  2963920  Просим убрать все деревья и кустарники, которы...  Благоустройство\n",
       "3  3374910  Неудовлетворительное состояние парадной - надп...   Содержание МКД\n",
       "4  3336285                                           Граффити  Благоустройство"
      ]
     },
     "execution_count": 17,
     "metadata": {},
     "output_type": "execute_result"
    }
   ],
   "source": [
    "df = pd.read_csv('../Data/Petitions.csv')\n",
    "df.head()"
   ]
  },
  {
   "cell_type": "markdown",
   "metadata": {},
   "source": [
    "# Task 2\n",
    "Рассмотрите каждый объект корпуса как отдельный текстовый документ. Выполните предварительную обработку каждого объекта."
   ]
  },
  {
   "cell_type": "code",
   "execution_count": 18,
   "metadata": {},
   "outputs": [],
   "source": [
    "def filter_fun(text):\n",
    "    is_not_symbol = True\n",
    "    for i in text:\n",
    "        if i in symbols:\n",
    "            is_not_symbol = False\n",
    "    is_not_num = not bool(re.match('\\d+', text))\n",
    "    is_not_stop_word = not text in rus_stop_words\n",
    "    return is_not_num and is_not_symbol and is_not_stop_word\n"
   ]
  },
  {
   "cell_type": "code",
   "execution_count": 19,
   "metadata": {},
   "outputs": [],
   "source": [
    "def text_preprocessed(text: str):\n",
    "    text = text.lower()\n",
    "    for i in emojy:\n",
    "        text = text.replace(i, '')\n",
    "    text = list(map(lambda a: a.text, tokenize(text)))\n",
    "    text = list(filter(filter_fun, text))\n",
    "    text = [re.sub(emoj, '', msg) for msg in text]\n",
    "    text = list(map(lambda i: morph.parse(i)[0].normal_form, text))\n",
    "    return ' '.join(text)\n"
   ]
  },
  {
   "cell_type": "code",
   "execution_count": 20,
   "metadata": {},
   "outputs": [],
   "source": [
    "df['public_petition_text_modded'] = df['public_petition_text'].apply(text_preprocessed)\n"
   ]
  },
  {
   "cell_type": "code",
   "execution_count": 21,
   "metadata": {},
   "outputs": [
    {
     "data": {
      "text/html": [
       "<div>\n",
       "<style scoped>\n",
       "    .dataframe tbody tr th:only-of-type {\n",
       "        vertical-align: middle;\n",
       "    }\n",
       "\n",
       "    .dataframe tbody tr th {\n",
       "        vertical-align: top;\n",
       "    }\n",
       "\n",
       "    .dataframe thead th {\n",
       "        text-align: right;\n",
       "    }\n",
       "</style>\n",
       "<table border=\"1\" class=\"dataframe\">\n",
       "  <thead>\n",
       "    <tr style=\"text-align: right;\">\n",
       "      <th></th>\n",
       "      <th>id</th>\n",
       "      <th>public_petition_text</th>\n",
       "      <th>reason_category</th>\n",
       "      <th>public_petition_text_modded</th>\n",
       "    </tr>\n",
       "  </thead>\n",
       "  <tbody>\n",
       "    <tr>\n",
       "      <th>0</th>\n",
       "      <td>3168490</td>\n",
       "      <td>снег на дороге</td>\n",
       "      <td>Благоустройство</td>\n",
       "      <td>снег дорога</td>\n",
       "    </tr>\n",
       "    <tr>\n",
       "      <th>1</th>\n",
       "      <td>3219678</td>\n",
       "      <td>очистить кабельный киоск от рекламы</td>\n",
       "      <td>Благоустройство</td>\n",
       "      <td>очистить кабельный киоск реклама</td>\n",
       "    </tr>\n",
       "    <tr>\n",
       "      <th>2</th>\n",
       "      <td>2963920</td>\n",
       "      <td>Просим убрать все деревья и кустарники, которы...</td>\n",
       "      <td>Благоустройство</td>\n",
       "      <td>просить убрать дерево кустарник который выйти ...</td>\n",
       "    </tr>\n",
       "    <tr>\n",
       "      <th>3</th>\n",
       "      <td>3374910</td>\n",
       "      <td>Неудовлетворительное состояние парадной - надп...</td>\n",
       "      <td>Содержание МКД</td>\n",
       "      <td>неудовлетворительный состояние парадный надпис...</td>\n",
       "    </tr>\n",
       "    <tr>\n",
       "      <th>4</th>\n",
       "      <td>3336285</td>\n",
       "      <td>Граффити</td>\n",
       "      <td>Благоустройство</td>\n",
       "      <td>граффити</td>\n",
       "    </tr>\n",
       "  </tbody>\n",
       "</table>\n",
       "</div>"
      ],
      "text/plain": [
       "        id                               public_petition_text  \\\n",
       "0  3168490                                     снег на дороге   \n",
       "1  3219678                очистить кабельный киоск от рекламы   \n",
       "2  2963920  Просим убрать все деревья и кустарники, которы...   \n",
       "3  3374910  Неудовлетворительное состояние парадной - надп...   \n",
       "4  3336285                                           Граффити   \n",
       "\n",
       "   reason_category                        public_petition_text_modded  \n",
       "0  Благоустройство                                        снег дорога  \n",
       "1  Благоустройство                   очистить кабельный киоск реклама  \n",
       "2  Благоустройство  просить убрать дерево кустарник который выйти ...  \n",
       "3   Содержание МКД  неудовлетворительный состояние парадный надпис...  \n",
       "4  Благоустройство                                           граффити  "
      ]
     },
     "execution_count": 21,
     "metadata": {},
     "output_type": "execute_result"
    }
   ],
   "source": [
    "df.head()"
   ]
  },
  {
   "cell_type": "code",
   "execution_count": 22,
   "metadata": {},
   "outputs": [],
   "source": [
    "# df.to_csv('../Data/modded_normed_texts.csv', index=False)"
   ]
  },
  {
   "cell_type": "markdown",
   "metadata": {},
   "source": [
    "# Task 3\n",
    "Выполните векторизацию каждого документа любым способом (можно с помощью своих моделей Word2Vec, при условии, что Word2Vec модели обучались на той же выборке документов; можно использовать другие библиотеки и модели)."
   ]
  },
  {
   "cell_type": "code",
   "execution_count": 23,
   "metadata": {},
   "outputs": [
    {
     "data": {
      "text/html": [
       "<div>\n",
       "<style scoped>\n",
       "    .dataframe tbody tr th:only-of-type {\n",
       "        vertical-align: middle;\n",
       "    }\n",
       "\n",
       "    .dataframe tbody tr th {\n",
       "        vertical-align: top;\n",
       "    }\n",
       "\n",
       "    .dataframe thead th {\n",
       "        text-align: right;\n",
       "    }\n",
       "</style>\n",
       "<table border=\"1\" class=\"dataframe\">\n",
       "  <thead>\n",
       "    <tr style=\"text-align: right;\">\n",
       "      <th></th>\n",
       "      <th>id</th>\n",
       "      <th>public_petition_text</th>\n",
       "      <th>reason_category</th>\n",
       "      <th>public_petition_text_modded</th>\n",
       "    </tr>\n",
       "  </thead>\n",
       "  <tbody>\n",
       "    <tr>\n",
       "      <th>0</th>\n",
       "      <td>3168490</td>\n",
       "      <td>снег на дороге</td>\n",
       "      <td>Благоустройство</td>\n",
       "      <td>снег дорога</td>\n",
       "    </tr>\n",
       "    <tr>\n",
       "      <th>1</th>\n",
       "      <td>3219678</td>\n",
       "      <td>очистить кабельный киоск от рекламы</td>\n",
       "      <td>Благоустройство</td>\n",
       "      <td>очистить кабельный киоск реклама</td>\n",
       "    </tr>\n",
       "    <tr>\n",
       "      <th>2</th>\n",
       "      <td>2963920</td>\n",
       "      <td>Просим убрать все деревья и кустарники, которы...</td>\n",
       "      <td>Благоустройство</td>\n",
       "      <td>просить убрать дерево кустарник который выйти ...</td>\n",
       "    </tr>\n",
       "    <tr>\n",
       "      <th>3</th>\n",
       "      <td>3374910</td>\n",
       "      <td>Неудовлетворительное состояние парадной - надп...</td>\n",
       "      <td>Содержание МКД</td>\n",
       "      <td>неудовлетворительный состояние парадный надпис...</td>\n",
       "    </tr>\n",
       "    <tr>\n",
       "      <th>4</th>\n",
       "      <td>3336285</td>\n",
       "      <td>Граффити</td>\n",
       "      <td>Благоустройство</td>\n",
       "      <td>граффити</td>\n",
       "    </tr>\n",
       "  </tbody>\n",
       "</table>\n",
       "</div>"
      ],
      "text/plain": [
       "        id                               public_petition_text  \\\n",
       "0  3168490                                     снег на дороге   \n",
       "1  3219678                очистить кабельный киоск от рекламы   \n",
       "2  2963920  Просим убрать все деревья и кустарники, которы...   \n",
       "3  3374910  Неудовлетворительное состояние парадной - надп...   \n",
       "4  3336285                                           Граффити   \n",
       "\n",
       "   reason_category                        public_petition_text_modded  \n",
       "0  Благоустройство                                        снег дорога  \n",
       "1  Благоустройство                   очистить кабельный киоск реклама  \n",
       "2  Благоустройство  просить убрать дерево кустарник который выйти ...  \n",
       "3   Содержание МКД  неудовлетворительный состояние парадный надпис...  \n",
       "4  Благоустройство                                           граффити  "
      ]
     },
     "execution_count": 23,
     "metadata": {},
     "output_type": "execute_result"
    }
   ],
   "source": [
    "df_t3 = pd.read_csv('../Data/modded_normed_texts.csv').dropna()\n",
    "df_t3.head()\n"
   ]
  },
  {
   "cell_type": "code",
   "execution_count": 24,
   "metadata": {},
   "outputs": [
    {
     "data": {
      "text/plain": [
       "0                                           [снег, дорога]\n",
       "1                    [очистить, кабельный, киоск, реклама]\n",
       "2        [просить, убрать, дерево, кустарник, который, ...\n",
       "3        [неудовлетворительный, состояние, парадный, на...\n",
       "4                                               [граффити]\n",
       "                               ...                        \n",
       "59884                       [просить, закрасить, граффити]\n",
       "59885      [просить, отремонтировать, пешеходный, дорожка]\n",
       "59886    [необходимо, демонтировать, незаконный, реклам...\n",
       "59887    [очень, греметь, ветер, металлический, часть, ...\n",
       "59888    [два, проблема, один, незаконный, надпись, объ...\n",
       "Name: public_petition_text_modded, Length: 59888, dtype: object"
      ]
     },
     "execution_count": 24,
     "metadata": {},
     "output_type": "execute_result"
    }
   ],
   "source": [
    "texts = df_t3['public_petition_text_modded'].apply(lambda a: a.split(' '))\n",
    "texts\n"
   ]
  },
  {
   "cell_type": "code",
   "execution_count": 25,
   "metadata": {},
   "outputs": [],
   "source": [
    "w2v = Word2Vec(sentences=texts.to_list(), min_count=1, vector_size=128, epochs=128)\n"
   ]
  },
  {
   "cell_type": "code",
   "execution_count": 26,
   "metadata": {},
   "outputs": [],
   "source": [
    "# ft = fasttext.train_unsupervised('all_messages_text.txt', model='skipgram', dim=128)"
   ]
  },
  {
   "cell_type": "code",
   "execution_count": 40,
   "metadata": {},
   "outputs": [],
   "source": [
    "# w2v.save('../Models/W@VLib.bin')"
   ]
  },
  {
   "cell_type": "markdown",
   "metadata": {},
   "source": [
    "# Task 4 \n",
    "Закодируйте значения целевого признака (категория обращения). Разделите данные на обучающую и тестирующую выборку."
   ]
  },
  {
   "cell_type": "code",
   "execution_count": 41,
   "metadata": {},
   "outputs": [],
   "source": [
    "w2v = Word2Vec.load('../Models/W@VLib.bin')\n"
   ]
  },
  {
   "cell_type": "code",
   "execution_count": 27,
   "metadata": {},
   "outputs": [
    {
     "data": {
      "text/html": [
       "<div>\n",
       "<style scoped>\n",
       "    .dataframe tbody tr th:only-of-type {\n",
       "        vertical-align: middle;\n",
       "    }\n",
       "\n",
       "    .dataframe tbody tr th {\n",
       "        vertical-align: top;\n",
       "    }\n",
       "\n",
       "    .dataframe thead th {\n",
       "        text-align: right;\n",
       "    }\n",
       "</style>\n",
       "<table border=\"1\" class=\"dataframe\">\n",
       "  <thead>\n",
       "    <tr style=\"text-align: right;\">\n",
       "      <th></th>\n",
       "      <th>id</th>\n",
       "      <th>public_petition_text</th>\n",
       "      <th>reason_category</th>\n",
       "      <th>public_petition_text_modded</th>\n",
       "    </tr>\n",
       "  </thead>\n",
       "  <tbody>\n",
       "    <tr>\n",
       "      <th>0</th>\n",
       "      <td>3168490</td>\n",
       "      <td>снег на дороге</td>\n",
       "      <td>Благоустройство</td>\n",
       "      <td>снег дорога</td>\n",
       "    </tr>\n",
       "    <tr>\n",
       "      <th>1</th>\n",
       "      <td>3219678</td>\n",
       "      <td>очистить кабельный киоск от рекламы</td>\n",
       "      <td>Благоустройство</td>\n",
       "      <td>очистить кабельный киоск реклама</td>\n",
       "    </tr>\n",
       "    <tr>\n",
       "      <th>2</th>\n",
       "      <td>2963920</td>\n",
       "      <td>Просим убрать все деревья и кустарники, которы...</td>\n",
       "      <td>Благоустройство</td>\n",
       "      <td>просить убрать дерево кустарник который выйти ...</td>\n",
       "    </tr>\n",
       "    <tr>\n",
       "      <th>3</th>\n",
       "      <td>3374910</td>\n",
       "      <td>Неудовлетворительное состояние парадной - надп...</td>\n",
       "      <td>Содержание МКД</td>\n",
       "      <td>неудовлетворительный состояние парадный надпис...</td>\n",
       "    </tr>\n",
       "    <tr>\n",
       "      <th>4</th>\n",
       "      <td>3336285</td>\n",
       "      <td>Граффити</td>\n",
       "      <td>Благоустройство</td>\n",
       "      <td>граффити</td>\n",
       "    </tr>\n",
       "  </tbody>\n",
       "</table>\n",
       "</div>"
      ],
      "text/plain": [
       "        id                               public_petition_text  \\\n",
       "0  3168490                                     снег на дороге   \n",
       "1  3219678                очистить кабельный киоск от рекламы   \n",
       "2  2963920  Просим убрать все деревья и кустарники, которы...   \n",
       "3  3374910  Неудовлетворительное состояние парадной - надп...   \n",
       "4  3336285                                           Граффити   \n",
       "\n",
       "   reason_category                        public_petition_text_modded  \n",
       "0  Благоустройство                                        снег дорога  \n",
       "1  Благоустройство                   очистить кабельный киоск реклама  \n",
       "2  Благоустройство  просить убрать дерево кустарник который выйти ...  \n",
       "3   Содержание МКД  неудовлетворительный состояние парадный надпис...  \n",
       "4  Благоустройство                                           граффити  "
      ]
     },
     "execution_count": 27,
     "metadata": {},
     "output_type": "execute_result"
    }
   ],
   "source": [
    "df_t4 = pd.read_csv('../Data/modded_normed_texts.csv').dropna()\n",
    "df_t4.head()\n"
   ]
  },
  {
   "cell_type": "code",
   "execution_count": 28,
   "metadata": {},
   "outputs": [],
   "source": [
    "with open('../Data/problems_number.pkl', 'wb') as f:\n",
    "    pickle.dump(dict(enumerate(df_t4['reason_category'].factorize()[1])), f)\n"
   ]
  },
  {
   "cell_type": "code",
   "execution_count": 29,
   "metadata": {},
   "outputs": [],
   "source": [
    "with open('../Data/problems_number.pkl', 'rb') as f:\n",
    "    problems_number = pickle.load(f)\n"
   ]
  },
  {
   "cell_type": "code",
   "execution_count": 30,
   "metadata": {},
   "outputs": [],
   "source": [
    "def factorizerProb(id: int):\n",
    "    v = np.zeros(max(problems_number)+1, dtype=int)\n",
    "    v[id] = 1\n",
    "    return v\n"
   ]
  },
  {
   "cell_type": "code",
   "execution_count": 31,
   "metadata": {},
   "outputs": [],
   "source": [
    "df_t4['reason_category'] = df_t4['reason_category'].factorize()[0]\n"
   ]
  },
  {
   "cell_type": "code",
   "execution_count": 32,
   "metadata": {},
   "outputs": [
    {
     "data": {
      "text/html": [
       "<div>\n",
       "<style scoped>\n",
       "    .dataframe tbody tr th:only-of-type {\n",
       "        vertical-align: middle;\n",
       "    }\n",
       "\n",
       "    .dataframe tbody tr th {\n",
       "        vertical-align: top;\n",
       "    }\n",
       "\n",
       "    .dataframe thead th {\n",
       "        text-align: right;\n",
       "    }\n",
       "</style>\n",
       "<table border=\"1\" class=\"dataframe\">\n",
       "  <thead>\n",
       "    <tr style=\"text-align: right;\">\n",
       "      <th></th>\n",
       "      <th>id</th>\n",
       "      <th>public_petition_text</th>\n",
       "      <th>reason_category</th>\n",
       "      <th>public_petition_text_modded</th>\n",
       "      <th>reason_category2</th>\n",
       "    </tr>\n",
       "  </thead>\n",
       "  <tbody>\n",
       "    <tr>\n",
       "      <th>0</th>\n",
       "      <td>3168490</td>\n",
       "      <td>снег на дороге</td>\n",
       "      <td>0</td>\n",
       "      <td>снег дорога</td>\n",
       "      <td>[1, 0, 0, 0, 0, 0, 0, 0, 0, 0, 0, 0, 0, 0, 0]</td>\n",
       "    </tr>\n",
       "    <tr>\n",
       "      <th>1</th>\n",
       "      <td>3219678</td>\n",
       "      <td>очистить кабельный киоск от рекламы</td>\n",
       "      <td>0</td>\n",
       "      <td>очистить кабельный киоск реклама</td>\n",
       "      <td>[1, 0, 0, 0, 0, 0, 0, 0, 0, 0, 0, 0, 0, 0, 0]</td>\n",
       "    </tr>\n",
       "    <tr>\n",
       "      <th>2</th>\n",
       "      <td>2963920</td>\n",
       "      <td>Просим убрать все деревья и кустарники, которы...</td>\n",
       "      <td>0</td>\n",
       "      <td>просить убрать дерево кустарник который выйти ...</td>\n",
       "      <td>[1, 0, 0, 0, 0, 0, 0, 0, 0, 0, 0, 0, 0, 0, 0]</td>\n",
       "    </tr>\n",
       "    <tr>\n",
       "      <th>3</th>\n",
       "      <td>3374910</td>\n",
       "      <td>Неудовлетворительное состояние парадной - надп...</td>\n",
       "      <td>1</td>\n",
       "      <td>неудовлетворительный состояние парадный надпис...</td>\n",
       "      <td>[0, 1, 0, 0, 0, 0, 0, 0, 0, 0, 0, 0, 0, 0, 0]</td>\n",
       "    </tr>\n",
       "    <tr>\n",
       "      <th>4</th>\n",
       "      <td>3336285</td>\n",
       "      <td>Граффити</td>\n",
       "      <td>0</td>\n",
       "      <td>граффити</td>\n",
       "      <td>[1, 0, 0, 0, 0, 0, 0, 0, 0, 0, 0, 0, 0, 0, 0]</td>\n",
       "    </tr>\n",
       "  </tbody>\n",
       "</table>\n",
       "</div>"
      ],
      "text/plain": [
       "        id                               public_petition_text  \\\n",
       "0  3168490                                     снег на дороге   \n",
       "1  3219678                очистить кабельный киоск от рекламы   \n",
       "2  2963920  Просим убрать все деревья и кустарники, которы...   \n",
       "3  3374910  Неудовлетворительное состояние парадной - надп...   \n",
       "4  3336285                                           Граффити   \n",
       "\n",
       "   reason_category                        public_petition_text_modded  \\\n",
       "0                0                                        снег дорога   \n",
       "1                0                   очистить кабельный киоск реклама   \n",
       "2                0  просить убрать дерево кустарник который выйти ...   \n",
       "3                1  неудовлетворительный состояние парадный надпис...   \n",
       "4                0                                           граффити   \n",
       "\n",
       "                                reason_category2  \n",
       "0  [1, 0, 0, 0, 0, 0, 0, 0, 0, 0, 0, 0, 0, 0, 0]  \n",
       "1  [1, 0, 0, 0, 0, 0, 0, 0, 0, 0, 0, 0, 0, 0, 0]  \n",
       "2  [1, 0, 0, 0, 0, 0, 0, 0, 0, 0, 0, 0, 0, 0, 0]  \n",
       "3  [0, 1, 0, 0, 0, 0, 0, 0, 0, 0, 0, 0, 0, 0, 0]  \n",
       "4  [1, 0, 0, 0, 0, 0, 0, 0, 0, 0, 0, 0, 0, 0, 0]  "
      ]
     },
     "execution_count": 32,
     "metadata": {},
     "output_type": "execute_result"
    }
   ],
   "source": [
    "df_t4['reason_category2'] = df_t4['reason_category'].apply(factorizerProb)\n",
    "df_t4.head()\n"
   ]
  },
  {
   "cell_type": "code",
   "execution_count": 33,
   "metadata": {},
   "outputs": [],
   "source": [
    "c = df_t4.copy(deep=True)\n",
    "c['reason_category2'] = c['reason_category2'].apply(lambda a: ''.join(map(str, a)))\n",
    "c.to_csv('../Data/factorize_classes.csv', index=False)"
   ]
  },
  {
   "cell_type": "code",
   "execution_count": 34,
   "metadata": {},
   "outputs": [
    {
     "data": {
      "text/plain": [
       "array([[1, 0, 0, ..., 0, 0, 0],\n",
       "       [1, 0, 0, ..., 0, 0, 0],\n",
       "       [1, 0, 0, ..., 0, 0, 0],\n",
       "       ...,\n",
       "       [0, 0, 1, ..., 0, 0, 0],\n",
       "       [0, 0, 0, ..., 0, 0, 0],\n",
       "       [1, 0, 0, ..., 0, 0, 0]])"
      ]
     },
     "execution_count": 34,
     "metadata": {},
     "output_type": "execute_result"
    }
   ],
   "source": [
    "vectored_classes = np.array(df_t4['reason_category2'].to_list())\n",
    "vectored_classes\n",
    "\n"
   ]
  },
  {
   "cell_type": "code",
   "execution_count": 35,
   "metadata": {},
   "outputs": [
    {
     "data": {
      "text/plain": [
       "239"
      ]
     },
     "execution_count": 35,
     "metadata": {},
     "output_type": "execute_result"
    }
   ],
   "source": [
    "max_sentence_len = df_t4['public_petition_text_modded'].apply(lambda a: len(a.split(' '))).max()\n",
    "max_sentence_len\n"
   ]
  },
  {
   "cell_type": "code",
   "execution_count": 36,
   "metadata": {},
   "outputs": [
    {
     "data": {
      "text/plain": [
       "(59888, 128)"
      ]
     },
     "execution_count": 36,
     "metadata": {},
     "output_type": "execute_result"
    }
   ],
   "source": [
    "vectored_sentece_sum = np.array(df_t4['public_petition_text_modded'].apply(lambda a: sum([w2v.wv[i] for i in a.split(' ')])).to_list())\n",
    "vectored_sentece_sum.shape\n"
   ]
  },
  {
   "cell_type": "code",
   "execution_count": 37,
   "metadata": {},
   "outputs": [],
   "source": [
    "def make_sentence_matrix(sentence, max_sentence_len, k):\n",
    "    x = np.array([w2v.wv[i].tolist() for i in sentence.split(' ')])\n",
    "    y = np.append(x, k * np.ones((max_sentence_len-x.shape[0], x.shape[1])), axis=0)\n",
    "    return y.tolist()\n"
   ]
  },
  {
   "cell_type": "code",
   "execution_count": 38,
   "metadata": {},
   "outputs": [
    {
     "data": {
      "text/plain": [
       "array([[1, 0, 0, ..., 0, 0, 0],\n",
       "       [1, 0, 0, ..., 0, 0, 0],\n",
       "       [1, 0, 0, ..., 0, 0, 0],\n",
       "       ...,\n",
       "       [0, 0, 1, ..., 0, 0, 0],\n",
       "       [0, 0, 0, ..., 0, 0, 0],\n",
       "       [1, 0, 0, ..., 0, 0, 0]])"
      ]
     },
     "execution_count": 38,
     "metadata": {},
     "output_type": "execute_result"
    }
   ],
   "source": [
    "vectored_classes = np.array(df_t4['reason_category2'].to_list())\n",
    "vectored_classes\n"
   ]
  },
  {
   "cell_type": "code",
   "execution_count": 107,
   "metadata": {},
   "outputs": [],
   "source": [
    "sentence_matrix = np.array(df_t4['public_petition_text_modded'].apply(lambda a: make_sentence_matrix(a, 239, 1)).tolist()).shape\n"
   ]
  },
  {
   "cell_type": "code",
   "execution_count": 44,
   "metadata": {},
   "outputs": [],
   "source": [
    "from imblearn.over_sampling import SMOTE\n",
    "from imblearn.under_sampling import RandomUnderSampler\n"
   ]
  },
  {
   "cell_type": "code",
   "execution_count": 51,
   "metadata": {},
   "outputs": [
    {
     "data": {
      "text/plain": [
       "((3570, 128), (3570, 15))"
      ]
     },
     "execution_count": 51,
     "metadata": {},
     "output_type": "execute_result"
    }
   ],
   "source": [
    "X, y = RandomUnderSampler(\n",
    "    # sampling_strategy='',\n",
    "    # n_jobs=4\n",
    ").fit_resample(\n",
    "    vectored_sentece_sum,\n",
    "    df_t4['reason_category']\n",
    ")\n",
    "X.shape, np.array(pd.Series(y).apply(factorizerProb).to_list()).shape\n"
   ]
  },
  {
   "cell_type": "code",
   "execution_count": 52,
   "metadata": {},
   "outputs": [
    {
     "data": {
      "text/plain": [
       "reason_category\n",
       "0     238\n",
       "1     238\n",
       "2     238\n",
       "3     238\n",
       "4     238\n",
       "5     238\n",
       "6     238\n",
       "7     238\n",
       "8     238\n",
       "9     238\n",
       "10    238\n",
       "11    238\n",
       "12    238\n",
       "13    238\n",
       "14    238\n",
       "Name: count, dtype: int64"
      ]
     },
     "execution_count": 52,
     "metadata": {},
     "output_type": "execute_result"
    }
   ],
   "source": [
    "pd.Series(y).value_counts()\n"
   ]
  },
  {
   "cell_type": "code",
   "execution_count": 54,
   "metadata": {},
   "outputs": [],
   "source": [
    "X_train, X_test, y_train, y_test = train_test_split(\n",
    "    X,\n",
    "    y,\n",
    "    test_size=0.1,\n",
    ")\n"
   ]
  },
  {
   "cell_type": "code",
   "execution_count": 60,
   "metadata": {},
   "outputs": [],
   "source": [
    "y_train_v = np.array(y_train.apply(factorizerProb).to_list())\n",
    "y_test_v = np.array(y_test.apply(factorizerProb).to_list())\n"
   ]
  },
  {
   "cell_type": "markdown",
   "metadata": {},
   "source": [
    "# Task 5\n",
    "С помощью PyTorch соберите и обучите три нейронных сети для решения задачи классификации (предсказания категории обращения); количество слоев и значения других параметров конфигурируете по вашему усмотрению:\n",
    "1) сеть на базе блока RNN;\n",
    "2) сеть на базе блока LSTM;\n",
    "3) сеть на базе блока GRU."
   ]
  },
  {
   "cell_type": "code",
   "execution_count": 70,
   "metadata": {},
   "outputs": [],
   "source": [
    "class RecExample(torch.nn.Module):\n",
    "    def __init__(\n",
    "        self,\n",
    "        size_of_sample: int,\n",
    "        num_of_samples: int,\n",
    "        input_size_of_first_layer: int,\n",
    "        input_size_of_second_layer: int,\n",
    "        input_size_of_third_layer: int,\n",
    "        input_layer_size: int,\n",
    "        alpha: float = 5\n",
    "    ):\n",
    "        \n",
    "        super(RecExample, self).__init__()\n",
    "        self.alpha = alpha\n",
    "        self.input_size_of_first_layer = size_of_sample\n",
    "        self.output_size_of_first_layer = input_size_of_first_layer\n",
    "        self.num_layers_of_first_layer = int(num_of_samples / (alpha * (self.input_size_of_first_layer + self.output_size_of_first_layer)))\n",
    "        self.output_size_of_second_layer = input_size_of_second_layer\n",
    "        self.output_size_of_third_layer = input_size_of_third_layer\n",
    "        self.output_layer_size = input_layer_size\n",
    "\n",
    "        self.input_layer = torch.nn.GRU(\n",
    "            input_size=self.input_size_of_first_layer,\n",
    "            hidden_size=self.output_size_of_first_layer,\n",
    "            num_layers=self.num_layers_of_first_layer\n",
    "        )\n",
    "\n",
    "        self.second_layer = torch.nn.Linear(\n",
    "            in_features=self.output_size_of_first_layer,\n",
    "            out_features=self.output_size_of_second_layer,\n",
    "        )\n",
    "        self.third_layer = torch.nn.Linear(\n",
    "            in_features=self.output_size_of_second_layer,\n",
    "            out_features=self.output_size_of_third_layer,\n",
    "        )\n",
    "        self.output_layer = torch.nn.Linear(\n",
    "            in_features=self.output_size_of_third_layer,\n",
    "            out_features=self.output_layer_size,\n",
    "        )\n",
    "\n",
    "        self.input_activation = torch.nn.Tanh()\n",
    "        self.second_activation = torch.nn.Tanh()\n",
    "        self.third_activation = torch.nn.Tanh()\n",
    "        self.h1 = torch.zeros(self.num_layers_of_first_layer, self.output_size_of_first_layer).requires_grad_().double().to('cuda')\n",
    "\n",
    "    def forward(self, x):\n",
    "        y, self.h1 = self.input_layer(x, self.h1.detach().to('cuda'))\n",
    "        y = self.input_activation(y)\n",
    "        y = self.second_layer(y)\n",
    "        y = self.second_activation(y)\n",
    "        y = self.third_layer(y)\n",
    "        y = self.third_activation(y)\n",
    "        y = self.output_layer(y)\n",
    "        return y\n"
   ]
  },
  {
   "cell_type": "code",
   "execution_count": 71,
   "metadata": {},
   "outputs": [],
   "source": [
    "ds_train = torch.utils.data.TensorDataset(torch.from_numpy(X_train).double(), torch.from_numpy(y_train_v).double())\n",
    "dl_train = torch.utils.data.DataLoader(ds_train, batch_size=128, shuffle=True)\n"
   ]
  },
  {
   "cell_type": "code",
   "execution_count": 77,
   "metadata": {},
   "outputs": [],
   "source": [
    "model = RecExample(\n",
    "    size_of_sample=X_train.shape[1],\n",
    "    num_of_samples=X.shape[0],\n",
    "    input_size_of_first_layer=64,\n",
    "    input_size_of_second_layer=40,\n",
    "    input_size_of_third_layer=25,\n",
    "    input_layer_size=15,\n",
    ").double().to('cuda')\n"
   ]
  },
  {
   "cell_type": "code",
   "execution_count": 78,
   "metadata": {},
   "outputs": [],
   "source": [
    "loss = torch.nn.MultiLabelSoftMarginLoss()\n",
    "optimizer = torch.optim.Adam(model.parameters(), lr=0.00001)\n"
   ]
  },
  {
   "cell_type": "code",
   "execution_count": 95,
   "metadata": {},
   "outputs": [
    {
     "name": "stdout",
     "output_type": "stream",
     "text": [
      "Эпоха 1, Значение функции потерь: 0.29329206450854933\n",
      "Эпоха 2, Значение функции потерь: 0.2827049006116894\n",
      "Эпоха 3, Значение функции потерь: 0.28998401393463846\n",
      "Эпоха 4, Значение функции потерь: 0.278518920781981\n",
      "Эпоха 5, Значение функции потерь: 0.29332792928097334\n",
      "Эпоха 6, Значение функции потерь: 0.28307222282980177\n",
      "Эпоха 7, Значение функции потерь: 0.2805189316474313\n",
      "Эпоха 8, Значение функции потерь: 0.28826980615850895\n",
      "Эпоха 9, Значение функции потерь: 0.28428618813734774\n",
      "Эпоха 10, Значение функции потерь: 0.27579651364143853\n",
      "Эпоха 11, Значение функции потерь: 0.27383498055120636\n",
      "Эпоха 12, Значение функции потерь: 0.2698338507950124\n",
      "Эпоха 13, Значение функции потерь: 0.2721464646568616\n",
      "Эпоха 14, Значение функции потерь: 0.28056723450179744\n",
      "Эпоха 15, Значение функции потерь: 0.27887713284860777\n",
      "Эпоха 16, Значение функции потерь: 0.27165692714815315\n",
      "Эпоха 17, Значение функции потерь: 0.27442400783497667\n",
      "Эпоха 18, Значение функции потерь: 0.2731736414848867\n",
      "Эпоха 19, Значение функции потерь: 0.27765743740328175\n",
      "Эпоха 20, Значение функции потерь: 0.2848146206450662\n",
      "Эпоха 21, Значение функции потерь: 0.2599529985403175\n",
      "Эпоха 22, Значение функции потерь: 0.2827392830459357\n",
      "Эпоха 23, Значение функции потерь: 0.279773664103075\n",
      "Эпоха 24, Значение функции потерь: 0.2757916010113778\n",
      "Эпоха 25, Значение функции потерь: 0.2705629887180717\n",
      "Эпоха 26, Значение функции потерь: 0.26680662755743634\n",
      "Эпоха 27, Значение функции потерь: 0.27445368296204947\n",
      "Эпоха 28, Значение функции потерь: 0.27502236078376213\n",
      "Эпоха 29, Значение функции потерь: 0.2688862364932763\n",
      "Эпоха 30, Значение функции потерь: 0.2625592867536599\n",
      "Эпоха 31, Значение функции потерь: 0.2686925063759109\n",
      "Эпоха 32, Значение функции потерь: 0.27101679575634446\n",
      "Эпоха 33, Значение функции потерь: 0.26670210619669915\n",
      "Эпоха 34, Значение функции потерь: 0.26858375291972053\n",
      "Эпоха 35, Значение функции потерь: 0.27915094270612056\n",
      "Эпоха 36, Значение функции потерь: 0.24967958871415208\n",
      "Эпоха 37, Значение функции потерь: 0.2677399043812688\n",
      "Эпоха 38, Значение функции потерь: 0.27865731893564566\n",
      "Эпоха 39, Значение функции потерь: 0.2758235700724373\n",
      "Эпоха 40, Значение функции потерь: 0.26265901106964223\n",
      "Эпоха 41, Значение функции потерь: 0.27365781026676517\n",
      "Эпоха 42, Значение функции потерь: 0.27936584475878173\n",
      "Эпоха 43, Значение функции потерь: 0.27743141761793483\n",
      "Эпоха 44, Значение функции потерь: 0.26287311792444734\n",
      "Эпоха 45, Значение функции потерь: 0.2791590844991086\n",
      "Эпоха 46, Значение функции потерь: 0.26531580365101315\n",
      "Эпоха 47, Значение функции потерь: 0.2676337740253401\n",
      "Эпоха 48, Значение функции потерь: 0.2758012808424399\n",
      "Эпоха 49, Значение функции потерь: 0.26495057482425893\n",
      "Эпоха 50, Значение функции потерь: 0.26532754180296336\n",
      "Эпоха 51, Значение функции потерь: 0.26434551304112147\n",
      "Эпоха 52, Значение функции потерь: 0.2671258558559159\n",
      "Эпоха 53, Значение функции потерь: 0.2744566625123058\n",
      "Эпоха 54, Значение функции потерь: 0.26695992621259523\n",
      "Эпоха 55, Значение функции потерь: 0.25901983111596005\n",
      "Эпоха 56, Значение функции потерь: 0.27281123523434736\n",
      "Эпоха 57, Значение функции потерь: 0.25493548101488006\n",
      "Эпоха 58, Значение функции потерь: 0.26815194814300713\n",
      "Эпоха 59, Значение функции потерь: 0.2665480992311334\n",
      "Эпоха 60, Значение функции потерь: 0.25748944677880287\n",
      "Эпоха 61, Значение функции потерь: 0.258655706034371\n",
      "Эпоха 62, Значение функции потерь: 0.2581005106151587\n",
      "Эпоха 63, Значение функции потерь: 0.26730595937846313\n",
      "Эпоха 64, Значение функции потерь: 0.2624082267621693\n",
      "Эпоха 65, Значение функции потерь: 0.2604581466578132\n",
      "Эпоха 66, Значение функции потерь: 0.2665430487639799\n",
      "Эпоха 67, Значение функции потерь: 0.26663140384473705\n",
      "Эпоха 68, Значение функции потерь: 0.2693968742654581\n",
      "Эпоха 69, Значение функции потерь: 0.2671639142711371\n",
      "Эпоха 70, Значение функции потерь: 0.2554473228284146\n",
      "Эпоха 71, Значение функции потерь: 0.255829738059955\n",
      "Эпоха 72, Значение функции потерь: 0.2622525224735586\n",
      "Эпоха 73, Значение функции потерь: 0.2594127643837358\n",
      "Эпоха 74, Значение функции потерь: 0.2699373658458395\n",
      "Эпоха 75, Значение функции потерь: 0.2692589478142712\n",
      "Эпоха 76, Значение функции потерь: 0.2553713172736715\n",
      "Эпоха 77, Значение функции потерь: 0.2566922145535915\n",
      "Эпоха 78, Значение функции потерь: 0.2610015598578617\n",
      "Эпоха 79, Значение функции потерь: 0.250866274284174\n",
      "Эпоха 80, Значение функции потерь: 0.25169324526378933\n",
      "Эпоха 81, Значение функции потерь: 0.2610173792335356\n",
      "Эпоха 82, Значение функции потерь: 0.25287292695852537\n",
      "Эпоха 83, Значение функции потерь: 0.26157019256562025\n",
      "Эпоха 84, Значение функции потерь: 0.2568404693063531\n",
      "Эпоха 85, Значение функции потерь: 0.26043378032793274\n",
      "Эпоха 86, Значение функции потерь: 0.2632813586019866\n",
      "Эпоха 87, Значение функции потерь: 0.2575480094619614\n",
      "Эпоха 88, Значение функции потерь: 0.26051103527010466\n",
      "Эпоха 89, Значение функции потерь: 0.25497768314404795\n",
      "Эпоха 90, Значение функции потерь: 0.2579016560881701\n",
      "Эпоха 91, Значение функции потерь: 0.2574303849284588\n",
      "Эпоха 92, Значение функции потерь: 0.2580590032128903\n",
      "Эпоха 93, Значение функции потерь: 0.2556419114247194\n",
      "Эпоха 94, Значение функции потерь: 0.2676528180800135\n",
      "Эпоха 95, Значение функции потерь: 0.2592483445238605\n",
      "Эпоха 96, Значение функции потерь: 0.24742440042538988\n",
      "Эпоха 97, Значение функции потерь: 0.2535504530188374\n",
      "Эпоха 98, Значение функции потерь: 0.2607434213027384\n",
      "Эпоха 99, Значение функции потерь: 0.26168483091651606\n",
      "Эпоха 100, Значение функции потерь: 0.2677504402051188\n",
      "Эпоха 101, Значение функции потерь: 0.25849391842793706\n",
      "Эпоха 102, Значение функции потерь: 0.24574716335949406\n",
      "Эпоха 103, Значение функции потерь: 0.2537892500187045\n",
      "Эпоха 104, Значение функции потерь: 0.25742436354938814\n",
      "Эпоха 105, Значение функции потерь: 0.24883949034223668\n",
      "Эпоха 106, Значение функции потерь: 0.25660075624647816\n",
      "Эпоха 107, Значение функции потерь: 0.2540748679792961\n",
      "Эпоха 108, Значение функции потерь: 0.2570855975046306\n",
      "Эпоха 109, Значение функции потерь: 0.2559288072210119\n",
      "Эпоха 110, Значение функции потерь: 0.25380610015564925\n",
      "Эпоха 111, Значение функции потерь: 0.25017019049485156\n",
      "Эпоха 112, Значение функции потерь: 0.255246225793325\n",
      "Эпоха 113, Значение функции потерь: 0.26038815361898543\n",
      "Эпоха 114, Значение функции потерь: 0.2533930241709571\n",
      "Эпоха 115, Значение функции потерь: 0.25507907035550514\n",
      "Эпоха 116, Значение функции потерь: 0.25276082006079853\n",
      "Эпоха 117, Значение функции потерь: 0.2545306235810836\n",
      "Эпоха 118, Значение функции потерь: 0.25759840576996096\n",
      "Эпоха 119, Значение функции потерь: 0.25495415893542434\n",
      "Эпоха 120, Значение функции потерь: 0.2474596561724118\n",
      "Эпоха 121, Значение функции потерь: 0.25599879715924956\n",
      "Эпоха 122, Значение функции потерь: 0.2445762940643594\n",
      "Эпоха 123, Значение функции потерь: 0.25068798912350115\n",
      "Эпоха 124, Значение функции потерь: 0.24775490696061883\n",
      "Эпоха 125, Значение функции потерь: 0.2476768747984226\n",
      "Эпоха 126, Значение функции потерь: 0.25795533316600233\n",
      "Эпоха 127, Значение функции потерь: 0.24960481449758232\n",
      "Эпоха 128, Значение функции потерь: 0.24826423656216418\n",
      "Эпоха 129, Значение функции потерь: 0.252134350245347\n",
      "Эпоха 130, Значение функции потерь: 0.2500575893812963\n",
      "Эпоха 131, Значение функции потерь: 0.24987148628224098\n",
      "Эпоха 132, Значение функции потерь: 0.25404778867993993\n",
      "Эпоха 133, Значение функции потерь: 0.24843160851995771\n",
      "Эпоха 134, Значение функции потерь: 0.2591396242213386\n",
      "Эпоха 135, Значение функции потерь: 0.2560566331967623\n",
      "Эпоха 136, Значение функции потерь: 0.2516307823394854\n",
      "Эпоха 137, Значение функции потерь: 0.25965075083882255\n",
      "Эпоха 138, Значение функции потерь: 0.25093815605302844\n",
      "Эпоха 139, Значение функции потерь: 0.24669962347672492\n",
      "Эпоха 140, Значение функции потерь: 0.24750064213132708\n",
      "Эпоха 141, Значение функции потерь: 0.2504721224321574\n",
      "Эпоха 142, Значение функции потерь: 0.2582227530615976\n",
      "Эпоха 143, Значение функции потерь: 0.24698181382867535\n",
      "Эпоха 144, Значение функции потерь: 0.25108258074667816\n",
      "Эпоха 145, Значение функции потерь: 0.24087442871172915\n",
      "Эпоха 146, Значение функции потерь: 0.24635342027010362\n",
      "Эпоха 147, Значение функции потерь: 0.24871841607814638\n",
      "Эпоха 148, Значение функции потерь: 0.2502571975236979\n",
      "Эпоха 149, Значение функции потерь: 0.24990443987866892\n",
      "Эпоха 150, Значение функции потерь: 0.24243020835255777\n",
      "Эпоха 151, Значение функции потерь: 0.25428328386845916\n",
      "Эпоха 152, Значение функции потерь: 0.25043737750948775\n",
      "Эпоха 153, Значение функции потерь: 0.25163750916720995\n",
      "Эпоха 154, Значение функции потерь: 0.2505095994611843\n",
      "Эпоха 155, Значение функции потерь: 0.2508082239652301\n",
      "Эпоха 156, Значение функции потерь: 0.25270653018664135\n",
      "Эпоха 157, Значение функции потерь: 0.24736309759531228\n",
      "Эпоха 158, Значение функции потерь: 0.25084159272277445\n",
      "Эпоха 159, Значение функции потерь: 0.24704576066166872\n",
      "Эпоха 160, Значение функции потерь: 0.2491315204690425\n",
      "Эпоха 161, Значение функции потерь: 0.25325211386491936\n",
      "Эпоха 162, Значение функции потерь: 0.2511438582536338\n",
      "Эпоха 163, Значение функции потерь: 0.24745086560318572\n",
      "Эпоха 164, Значение функции потерь: 0.24755999276774068\n",
      "Эпоха 165, Значение функции потерь: 0.251610693269612\n",
      "Эпоха 166, Значение функции потерь: 0.24872236359735053\n",
      "Эпоха 167, Значение функции потерь: 0.24846080749880503\n",
      "Эпоха 168, Значение функции потерь: 0.2533895787753825\n",
      "Эпоха 169, Значение функции потерь: 0.25563027563609175\n",
      "Эпоха 170, Значение функции потерь: 0.24974090045496178\n",
      "Эпоха 171, Значение функции потерь: 0.2475159586721057\n",
      "Эпоха 172, Значение функции потерь: 0.25570134159036256\n",
      "Эпоха 173, Значение функции потерь: 0.25382836853120283\n",
      "Эпоха 174, Значение функции потерь: 0.24981277509444316\n",
      "Эпоха 175, Значение функции потерь: 0.25283320624994393\n",
      "Эпоха 176, Значение функции потерь: 0.2472615655274128\n",
      "Эпоха 177, Значение функции потерь: 0.25155522727015034\n",
      "Эпоха 178, Значение функции потерь: 0.244648061461747\n",
      "Эпоха 179, Значение функции потерь: 0.25247841281103056\n",
      "Эпоха 180, Значение функции потерь: 0.25354660130523915\n",
      "Эпоха 181, Значение функции потерь: 0.251997133500529\n",
      "Эпоха 182, Значение функции потерь: 0.24233098594749794\n",
      "Эпоха 183, Значение функции потерь: 0.24410410259667725\n",
      "Эпоха 184, Значение функции потерь: 0.2507996791940705\n",
      "Эпоха 185, Значение функции потерь: 0.25268112886964883\n",
      "Эпоха 186, Значение функции потерь: 0.25077250572652693\n",
      "Эпоха 187, Значение функции потерь: 0.24743075595489822\n",
      "Эпоха 188, Значение функции потерь: 0.25132617181840206\n",
      "Эпоха 189, Значение функции потерь: 0.25031935061208904\n",
      "Эпоха 190, Значение функции потерь: 0.24777168668849417\n",
      "Эпоха 191, Значение функции потерь: 0.2458062294132423\n",
      "Эпоха 192, Значение функции потерь: 0.24231336848957044\n",
      "Эпоха 193, Значение функции потерь: 0.24216199977399\n",
      "Эпоха 194, Значение функции потерь: 0.24641854812106795\n",
      "Эпоха 195, Значение функции потерь: 0.25380852383078195\n",
      "Эпоха 196, Значение функции потерь: 0.24904021426191802\n",
      "Эпоха 197, Значение функции потерь: 0.24857704673814396\n",
      "Эпоха 198, Значение функции потерь: 0.24507158841219218\n",
      "Эпоха 199, Значение функции потерь: 0.24719381757254164\n",
      "Эпоха 200, Значение функции потерь: 0.24517944558222585\n"
     ]
    }
   ],
   "source": [
    "# er_list = []\n",
    "epochs = 200\n",
    "for epoch in range(epochs):\n",
    "    for x_b, y_b in dl_train:\n",
    "        outputs = model(x_b.to('cuda'))\n",
    "        loss_value = loss(outputs, y_b.to('cuda'))\n",
    "        loss_value.backward(retain_graph=True)\n",
    "        optimizer.step()\n",
    "        optimizer.zero_grad()\n",
    "    er_list.append(loss_value.item())\n",
    "    print(f'Эпоха {epoch + 1}, Значение функции потерь: {loss_value.item()}')\n"
   ]
  },
  {
   "cell_type": "code",
   "execution_count": 96,
   "metadata": {},
   "outputs": [
    {
     "data": {
      "text/plain": [
       "[<matplotlib.lines.Line2D at 0x2d4f4aae880>]"
      ]
     },
     "execution_count": 96,
     "metadata": {},
     "output_type": "execute_result"
    },
    {
     "data": {
      "image/png": "[encoded data removed]",
      "text/plain": [
       "<Figure size 640x480 with 1 Axes>"
      ]
     },
     "metadata": {},
     "output_type": "display_data"
    }
   ],
   "source": [
    "plt.plot(er_list)\n"
   ]
  },
  {
   "cell_type": "markdown",
   "metadata": {},
   "source": [
    "# Task 6\n",
    "Используя известные вам метрики классификации и тестирующую выборку оцените качество каждой из обученных моделей. Сделайте вывод о том, какая из моделей на ваших данных отработала лучше других."
   ]
  },
  {
   "cell_type": "code",
   "execution_count": 97,
   "metadata": {},
   "outputs": [],
   "source": [
    "x_t = torch.tensor(X_test).to('cuda').double()\n",
    "# y_t = torch.tensor(y_test).to('cuda')\n"
   ]
  },
  {
   "cell_type": "code",
   "execution_count": 98,
   "metadata": {},
   "outputs": [],
   "source": [
    "torch.save(model, '../Models/Recur.pt')"
   ]
  },
  {
   "cell_type": "code",
   "execution_count": 99,
   "metadata": {},
   "outputs": [],
   "source": [
    "m = torch.load('../Models/Recur.pt')\n"
   ]
  },
  {
   "cell_type": "code",
   "execution_count": 100,
   "metadata": {},
   "outputs": [],
   "source": [
    "pred = model(x_t)\n"
   ]
  },
  {
   "cell_type": "code",
   "execution_count": 101,
   "metadata": {},
   "outputs": [
    {
     "data": {
      "text/plain": [
       "tensor([[-2.4137, -2.6265, -2.5646,  ..., -2.5793, -2.4260, -2.5124],\n",
       "        [-2.4137, -2.6265, -2.5646,  ..., -2.5793, -2.4260, -2.5124],\n",
       "        [-2.4137, -2.6265, -2.5646,  ..., -2.5793, -2.4260, -2.5124],\n",
       "        ...,\n",
       "        [-2.4137, -2.6265, -2.5645,  ..., -2.5793, -2.4259, -2.5124],\n",
       "        [-2.4137, -2.6265, -2.5645,  ..., -2.5793, -2.4259, -2.5124],\n",
       "        [-2.4137, -2.6265, -2.5645,  ..., -2.5793, -2.4260, -2.5124]],\n",
       "       device='cuda:0', dtype=torch.float64, grad_fn=<AddmmBackward0>)"
      ]
     },
     "execution_count": 101,
     "metadata": {},
     "output_type": "execute_result"
    }
   ],
   "source": [
    "pred\n"
   ]
  },
  {
   "cell_type": "code",
   "execution_count": 103,
   "metadata": {},
   "outputs": [
    {
     "data": {
      "text/plain": [
       "array([5, 5, 5, 5, 5, 5, 5, 5, 5, 5, 5, 5, 5, 5, 5, 5, 5, 5, 5, 5, 5, 5,\n",
       "       5, 5, 5, 5, 5, 5, 5, 5, 5, 5, 5, 5, 5, 5, 5, 5, 5, 5, 5, 5, 5, 5,\n",
       "       5, 5, 5, 5, 5, 5, 5, 5, 5, 5, 5, 5, 5, 5, 5, 5, 5, 5, 5, 5, 5, 5,\n",
       "       5, 5, 5, 5, 5, 5, 5, 5, 5, 5, 5, 5, 5, 5, 5, 5, 5, 5, 5, 5, 5, 5,\n",
       "       5, 5, 5, 5, 5, 5, 5, 5, 5, 5, 5, 5, 5, 5, 5, 5, 5, 5, 5, 5, 5, 5,\n",
       "       5, 5, 5, 5, 5, 5, 5, 5, 5, 5, 5, 5, 5, 5, 5, 5, 5, 5, 5, 5, 5, 5,\n",
       "       5, 5, 5, 5, 5, 5, 5, 5, 5, 5, 5, 5, 5, 5, 5, 5, 5, 5, 5, 5, 5, 5,\n",
       "       5, 5, 5, 5, 5, 5, 5, 5, 5, 5, 5, 5, 5, 5, 5, 5, 5, 5, 5, 5, 5, 5,\n",
       "       5, 5, 5, 5, 5, 5, 5, 5, 5, 5, 5, 5, 5, 5, 5, 5, 5, 5, 5, 5, 5, 5,\n",
       "       5, 5, 5, 5, 5, 5, 5, 5, 5, 5, 5, 5, 5, 5, 5, 5, 5, 5, 5, 5, 5, 5,\n",
       "       5, 5, 5, 5, 5, 5, 5, 5, 5, 5, 5, 5, 5, 5, 5, 5, 5, 5, 5, 5, 5, 5,\n",
       "       5, 5, 5, 5, 5, 5, 5, 5, 5, 5, 5, 5, 5, 5, 5, 5, 5, 5, 5, 5, 5, 5,\n",
       "       5, 5, 5, 5, 5, 5, 5, 5, 5, 5, 5, 5, 5, 5, 5, 5, 5, 5, 5, 5, 5, 5,\n",
       "       5, 5, 5, 5, 5, 5, 5, 5, 5, 5, 5, 5, 5, 5, 5, 5, 5, 5, 5, 5, 5, 5,\n",
       "       5, 5, 5, 5, 5, 5, 5, 5, 5, 5, 5, 5, 5, 5, 5, 5, 5, 5, 5, 5, 5, 5,\n",
       "       5, 5, 5, 5, 5, 5, 5, 5, 5, 5, 5, 5, 5, 5, 5, 5, 5, 5, 5, 5, 5, 5,\n",
       "       5, 5, 5, 5, 5], dtype=int64)"
      ]
     },
     "execution_count": 103,
     "metadata": {},
     "output_type": "execute_result"
    }
   ],
   "source": [
    "np.argmax(pred.to('cpu').detach().numpy(), axis=1)\n"
   ]
  },
  {
   "cell_type": "code",
   "execution_count": 105,
   "metadata": {},
   "outputs": [
    {
     "name": "stdout",
     "output_type": "stream",
     "text": [
      "              precision    recall  f1-score   support\n",
      "\n",
      "           0       0.00      0.00      0.00         0\n",
      "           1       0.00      0.00      0.00         0\n",
      "           2       0.00      0.00      0.00         0\n",
      "           3       0.00      0.00      0.00         0\n",
      "           4       0.00      0.00      0.00         0\n",
      "           5       1.00      0.08      0.14       357\n",
      "           6       0.00      0.00      0.00         0\n",
      "           7       0.00      0.00      0.00         0\n",
      "           8       0.00      0.00      0.00         0\n",
      "           9       0.00      0.00      0.00         0\n",
      "          10       0.00      0.00      0.00         0\n",
      "          11       0.00      0.00      0.00         0\n",
      "          12       0.00      0.00      0.00         0\n",
      "          13       0.00      0.00      0.00         0\n",
      "          14       0.00      0.00      0.00         0\n",
      "\n",
      "    accuracy                           0.08       357\n",
      "   macro avg       0.07      0.01      0.01       357\n",
      "weighted avg       1.00      0.08      0.14       357\n",
      "\n"
     ]
    },
    {
     "name": "stderr",
     "output_type": "stream",
     "text": [
      "d:\\5semak\\NLP_5_semak\\NLP\\lib\\site-packages\\sklearn\\metrics\\_classification.py:1469: UndefinedMetricWarning: Recall and F-score are ill-defined and being set to 0.0 in labels with no true samples. Use `zero_division` parameter to control this behavior.\n",
      "  _warn_prf(average, modifier, msg_start, len(result))\n",
      "d:\\5semak\\NLP_5_semak\\NLP\\lib\\site-packages\\sklearn\\metrics\\_classification.py:1469: UndefinedMetricWarning: Recall and F-score are ill-defined and being set to 0.0 in labels with no true samples. Use `zero_division` parameter to control this behavior.\n",
      "  _warn_prf(average, modifier, msg_start, len(result))\n",
      "d:\\5semak\\NLP_5_semak\\NLP\\lib\\site-packages\\sklearn\\metrics\\_classification.py:1469: UndefinedMetricWarning: Recall and F-score are ill-defined and being set to 0.0 in labels with no true samples. Use `zero_division` parameter to control this behavior.\n",
      "  _warn_prf(average, modifier, msg_start, len(result))\n"
     ]
    }
   ],
   "source": [
    "print(classification_report(np.argmax(pred.to('cpu').detach().numpy(), axis=1), y_test))"
   ]
  },
  {
   "cell_type": "markdown",
   "metadata": {},
   "source": [
    "# Вывод"
   ]
  },
  {
   "cell_type": "markdown",
   "metadata": {},
   "source": [
    "Чёт как-то оч не оч."
   ]
  }
 ],
 "metadata": {
  "kernelspec": {
   "display_name": "NLP",
   "language": "python",
   "name": "python3"
  },
  "language_info": {
   "codemirror_mode": {
    "name": "ipython",
    "version": 3
   },
   "file_extension": ".py",
   "mimetype": "text/x-python",
   "name": "python",
   "nbconvert_exporter": "python",
   "pygments_lexer": "ipython3",
   "version": "3.9.2"
  },
  "orig_nbformat": 4
 },
 "nbformat": 4,
 "nbformat_minor": 2
}
