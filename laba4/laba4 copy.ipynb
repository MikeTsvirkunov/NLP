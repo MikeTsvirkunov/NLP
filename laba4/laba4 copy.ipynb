{
 "cells": [
  {
   "cell_type": "code",
   "execution_count": 2,
   "metadata": {},
   "outputs": [
    {
     "name": "stdout",
     "output_type": "stream",
     "text": [
      "1.12.0+cu116 True\n"
     ]
    }
   ],
   "source": [
    "import torchdata\n",
    "import torch\n",
    "from gensim.models import FastText\n",
    "import pandas as pd\n",
    "import re\n",
    "import numpy as np\n",
    "import pickle\n",
    "import os\n",
    "import matplotlib.pyplot as plt \n",
    "import seaborn as sns\n",
    "import spacy\n",
    "from transformers import AutoModel, AutoTokenizer\n",
    "\n",
    "from tqdm.auto import tqdm\n",
    "\n",
    "IGNORE_SAVED_FILES = True\n",
    "print(torch.__version__, torch.cuda.is_available())\n",
    "tokenizer = AutoTokenizer.from_pretrained(\"ai-forever/sbert_large_nlu_ru\")\n",
    "vectorizer = AutoModel.from_pretrained(\"ai-forever/sbert_large_nlu_ru\")"
   ]
  },
  {
   "cell_type": "code",
   "execution_count": 3,
   "metadata": {},
   "outputs": [],
   "source": [
    "with open('./../Data/anek_utf8/anek_utf8.txt', 'r', encoding='utf-8') as f:\n",
    "    data = f.read()"
   ]
  },
  {
   "cell_type": "code",
   "execution_count": 47,
   "metadata": {},
   "outputs": [],
   "source": [
    "data_r =  data.replace('<|startoftext|>', '').replace('\\\\', '').replace('\\\\\\\\', '').split('\\n\\n')"
   ]
  },
  {
   "cell_type": "code",
   "execution_count": 48,
   "metadata": {},
   "outputs": [],
   "source": [
    "def print_simple_data_pipe(date_pipe: torchdata.datapipes.iter.IterDataPipe, f=lambda a: a, n=10) -> None:\n",
    "  print(type(date_pipe))\n",
    "  x = 0\n",
    "  for sample in date_pipe:\n",
    "    print(f(sample))\n",
    "    if x == n:\n",
    "      break\n",
    "    x +=1"
   ]
  },
  {
   "cell_type": "code",
   "execution_count": 49,
   "metadata": {},
   "outputs": [],
   "source": [
    "def bad_patterns_to_tags_replaser2(text: str):\n",
    "    text = re.sub(r'\\d+\\:\\d+\\:\\d+', ' <TIME> ', text)\n",
    "    text = re.sub(r'\\d+\\:\\d+', ' <TIME> ', text)\n",
    "    text = re.sub(r'\\+{,1}\\d{1,3}\\({,1}[\\-\\s]{,1}\\d{3}\\){,1}[\\-\\s]{,1}\\d{3}[\\-\\s]{,1}\\d{2}[\\-\\s]{,1}\\d{2}', ' <PHONE> ', text)\n",
    "    text = re.sub('\\d+/\\d+/\\d+', ' <DATE> ', text)\n",
    "    text = re.sub('\\d+-\\d+-\\d+', ' <DATE> ', text)\n",
    "    text = re.sub('\\d+th', ' <ENUM> ', text)\n",
    "    text = re.sub('\\d+rd', ' <ENUM> ', text)\n",
    "    text = re.sub('\\d+st', ' <ENUM> ', text)\n",
    "    text = re.sub('[\\+\\-]?\\d+.\\d+', ' <NUM> ', text)\n",
    "    text = re.sub('[\\+\\-]?\\d+,\\d+', ' <NUM> ', text)\n",
    "    text = re.sub('\\d+', ' <NUM> ', text)\n",
    "    # text = re.sub(r'\\w+\\.', '<SHORT>', text[0:-1]) + '.'\n",
    "    text = re.sub(',', ' , ', text)\n",
    "    text = re.sub(';', ' ; ', text)\n",
    "    text = re.sub(';', ' ; ', text)\n",
    "    text = re.sub('-', ' - ', text)\n",
    "    text = re.sub(':', ' : ', text)\n",
    "    text = re.sub('\\?', ' \\? ', text)\n",
    "    text = re.sub('\"', ' \" ', text)\n",
    "    text = re.sub(\"'\", \" ' \", text)\n",
    "    text = re.sub(r'\\s+', ' ', text)\n",
    "    text = re.sub('\\.', ' . ', text)\n",
    "    text = re.sub('\\(', ' ( ', text)\n",
    "    text = re.sub('\\)', ' ) ', text)\n",
    "    text = re.sub('\\.  \\.  \\.', ' ... ', text)\n",
    "    text = re.sub('\\s+', ' ', text)\n",
    "    return text[0:-1]"
   ]
  },
  {
   "cell_type": "code",
   "execution_count": 50,
   "metadata": {},
   "outputs": [
    {
     "data": {
      "text/plain": [
       "0.07142857142857142"
      ]
     },
     "execution_count": 50,
     "metadata": {},
     "output_type": "execute_result"
    }
   ],
   "source": [
    "tags = ['<SOS>', '<EOS>', '<PAD>', '<UNK>', '<NAN>', '<NUM>', '<TIME>', '<ENUM>', '<DATE>', '<PHONE>', '<EMAIL>', '<SHORT>', '<NAME>']\n",
    "tags_value = pd.DataFrame({'values': [i / (1+len(tags)) for i in range(1, 1+len(tags))]}, index=tags,)\n",
    "tags_value.loc['<SOS>', 'values']\n"
   ]
  },
  {
   "cell_type": "code",
   "execution_count": 51,
   "metadata": {},
   "outputs": [],
   "source": [
    "data_c =pd.Series(list(map(bad_patterns_to_tags_replaser2, data_r)))"
   ]
  },
  {
   "cell_type": "code",
   "execution_count": 52,
   "metadata": {},
   "outputs": [],
   "source": [
    "data_c.to_csv('./../Data/anek_utf8/only_text.csv', index=False)"
   ]
  },
  {
   "cell_type": "markdown",
   "metadata": {},
   "source": [
    "# choose len"
   ]
  },
  {
   "cell_type": "code",
   "execution_count": 9,
   "metadata": {},
   "outputs": [],
   "source": [
    "lengthes = np.array(list(map(lambda a: len(a.split(' ')), data_c)))\n"
   ]
  },
  {
   "cell_type": "code",
   "execution_count": 10,
   "metadata": {},
   "outputs": [
    {
     "data": {
      "text/plain": [
       "(array([ 7476., 36989., 35532., 21685., 10836.,  5528.,  2474.,   871.,\n",
       "          219.,    42.]),\n",
       " array([ 2., 10., 18., 26., 34., 42., 50., 58., 66., 74., 82.]),\n",
       " <BarContainer object of 10 artists>)"
      ]
     },
     "execution_count": 10,
     "metadata": {},
     "output_type": "execute_result"
    },
    {
     "data": {
      "image/png": "[encoded data removed]",
      "text/plain": [
       "<Figure size 640x480 with 1 Axes>"
      ]
     },
     "metadata": {},
     "output_type": "display_data"
    }
   ],
   "source": [
    "plt.hist(lengthes)"
   ]
  },
  {
   "cell_type": "markdown",
   "metadata": {},
   "source": [
    "# to torch data"
   ]
  },
  {
   "cell_type": "code",
   "execution_count": 64,
   "metadata": {},
   "outputs": [],
   "source": [
    "def tokenize(sentence):\n",
    "    return tokenizer([sentence], padding=True, truncation=True, pad_to_multiple_of=32, max_length=32, return_tensors='pt')"
   ]
  },
  {
   "cell_type": "code",
   "execution_count": 68,
   "metadata": {},
   "outputs": [],
   "source": [
    "def input_data_check_data_spliter(data):\n",
    "    with torch.no_grad():\n",
    "        d_t = tokenize(data[0])\n",
    "        d_v = vectorizer(**d_t)[0]\n",
    "    return d_t['input_ids'], d_v, data\n"
   ]
  },
  {
   "cell_type": "code",
   "execution_count": 58,
   "metadata": {},
   "outputs": [
    {
     "name": "stdout",
     "output_type": "stream",
     "text": [
      "<class 'torch.utils.data.datapipes.map.utils.SequenceWrapperMapDataPipe'>\n",
      "['Сразу после окончания Прямой линии , Путин пожаловался на дефицит интересных и актуальных вопросов , отметив , что критическое положение , слава богу , спасли осмысленные вопросы Шнурова , и очень своевременно поднятый вопрос о ситуации с Дзюбой .']\n",
      "['Это Аркадий . Аркадий попал в армию через постель . Он проспал госэкзамены .']\n",
      "['Толкучка в атобусе . Автобус резко тормозит и женщина падает на рядом седящего свещеника , восклицает : \" Ого! \" . На что свещеник отвечает : \" Не ого , а ключ от храма \" .']\n",
      "['Интересно , гадалка уже догадалась , что я еду к ней в Чертаново бухая в очко \\\\?']\n"
     ]
    }
   ],
   "source": [
    "output_res = torchdata.datapipes.iter.IterableWrapper(['./../Data/anek_utf8/only_text.csv'])\n",
    "output_res_pipe = torchdata.datapipes.iter.FileOpener(output_res, mode='r', encoding='utf-8', length=data_c.shape[0])\n",
    "res_pipe = output_res_pipe.parse_csv(skip_lines=1, delimiter=',')\n",
    "res_pipe = torchdata.datapipes.map.SequenceWrapper(list(res_pipe))\n",
    "print_simple_data_pipe(res_pipe, n=3)\n"
   ]
  },
  {
   "cell_type": "code",
   "execution_count": 78,
   "metadata": {},
   "outputs": [
    {
     "name": "stdout",
     "output_type": "stream",
     "text": [
      "<class 'torch.utils.data.datapipes.map.callable.MapperMapDataPipe'>\n",
      "(torch.Size([1, 32]), torch.Size([1, 32, 1024]), ['Сразу после окончания Прямой линии , Путин пожаловался на дефицит интересных и актуальных вопросов , отметив , что критическое положение , слава богу , спасли осмысленные вопросы Шнурова , и очень своевременно поднятый вопрос о ситуации с Дзюбой .'])\n",
      "(torch.Size([1, 32]), torch.Size([1, 32, 1024]), ['Это Аркадий . Аркадий попал в армию через постель . Он проспал госэкзамены .'])\n",
      "(torch.Size([1, 32]), torch.Size([1, 32, 1024]), ['Толкучка в атобусе . Автобус резко тормозит и женщина падает на рядом седящего свещеника , восклицает : \" Ого! \" . На что свещеник отвечает : \" Не ого , а ключ от храма \" .'])\n",
      "(torch.Size([1, 32]), torch.Size([1, 32, 1024]), ['Интересно , гадалка уже догадалась , что я еду к ней в Чертаново бухая в очко \\\\?'])\n"
     ]
    }
   ],
   "source": [
    "ready = res_pipe.map(input_data_check_data_spliter)\n",
    "print_simple_data_pipe(ready, n=3, f=lambda a: (a[0].shape, a[1].shape, a[2]))"
   ]
  },
  {
   "cell_type": "code",
   "execution_count": 79,
   "metadata": {},
   "outputs": [],
   "source": [
    "def join(batch):\n",
    "    d1, d2, d3 = [], [], []\n",
    "    for i, j, k in batch:\n",
    "        d1.append(i)\n",
    "        d2.append(j)\n",
    "        d3.append(k)\n",
    "    return torch.concat(d1), torch.concat(d2), d3"
   ]
  },
  {
   "cell_type": "code",
   "execution_count": 80,
   "metadata": {},
   "outputs": [],
   "source": [
    "res = torchdata.datapipes.map.Batcher(torchdata.datapipes.map.Shuffler(ready), batch_size=32)"
   ]
  },
  {
   "cell_type": "markdown",
   "metadata": {},
   "source": [
    "# Make model"
   ]
  },
  {
   "cell_type": "code",
   "execution_count": 81,
   "metadata": {},
   "outputs": [],
   "source": [
    "device = 'cuda'"
   ]
  },
  {
   "cell_type": "code",
   "execution_count": 253,
   "metadata": {},
   "outputs": [],
   "source": [
    "class Attention(torch.nn.Module):\n",
    "    def __init__(self, emb_size, n_heads):\n",
    "        super(Attention, self).__init__()\n",
    "        self.n_heads = n_heads\n",
    "        self.wQ = (torch.nn.parameter.Parameter(torch.rand([n_heads, emb_size, emb_size])).to(device))\n",
    "        self.wK = torch.nn.parameter.Parameter(torch.rand([n_heads, emb_size, emb_size])).to(device)\n",
    "        self.wV = torch.nn.parameter.Parameter(torch.rand([n_heads, emb_size, emb_size])).to(device)\n",
    "        self.wO = torch.nn.parameter.Parameter(torch.rand([n_heads * emb_size, emb_size])).to(device)\n",
    "\n",
    "    def forward(self, en_out):\n",
    "        eo = en_out.clone()\n",
    "        for i in range(eo.shape[0]):\n",
    "            m = eo[i].unsqueeze(0)\n",
    "            eo[i] = self.iteration(m, m, m)\n",
    "        return eo\n",
    "\n",
    "    def iteration(self, Q: torch.tensor, K: torch.tensor, V: torch.tensor):\n",
    "        d = Q.shape[2]\n",
    "        s = Q.shape[1]\n",
    "        qp = Q.repeat(self.n_heads, 1, 1).bmm(self.wQ)\n",
    "        kp = K.repeat(self.n_heads, 1, 1).bmm(self.wK)\n",
    "        vp = V.repeat(self.n_heads, 1, 1).bmm(self.wV)\n",
    "        res = torch.softmax(qp.bmm(kp.transpose(1, 2))/d**0.5, 1)\n",
    "        res2 = (res.bmm(vp))\n",
    "        return res2.view(s, d * self.n_heads).mm(self.wO)\n",
    "\n",
    "att = Attention(128, 4).to(device)"
   ]
  },
  {
   "cell_type": "code",
   "execution_count": 86,
   "metadata": {},
   "outputs": [
    {
     "name": "stdout",
     "output_type": "stream",
     "text": [
      "Decoder(\n",
      "  (embedding): Embedding(120138, 256)\n",
      "  (GRU): GRU(256, 1024, num_layers=2)\n",
      "  (fc): Linear(in_features=1024, out_features=120138, bias=True)\n",
      ")\n"
     ]
    }
   ],
   "source": [
    "class Decoder(torch.nn.Module):\n",
    "  def __init__(self, input_size, embedding_size, hidden_size, num_layers, output_size):\n",
    "    super(Decoder, self).__init__()\n",
    "    self.input_size = input_size\n",
    "    self.embedding_size = embedding_size\n",
    "    self.hidden_size = hidden_size\n",
    "    self.num_layers = num_layers\n",
    "    self.output_size = output_size\n",
    "    self.tag = True\n",
    "    self.embedding = torch.nn.Embedding(self.input_size, self.embedding_size)\n",
    "    self.GRU = torch.nn.GRU(self.embedding_size, hidden_size, num_layers)\n",
    "    self.fc = torch.nn.Linear(self.hidden_size, self.output_size)\n",
    "\n",
    "  def forward(self, x, hidden_state):\n",
    "    x = x.unsqueeze(0)\n",
    "    embedding = self.embedding(x)\n",
    "    outputs, hidden_state = self.GRU(embedding, hidden_state)\n",
    "    predictions = self.fc(outputs)\n",
    "    predictions = predictions.squeeze(0)\n",
    "    return predictions, hidden_state\n",
    "\n",
    "input_size_decoder = 120138\n",
    "decoder_embedding_size = 256\n",
    "hidden_size = 1024\n",
    "num_layers = 2\n",
    "output_size = 120138\n",
    "\n",
    "decoder_gru = Decoder(input_size_decoder, decoder_embedding_size, hidden_size, num_layers, output_size).to(device)\n",
    "print(decoder_gru)"
   ]
  },
  {
   "cell_type": "code",
   "execution_count": null,
   "metadata": {},
   "outputs": [],
   "source": [
    "class Seq2Seq(torch.nn.Module):\n",
    "  def __init__(\n",
    "    self, \n",
    "    input_vocab_size,\n",
    "    output_vocab_size,\n",
    "    decoder_embedding_size,\n",
    "    position_coording_matrix,\n",
    "    Decoder, \n",
    "    # Attention\n",
    "  ):\n",
    "    super(Seq2Seq, self).__init__()\n",
    "    self.input_vocab_size = input_vocab_size\n",
    "    self.output_vocab_size = output_vocab_size\n",
    "    self.encoder_embedding_size = encoder_embedding_size\n",
    "    self.decoder_embedding_size = decoder_embedding_size\n",
    "    self.position_coording_matrix = position_coording_matrix\n",
    "    self.encoder_embeder = torch.nn.Embedding(self.input_vocab_size, self.encoder_embedding_size)\n",
    "    self.decoder_embeder = torch.nn.Embedding(self.output_vocab_size, self.decoder_embedding_size)\n",
    "    self.Decoder = Decoder\n",
    "    # self.attention = Attention\n",
    "\n",
    "  def forward(self, source, target, tfr=0.2):\n",
    "    source = source.transpose(0, 1)\n",
    "    target = target.transpose(0, 1)\n",
    "    batch_size = source.shape[1]\n",
    "    target_len = target.shape[0]\n",
    "    target_vocab_size = self.output_vocab_size\n",
    "    outputs = torch.zeros(target_len, batch_size, target_vocab_size).to(device)\n",
    "    hidden_state_encoder = source\n",
    "    x = target[0,:]\n",
    "    for i in range(1, target_len):\n",
    "      inDec = self.decoder_embeder(x.unsqueeze(0))\n",
    "      output, _ = self.Decoder(inDec, hidden_state_encoder)\n",
    "      outputs[i] = output\n",
    "      best_guess = output.argmax(1)\n",
    "      x = target[i] if np.random.random() < tfr else best_guess\n",
    "    return outputs.transpose(0, 1)\n",
    "\n",
    "\n",
    "input_size_decoder = 120138\n",
    "encoder_embedding_size = 128\n",
    "decoder_embedding_size = 128\n",
    "model = Seq2Seq().to(device)\n"
   ]
  },
  {
   "cell_type": "markdown",
   "metadata": {},
   "source": [
    "# Tests"
   ]
  },
  {
   "cell_type": "code",
   "execution_count": 84,
   "metadata": {},
   "outputs": [
    {
     "data": {
      "text/plain": [
       "(torch.Size([32, 32]),\n",
       " torch.Size([32, 32, 1024]),\n",
       " [['Денег - как кот наплакал , а проблем - как слон насрал .'],\n",
       "  [' - Какое красивое у вас платье . Вы , наверное , выпускница \\\\? - Да . Как вы догадались \\\\? - Ну вы просто наблевали рядом и лежите тут на скамейке .'],\n",
       "  [' - Простите , вы своими проблемами не поделитесь \\\\? Просто вы так аппетитно депрессуете , что мне тоже захотелось .'],\n",
       "  ['Журналист задает вопрос известному художнику : - Самое радостное событие для художника - это первая выставка его картин \\\\? - Нет , пожалуй , самое радостное событие - это когда у него впервые украдут какую - нибудь картину .'],\n",
       "  ['Выкурил каплю никотина - спас лошадь'],\n",
       "  [' - Доктор , окружающие говорят , что я чрезмерно cекcуально озабочен . - Ну те - с , проверим . Что вы видите , - рисует прямоугольник , - на этом рисунке \\\\? - Ну что же еще \\\\? Это - темная комната , в углу кровать , а на ней - любовная пара . - Хм , допустим . А здесь \\\\?'],\n",
       "  ['Жена говорит мужу : - Ты почему , при гостях ходишь по дому в одних трусах \\\\? Муж : - В двоих жарко ...'],\n",
       "  ['Посреди Атлантического океана тонет лайнер . Капитан в панике , и тут ему сообщают , что среди пассажиров есть раввин , который может совершать чудеса . Его срочно приводят к капитану и тот просит : - Ребе , что можно сделать \\\\? - Интернет есть \\\\? - Есть! - Тогда продавайте корабль .'],\n",
       "  [' - Мадам , вы , очевидно , принимаете меня за дурака \\\\? - Что вы , я никогда не сужу о людях по первому впечатлению .'],\n",
       "  ['Маленький мальчик по крыше бежал . Ручкой размахивал , громко визжал . Кончилась крыша - послышался свист . Дворника ждал новогодний сюрприз ...'],\n",
       "  ['Оптимисты - это люди , которые в метро читают журнал \" За рулем \" .'],\n",
       "  [' - Материнский капитал ввели , а рождаемость не увеличивается . Почему \\\\? - Потому что матерей стимулируют , а про отцов забыли .'],\n",
       "  ['Я тут фильм \" Сталкер \" посмотрел , такое чувство , что Тарковский вообще игру не видел .'],\n",
       "  ['Если человек много знает и не паникует , поверьте - ничего он не знает .'],\n",
       "  ['Вчера военный комиссар области пригласил самых плохих учителей городских и сельских школ и вручил им ценные подарки'],\n",
       "  ['Я прирожденный кузнец , я не могу не куя ...'],\n",
       "  [' - Почему мы не можем быть просто друзьями \\\\? ! - Понимаешь , Леночка , между нашей с тобой дружбой что - то встает! И это я потом весь вечер укладываю'],\n",
       "  ['Подчас за гениальность принимается способность жопы притворяться головой .'],\n",
       "  ['Ну и что с того , что мы находимся в жопе : зато она большая и просторная .'],\n",
       "  ['Чтобы узнать кому я действительно интересен , перестал писать письма первым . Через неделю сам начал писать себе письма , через две и они перестали приходить .'],\n",
       "  [' - А если родится сын , то я назову его Петром! А ты \\\\? - Тогда и я Петром . - Ты чего это за мой повторяешь \\\\? - А ты что , хочешь чтобы у нашего сына было два имени \\\\?'],\n",
       "  ['Разгар демократии . Разгон полицией митинга на площади . Один из полицейских демонстративно отказывается применять для разгона пикетчиков спецсредства . Командир отделения : - Ты чего мнешься , по сторонам оглядываешься \\\\? - Ага , я ему сегодня дубинокой по голове , а завтра он премьер - министром станет . И что тогда \\\\?'],\n",
       "  ['Жена : - Оказывается , жир очень вреден для организма . Муж : - Тогда не подходи ко мне .'],\n",
       "  ['Поднимают цены на алкоголь чтобы мы меньше пили . А цену на коммунальные услуги - что бы мы меньше жили \\\\?'],\n",
       "  ['Подпись преподавателя в зачетке студента , автоматически стирает из памяти все сведения о предмете ...'],\n",
       "  ['Теперь я знаю , как делается прогноз погоды . Сегодня утром руководитель Гидрометеоцентра заявил , что коты забираются на подоконник и долго смотрят на улицу . Значит весна близко .'],\n",
       "  ['У нас в Тыве космический корабль \" Прогресс \" упал . Теперь у нас в Тыве хоть какой - то прогресс есть .'],\n",
       "  ['В лесу раздавался оргазм дровосека .'],\n",
       "  ['Либерал - это человек , который свято верует , что если дерьмо переименовать в фекалии и заручиться поддержкой мирового сообщества , сразу станет в разы вкуснее .'],\n",
       "  ['Я не понимаю этот мир : наш домашний кролик нашел миску с кошачьим кормом и жадно ест его . А корм называется \" Рагу из кролика \" .'],\n",
       "  [' - Официант! У меня в супе плавает кусок говна! - Это отражение .'],\n",
       "  ['Доктор , в прошлый раз забыл сказать , что у меня плохо с памятью .']])"
      ]
     },
     "execution_count": 84,
     "metadata": {},
     "output_type": "execute_result"
    }
   ],
   "source": [
    "for batch in res:\n",
    "    y_b, x_b, t_b = join(batch)\n",
    "    break\n",
    "y_b.shape, x_b.shape, t_b "
   ]
  },
  {
   "cell_type": "code",
   "execution_count": null,
   "metadata": {},
   "outputs": [],
   "source": []
  }
 ],
 "metadata": {
  "kernelspec": {
   "display_name": "NLP",
   "language": "python",
   "name": "python3"
  },
  "language_info": {
   "codemirror_mode": {
    "name": "ipython",
    "version": 3
   },
   "file_extension": ".py",
   "mimetype": "text/x-python",
   "name": "python",
   "nbconvert_exporter": "python",
   "pygments_lexer": "ipython3",
   "version": "3.9.2"
  }
 },
 "nbformat": 4,
 "nbformat_minor": 2
}
