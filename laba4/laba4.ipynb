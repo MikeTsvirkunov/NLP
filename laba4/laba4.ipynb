{
 "cells": [
  {
   "cell_type": "code",
   "execution_count": 83,
   "metadata": {},
   "outputs": [
    {
     "name": "stdout",
     "output_type": "stream",
     "text": [
      "1.12.0+cu116 True\n"
     ]
    }
   ],
   "source": [
    "import torchdata\n",
    "import torch\n",
    "from gensim.models import FastText\n",
    "import pandas as pd\n",
    "import re\n",
    "import numpy as np\n",
    "import pickle\n",
    "import os\n",
    "import matplotlib.pyplot as plt \n",
    "import seaborn as sns\n",
    "import spacy\n",
    "from transformers import AutoModel, AutoTokenizer\n",
    "\n",
    "from tqdm.auto import tqdm\n",
    "\n",
    "IGNORE_SAVED_FILES = True\n",
    "print(torch.__version__, torch.cuda.is_available())\n",
    "tokenizer = AutoTokenizer.from_pretrained(\"ai-forever/sbert_large_nlu_ru\")\n",
    "vectorizer = AutoModel.from_pretrained(\"ai-forever/sbert_large_nlu_ru\")"
   ]
  },
  {
   "cell_type": "code",
   "execution_count": 2,
   "metadata": {},
   "outputs": [],
   "source": [
    "with open('./../Data/anek_utf8/anek_utf8.txt', 'r', encoding='utf-8') as f:\n",
    "    data = f.read()"
   ]
  },
  {
   "cell_type": "code",
   "execution_count": 3,
   "metadata": {},
   "outputs": [],
   "source": [
    "data_r =  data.replace('<|startoftext|>', '').split('\\n\\n')"
   ]
  },
  {
   "cell_type": "code",
   "execution_count": 79,
   "metadata": {},
   "outputs": [],
   "source": [
    "def print_simple_data_pipe(date_pipe: torchdata.datapipes.iter.IterDataPipe, f=lambda a: a, n=10) -> None:\n",
    "  print(type(date_pipe))\n",
    "  x = 0\n",
    "  for sample in date_pipe:\n",
    "    print(f(sample))\n",
    "    if x == n:\n",
    "      break\n",
    "    x +=1"
   ]
  },
  {
   "cell_type": "code",
   "execution_count": 4,
   "metadata": {},
   "outputs": [],
   "source": [
    "def bad_patterns_to_tags_replaser2(text: str):\n",
    "    text = re.sub(r'\\d+\\:\\d+\\:\\d+', ' <TIME> ', text)\n",
    "    text = re.sub(r'\\d+\\:\\d+', ' <TIME> ', text)\n",
    "    text = re.sub(r'\\+{,1}\\d{1,3}\\({,1}[\\-\\s]{,1}\\d{3}\\){,1}[\\-\\s]{,1}\\d{3}[\\-\\s]{,1}\\d{2}[\\-\\s]{,1}\\d{2}', ' <PHONE> ', text)\n",
    "    text = re.sub('\\d+/\\d+/\\d+', ' <DATE> ', text)\n",
    "    text = re.sub('\\d+-\\d+-\\d+', ' <DATE> ', text)\n",
    "    text = re.sub('\\d+th', ' <ENUM> ', text)\n",
    "    text = re.sub('\\d+rd', ' <ENUM> ', text)\n",
    "    text = re.sub('\\d+st', ' <ENUM> ', text)\n",
    "    text = re.sub('[\\+\\-]?\\d+.\\d+', ' <NUM> ', text)\n",
    "    text = re.sub('[\\+\\-]?\\d+,\\d+', ' <NUM> ', text)\n",
    "    text = re.sub('\\d+', ' <NUM> ', text)\n",
    "    # text = re.sub(r'\\w+\\.', '<SHORT>', text[0:-1]) + '.'\n",
    "    text = re.sub(',', ' , ', text)\n",
    "    text = re.sub(';', ' ; ', text)\n",
    "    text = re.sub(';', ' ; ', text)\n",
    "    text = re.sub('-', ' - ', text)\n",
    "    text = re.sub(':', ' : ', text)\n",
    "    text = re.sub('\\?', ' \\? ', text)\n",
    "    text = re.sub('\"', ' \" ', text)\n",
    "    text = re.sub(\"'\", \" ' \", text)\n",
    "    text = re.sub(r'\\s+', ' ', text)\n",
    "    text = re.sub('\\.', ' . ', text)\n",
    "    text = re.sub('\\(', ' ( ', text)\n",
    "    text = re.sub('\\)', ' ) ', text)\n",
    "    text = re.sub('\\.  \\.  \\.', ' ... ', text)\n",
    "    text = re.sub('\\s+', ' ', text)\n",
    "    return text[0:-1]"
   ]
  },
  {
   "cell_type": "code",
   "execution_count": 10,
   "metadata": {},
   "outputs": [
    {
     "data": {
      "text/plain": [
       "0.07142857142857142"
      ]
     },
     "execution_count": 10,
     "metadata": {},
     "output_type": "execute_result"
    }
   ],
   "source": [
    "tags = ['<SOS>', '<EOS>', '<PAD>', '<UNK>', '<NAN>', '<NUM>', '<TIME>', '<ENUM>', '<DATE>', '<PHONE>', '<EMAIL>', '<SHORT>', '<NAME>']\n",
    "tags_value = pd.DataFrame({'values': [i / (1+len(tags)) for i in range(1, 1+len(tags))]}, index=tags,)\n",
    "tags_value.loc['<SOS>', 'values']\n"
   ]
  },
  {
   "cell_type": "code",
   "execution_count": 5,
   "metadata": {},
   "outputs": [],
   "source": [
    "data_c =list(map(bad_patterns_to_tags_replaser2, data_r))"
   ]
  },
  {
   "cell_type": "code",
   "execution_count": 6,
   "metadata": {},
   "outputs": [],
   "source": [
    "lengthes = np.array(list(map(lambda a: len(a.split(' ')), data_c)))\n"
   ]
  },
  {
   "cell_type": "code",
   "execution_count": 7,
   "metadata": {},
   "outputs": [
    {
     "data": {
      "text/plain": [
       "(array([ 7476., 36989., 35532., 21685., 10836.,  5528.,  2474.,   871.,\n",
       "          219.,    42.]),\n",
       " array([ 2., 10., 18., 26., 34., 42., 50., 58., 66., 74., 82.]),\n",
       " <BarContainer object of 10 artists>)"
      ]
     },
     "execution_count": 7,
     "metadata": {},
     "output_type": "execute_result"
    },
    {
     "data": {
      "image/png": "[encoded data removed]",
      "text/plain": [
       "<Figure size 640x480 with 1 Axes>"
      ]
     },
     "metadata": {},
     "output_type": "display_data"
    }
   ],
   "source": [
    "plt.hist(lengthes)"
   ]
  },
  {
   "cell_type": "code",
   "execution_count": 16,
   "metadata": {},
   "outputs": [],
   "source": [
    "data_s = []\n",
    "for i in data_c:\n",
    "    data_s += i.split()\n",
    "vocab = pd.Series(pd.Series(data_s).unique())\n",
    "vocab = vocab[vocab.apply(lambda a: a not in tags)]\n",
    "vocab = pd.concat([pd.Series(tags), vocab])"
   ]
  },
  {
   "cell_type": "code",
   "execution_count": 17,
   "metadata": {},
   "outputs": [
    {
     "data": {
      "text/plain": [
       "(169524,)"
      ]
     },
     "execution_count": 17,
     "metadata": {},
     "output_type": "execute_result"
    }
   ],
   "source": [
    "vocab.shape"
   ]
  },
  {
   "cell_type": "markdown",
   "metadata": {},
   "source": [
    "# Procressing texts"
   ]
  },
  {
   "cell_type": "code",
   "execution_count": 31,
   "metadata": {},
   "outputs": [],
   "source": [
    "def text_norm(text, l=30, sos='<SOS>', eos='<EOS>', pad='<PAD>'):\n",
    "    text_shorted = text[0:l]\n",
    "    text_padded = [sos] + text_shorted + [eos] + [pad for _ in range(l-len(text_shorted))]\n",
    "    return text_padded"
   ]
  },
  {
   "cell_type": "code",
   "execution_count": 57,
   "metadata": {},
   "outputs": [],
   "source": [
    "i_v = pd.Index(vocab)\n",
    "def text_tokenize(text):\n",
    "    return text.apply(lambda a: i_v.get_loc(a)) # [vocab[vocab==i].index[0] for i in text]\n"
   ]
  },
  {
   "cell_type": "code",
   "execution_count": 89,
   "metadata": {},
   "outputs": [],
   "source": [
    "data_splited = pd.Series(data_c).apply(lambda a: a.split())\n",
    "data_splited = data_splited[data_splited.apply(len)>15]\n"
   ]
  },
  {
   "cell_type": "code",
   "execution_count": 90,
   "metadata": {},
   "outputs": [
    {
     "data": {
      "text/plain": [
       "(32, 32)"
      ]
     },
     "execution_count": 90,
     "metadata": {},
     "output_type": "execute_result"
    }
   ],
   "source": [
    "data_splited.apply(text_norm).apply(len).max(), data_splited.apply(text_norm).apply(len).min() "
   ]
  },
  {
   "cell_type": "code",
   "execution_count": 91,
   "metadata": {},
   "outputs": [
    {
     "name": "stderr",
     "output_type": "stream",
     "text": [
      "C:\\Users\\Mike\\AppData\\Local\\Temp\\ipykernel_9032\\1317250533.py:1: FutureWarning: Returning a DataFrame from Series.apply when the supplied function returns a Series is deprecated and will be removed in a future version.\n",
      "  data_normed = data_splited.apply(text_norm).apply(pd.Series)\n"
     ]
    },
    {
     "data": {
      "text/plain": [
       "2534.3823529411766"
      ]
     },
     "execution_count": 91,
     "metadata": {},
     "output_type": "execute_result"
    }
   ],
   "source": [
    "data_normed = data_splited.apply(text_norm).apply(pd.Series)\n",
    "data_normed.shape[0]/34 # 17\n"
   ]
  },
  {
   "cell_type": "code",
   "execution_count": 70,
   "metadata": {},
   "outputs": [
    {
     "data": {
      "text/plain": [
       "(121652, 32)"
      ]
     },
     "execution_count": 70,
     "metadata": {},
     "output_type": "execute_result"
    }
   ],
   "source": [
    "data_normed.shape"
   ]
  },
  {
   "cell_type": "code",
   "execution_count": 72,
   "metadata": {},
   "outputs": [],
   "source": [
    "for i in range(34-1):\n",
    "    data_normed[i*3578:(i+1)*3578].to_csv(f'./../Data/anek_utf8/data_spited_normed_{i}.csv')"
   ]
  },
  {
   "cell_type": "code",
   "execution_count": 95,
   "metadata": {},
   "outputs": [],
   "source": [
    "data_tokenize = data_normed.apply(text_tokenize)\n",
    "data_tokenize.to_csv('./../Data/anek_utf8/data_tokenized.csv', index=False)"
   ]
  },
  {
   "cell_type": "code",
   "execution_count": 98,
   "metadata": {},
   "outputs": [],
   "source": [
    "data_common = data_tokenize\n",
    "data_common['pre'] = data_splited.apply(' '.join)\n",
    "data_common.to_csv('./../Data/anek_utf8/data_common.csv', index=False)\n"
   ]
  },
  {
   "cell_type": "markdown",
   "metadata": {},
   "source": [
    "# to torch data"
   ]
  },
  {
   "cell_type": "code",
   "execution_count": 242,
   "metadata": {},
   "outputs": [],
   "source": [
    "def tokenize(sentence):\n",
    "    return tokenizer([sentence], padding=True, truncation=True, pad_to_multiple_of=32, max_length=32, return_tensors='pt')"
   ]
  },
  {
   "cell_type": "code",
   "execution_count": 243,
   "metadata": {},
   "outputs": [
    {
     "data": {
      "text/plain": [
       "(169524,)"
      ]
     },
     "execution_count": 243,
     "metadata": {},
     "output_type": "execute_result"
    }
   ],
   "source": [
    "vocab.shape"
   ]
  },
  {
   "cell_type": "code",
   "execution_count": 258,
   "metadata": {},
   "outputs": [],
   "source": [
    "def input_data_check_data_spliter(data):\n",
    "    with torch.no_grad():\n",
    "        t = torch.tensor(list(map(int, data[0:32])))\n",
    "        output_data = torch.nn.functional.one_hot(t, vocab.shape[0])\n",
    "        d= tokenize(data[32])\n",
    "        input_data = vectorizer(**d)[0][0]\n",
    "    return output_data, input_data, t\n"
   ]
  },
  {
   "cell_type": "code",
   "execution_count": 257,
   "metadata": {},
   "outputs": [
    {
     "name": "stdout",
     "output_type": "stream",
     "text": [
      "<class 'torch.utils.data.datapipes.map.utils.SequenceWrapperMapDataPipe'>\n",
      "['0', '13', '14', '15', '16', '17', '18', '19', '20', '21', '22', '23', '24', '25', '26', '18', '27', '18', '28', '29', '30', '18', '31', '32', '18', '33', '34', '35', '36', '18', '24', '1', 'Сразу после окончания Прямой линии , Путин пожаловался на дефицит интересных и актуальных вопросов , отметив , что критическое положение , слава богу , спасли осмысленные вопросы Шнурова , и очень своевременно поднятый вопрос о ситуации с Дзюбой .']\n",
      "['0', '56', '49', '57', '45', '58', '59', '60', '24', '61', '62', '21', '63', '64', '65', '18', '66', '67', '68', '69', '68', '45', '70', '28', '71', '72', '67', '68', '73', '74', '18', '1', 'Толкучка в атобусе . Автобус резко тормозит и женщина падает на рядом седящего свещеника , восклицает : \" Ого! \" . На что свещеник отвечает : \" Не ого , а ключ от храма \" .']\n",
      "['0', '79', '18', '80', '81', '82', '18', '28', '83', '84', '85', '86', '49', '87', '88', '49', '89', '90', '1', '2', '2', '2', '2', '2', '2', '2', '2', '2', '2', '2', '2', '2', 'Интересно , гадалка уже догадалась , что я еду к ней в Чертаново бухая в очко \\\\?']\n",
      "['0', '91', '92', '93', '18', '21', '94', '95', '24', '96', '18', '28', '97', '98', '18', '99', '100', '101', '45', '102', '103', '104', '105', '18', '106', '107', '90', '108', '102', '109', '18', '1', 'Идет одна бабка , на встречу другой и видит , что у той , полная сумка презервативов . - Зачем тебе старой , столько много \\\\? ! - Да , я вот слышала , опять идет подорожание цен , скоро будем хер сосать! А ты знаешь , какая я брезгливая .']\n"
     ]
    }
   ],
   "source": [
    "output_res = torchdata.datapipes.iter.IterableWrapper(['./../Data/anek_utf8/data_common.csv'])\n",
    "output_res_pipe = torchdata.datapipes.iter.FileOpener(output_res, mode='r', encoding='utf-8', length=data_common.shape[0])\n",
    "res_pipe = output_res_pipe.parse_csv(skip_lines=1, delimiter=',')\n",
    "res_pipe = torchdata.datapipes.map.SequenceWrapper(list(res_pipe))\n",
    "print_simple_data_pipe(res_pipe, n=3)\n"
   ]
  },
  {
   "cell_type": "code",
   "execution_count": 259,
   "metadata": {},
   "outputs": [
    {
     "name": "stdout",
     "output_type": "stream",
     "text": [
      "<class 'torch.utils.data.datapipes.map.callable.MapperMapDataPipe'>\n",
      "(torch.Size([32, 169524]), torch.Size([32, 1024]), torch.Size([32]))\n",
      "(torch.Size([32, 169524]), torch.Size([32, 1024]), torch.Size([32]))\n",
      "(torch.Size([32, 169524]), torch.Size([32, 1024]), torch.Size([32]))\n",
      "(torch.Size([32, 169524]), torch.Size([32, 1024]), torch.Size([32]))\n"
     ]
    }
   ],
   "source": [
    "ready = res_pipe.map(input_data_check_data_spliter)\n",
    "print_simple_data_pipe(ready, n=3, f=lambda a: (a[0].shape, a[1].shape, a[2].shape))"
   ]
  },
  {
   "cell_type": "code",
   "execution_count": 260,
   "metadata": {},
   "outputs": [],
   "source": [
    "def join(batch):\n",
    "    d1, d2, d3 = [], [], []\n",
    "    for i, j, k in batch:\n",
    "        d1.append(i.unsqueeze(0))\n",
    "        d2.append(j.unsqueeze(0))\n",
    "        d3.append(k.unsqueeze(0))\n",
    "    return torch.concat(d1), torch.concat(d2), torch.concat(d3)"
   ]
  },
  {
   "cell_type": "code",
   "execution_count": 261,
   "metadata": {},
   "outputs": [],
   "source": [
    "res = torchdata.datapipes.map.Batcher(torchdata.datapipes.map.Shuffler(ready), batch_size=32)"
   ]
  },
  {
   "cell_type": "markdown",
   "metadata": {},
   "source": [
    "# Make model"
   ]
  },
  {
   "cell_type": "code",
   "execution_count": 249,
   "metadata": {},
   "outputs": [],
   "source": [
    "device = 'cuda'"
   ]
  },
  {
   "cell_type": "code",
   "execution_count": 253,
   "metadata": {},
   "outputs": [],
   "source": [
    "class Attention(torch.nn.Module):\n",
    "    def __init__(self, emb_size, n_heads):\n",
    "        super(Attention, self).__init__()\n",
    "        self.n_heads = n_heads\n",
    "        self.wQ = (torch.nn.parameter.Parameter(torch.rand([n_heads, emb_size, emb_size])).to(device))\n",
    "        self.wK = torch.nn.parameter.Parameter(torch.rand([n_heads, emb_size, emb_size])).to(device)\n",
    "        self.wV = torch.nn.parameter.Parameter(torch.rand([n_heads, emb_size, emb_size])).to(device)\n",
    "        self.wO = torch.nn.parameter.Parameter(torch.rand([n_heads * emb_size, emb_size])).to(device)\n",
    "\n",
    "    def forward(self, en_out):\n",
    "        eo = en_out.clone()\n",
    "        for i in range(eo.shape[0]):\n",
    "            m = eo[i].unsqueeze(0)\n",
    "            eo[i] = self.iteration(m, m, m)\n",
    "        return eo\n",
    "\n",
    "    def iteration(self, Q: torch.tensor, K: torch.tensor, V: torch.tensor):\n",
    "        d = Q.shape[2]\n",
    "        s = Q.shape[1]\n",
    "        qp = Q.repeat(self.n_heads, 1, 1).bmm(self.wQ)\n",
    "        kp = K.repeat(self.n_heads, 1, 1).bmm(self.wK)\n",
    "        vp = V.repeat(self.n_heads, 1, 1).bmm(self.wV)\n",
    "        res = torch.softmax(qp.bmm(kp.transpose(1, 2))/d**0.5, 1)\n",
    "        res2 = (res.bmm(vp))\n",
    "        return res2.view(s, d * self.n_heads).mm(self.wO)\n",
    "\n",
    "att = Attention(128, 4).to(device)"
   ]
  },
  {
   "cell_type": "code",
   "execution_count": 252,
   "metadata": {},
   "outputs": [
    {
     "name": "stdout",
     "output_type": "stream",
     "text": [
      "Decoder(\n",
      "  (embedding): Embedding(169524, 256)\n",
      "  (GRU): GRU(256, 1024, num_layers=2)\n",
      "  (fc): Linear(in_features=1024, out_features=169524, bias=True)\n",
      ")\n"
     ]
    }
   ],
   "source": [
    "class Decoder(torch.nn.Module):\n",
    "  def __init__(self, input_size, embedding_size, hidden_size, num_layers, output_size):\n",
    "    super(Decoder, self).__init__()\n",
    "    self.input_size = input_size\n",
    "    self.embedding_size = embedding_size\n",
    "    self.hidden_size = hidden_size\n",
    "    self.num_layers = num_layers\n",
    "    self.output_size = output_size\n",
    "    self.tag = True\n",
    "    self.embedding = torch.nn.Embedding(self.input_size, self.embedding_size)\n",
    "    self.GRU = torch.nn.GRU(self.embedding_size, hidden_size, num_layers)\n",
    "    self.fc = torch.nn.Linear(self.hidden_size, self.output_size)\n",
    "\n",
    "  def forward(self, x, hidden_state):\n",
    "    x = x.unsqueeze(0)\n",
    "    embedding = self.embedding(x)\n",
    "    outputs, hidden_state = self.GRU(embedding, hidden_state)\n",
    "    predictions = self.fc(outputs)\n",
    "    predictions = predictions.squeeze(0)\n",
    "    return predictions, hidden_state\n",
    "\n",
    "input_size_decoder = len(vocab)\n",
    "decoder_embedding_size = 256\n",
    "hidden_size = 1024\n",
    "num_layers = 2\n",
    "output_size = len(vocab)\n",
    "\n",
    "decoder_gru = Decoder(input_size_decoder, decoder_embedding_size, hidden_size, num_layers, output_size).to(device)\n",
    "print(decoder_gru)"
   ]
  },
  {
   "cell_type": "code",
   "execution_count": null,
   "metadata": {},
   "outputs": [],
   "source": [
    "class Seq2Seq(torch.nn.Module):\n",
    "  def __init__(\n",
    "    self, \n",
    "    input_vocab_size,\n",
    "    output_vocab_size,\n",
    "    decoder_embedding_size,\n",
    "    position_coording_matrix,\n",
    "    Decoder, \n",
    "    # Attention\n",
    "  ):\n",
    "    super(Seq2Seq, self).__init__()\n",
    "    self.input_vocab_size = input_vocab_size\n",
    "    self.output_vocab_size = output_vocab_size\n",
    "    self.encoder_embedding_size = encoder_embedding_size\n",
    "    self.decoder_embedding_size = decoder_embedding_size\n",
    "    self.position_coording_matrix = position_coording_matrix\n",
    "    self.encoder_embeder = torch.nn.Embedding(self.input_vocab_size, self.encoder_embedding_size)\n",
    "    self.decoder_embeder = torch.nn.Embedding(self.output_vocab_size, self.decoder_embedding_size)\n",
    "    self.Decoder = Decoder\n",
    "    # self.attention = Attention\n",
    "\n",
    "  def forward(self, source, target, tfr=0.2):\n",
    "    source = source.transpose(0, 1)\n",
    "    target = target.transpose(0, 1)\n",
    "    batch_size = source.shape[1]\n",
    "    target_len = target.shape[0]\n",
    "    target_vocab_size = self.output_vocab_size\n",
    "    outputs = torch.zeros(target_len, batch_size, target_vocab_size).to(device)\n",
    "    hidden_state_encoder = source\n",
    "    x = target[0,:]\n",
    "    for i in range(1, target_len):\n",
    "      inDec = self.decoder_embeder(x.unsqueeze(0))\n",
    "      output, _ = self.Decoder(inDec, hidden_state_encoder)\n",
    "      outputs[i] = output\n",
    "      best_guess = output.argmax(1)\n",
    "      x = target[i] if np.random.random() < tfr else best_guess\n",
    "    return outputs.transpose(0, 1)\n",
    "\n",
    "\n",
    "input_size_decoder = len(vocab)\n",
    "encoder_embedding_size = 128\n",
    "decoder_embedding_size = 128\n",
    "model = Seq2Seq(input_size_encoder, input_size_decoder, encoder_embedding_size, decoder_embedding_size, position_coording_matrix, encoder_lstm, decoder_lstm, \n",
    "                # att\n",
    "                ).to(device)\n"
   ]
  },
  {
   "cell_type": "markdown",
   "metadata": {},
   "source": [
    "# Tests"
   ]
  },
  {
   "cell_type": "code",
   "execution_count": 262,
   "metadata": {},
   "outputs": [],
   "source": [
    "for batch in res:\n",
    "    y_b, x_b, t_b = join(batch)\n",
    "    break"
   ]
  },
  {
   "cell_type": "code",
   "execution_count": 239,
   "metadata": {},
   "outputs": [
    {
     "ename": "KeyboardInterrupt",
     "evalue": "",
     "output_type": "error",
     "traceback": [
      "\u001b[1;31m---------------------------------------------------------------------------\u001b[0m",
      "\u001b[1;31mKeyboardInterrupt\u001b[0m                         Traceback (most recent call last)",
      "Cell \u001b[1;32mIn[239], line 1\u001b[0m\n\u001b[1;32m----> 1\u001b[0m \u001b[43mdecoder_gru\u001b[49m\u001b[43m(\u001b[49m\u001b[43mt_b\u001b[49m\u001b[38;5;241;43m.\u001b[39;49m\u001b[43mto\u001b[49m\u001b[43m(\u001b[49m\u001b[43mdevice\u001b[49m\u001b[43m)\u001b[49m\u001b[43m,\u001b[49m\u001b[43m \u001b[49m\u001b[43mx_b\u001b[49m\u001b[38;5;241;43m.\u001b[39;49m\u001b[43mto\u001b[49m\u001b[43m(\u001b[49m\u001b[43mdevice\u001b[49m\u001b[43m)\u001b[49m\u001b[43m)\u001b[49m\n",
      "File \u001b[1;32md:\\5semak\\NLP_5_semak\\NLP\\lib\\site-packages\\torch\\nn\\modules\\module.py:1130\u001b[0m, in \u001b[0;36mModule._call_impl\u001b[1;34m(self, *input, **kwargs)\u001b[0m\n\u001b[0;32m   1126\u001b[0m \u001b[38;5;66;03m# If we don't have any hooks, we want to skip the rest of the logic in\u001b[39;00m\n\u001b[0;32m   1127\u001b[0m \u001b[38;5;66;03m# this function, and just call forward.\u001b[39;00m\n\u001b[0;32m   1128\u001b[0m \u001b[38;5;28;01mif\u001b[39;00m \u001b[38;5;129;01mnot\u001b[39;00m (\u001b[38;5;28mself\u001b[39m\u001b[38;5;241m.\u001b[39m_backward_hooks \u001b[38;5;129;01mor\u001b[39;00m \u001b[38;5;28mself\u001b[39m\u001b[38;5;241m.\u001b[39m_forward_hooks \u001b[38;5;129;01mor\u001b[39;00m \u001b[38;5;28mself\u001b[39m\u001b[38;5;241m.\u001b[39m_forward_pre_hooks \u001b[38;5;129;01mor\u001b[39;00m _global_backward_hooks\n\u001b[0;32m   1129\u001b[0m         \u001b[38;5;129;01mor\u001b[39;00m _global_forward_hooks \u001b[38;5;129;01mor\u001b[39;00m _global_forward_pre_hooks):\n\u001b[1;32m-> 1130\u001b[0m     \u001b[38;5;28;01mreturn\u001b[39;00m forward_call(\u001b[38;5;241m*\u001b[39m\u001b[38;5;28minput\u001b[39m, \u001b[38;5;241m*\u001b[39m\u001b[38;5;241m*\u001b[39mkwargs)\n\u001b[0;32m   1131\u001b[0m \u001b[38;5;66;03m# Do not call functions when jit is used\u001b[39;00m\n\u001b[0;32m   1132\u001b[0m full_backward_hooks, non_full_backward_hooks \u001b[38;5;241m=\u001b[39m [], []\n",
      "Cell \u001b[1;32mIn[233], line 16\u001b[0m, in \u001b[0;36mDecoder.forward\u001b[1;34m(self, x, hidden_state)\u001b[0m\n\u001b[0;32m     14\u001b[0m \u001b[38;5;28;01mdef\u001b[39;00m \u001b[38;5;21mforward\u001b[39m(\u001b[38;5;28mself\u001b[39m, x, hidden_state):\n\u001b[0;32m     15\u001b[0m   x \u001b[38;5;241m=\u001b[39m x\u001b[38;5;241m.\u001b[39munsqueeze(\u001b[38;5;241m0\u001b[39m)\n\u001b[1;32m---> 16\u001b[0m   embedding \u001b[38;5;241m=\u001b[39m \u001b[38;5;28;43mself\u001b[39;49m\u001b[38;5;241m.\u001b[39membedding(x)\n\u001b[0;32m     17\u001b[0m   outputs, hidden_state \u001b[38;5;241m=\u001b[39m \u001b[38;5;28mself\u001b[39m\u001b[38;5;241m.\u001b[39mGRU(embedding, hidden_state)\n\u001b[0;32m     18\u001b[0m   predictions \u001b[38;5;241m=\u001b[39m \u001b[38;5;28mself\u001b[39m\u001b[38;5;241m.\u001b[39mfc(outputs)\n",
      "Cell \u001b[1;32mIn[233], line 16\u001b[0m, in \u001b[0;36mDecoder.forward\u001b[1;34m(self, x, hidden_state)\u001b[0m\n\u001b[0;32m     14\u001b[0m \u001b[38;5;28;01mdef\u001b[39;00m \u001b[38;5;21mforward\u001b[39m(\u001b[38;5;28mself\u001b[39m, x, hidden_state):\n\u001b[0;32m     15\u001b[0m   x \u001b[38;5;241m=\u001b[39m x\u001b[38;5;241m.\u001b[39munsqueeze(\u001b[38;5;241m0\u001b[39m)\n\u001b[1;32m---> 16\u001b[0m   embedding \u001b[38;5;241m=\u001b[39m \u001b[38;5;28;43mself\u001b[39;49m\u001b[38;5;241m.\u001b[39membedding(x)\n\u001b[0;32m     17\u001b[0m   outputs, hidden_state \u001b[38;5;241m=\u001b[39m \u001b[38;5;28mself\u001b[39m\u001b[38;5;241m.\u001b[39mGRU(embedding, hidden_state)\n\u001b[0;32m     18\u001b[0m   predictions \u001b[38;5;241m=\u001b[39m \u001b[38;5;28mself\u001b[39m\u001b[38;5;241m.\u001b[39mfc(outputs)\n",
      "File \u001b[1;32m_pydevd_bundle/pydevd_cython.pyx:1457\u001b[0m, in \u001b[0;36m_pydevd_bundle.pydevd_cython.SafeCallWrapper.__call__\u001b[1;34m()\u001b[0m\n",
      "File \u001b[1;32m_pydevd_bundle/pydevd_cython.pyx:701\u001b[0m, in \u001b[0;36m_pydevd_bundle.pydevd_cython.PyDBFrame.trace_dispatch\u001b[1;34m()\u001b[0m\n",
      "File \u001b[1;32m_pydevd_bundle/pydevd_cython.pyx:1152\u001b[0m, in \u001b[0;36m_pydevd_bundle.pydevd_cython.PyDBFrame.trace_dispatch\u001b[1;34m()\u001b[0m\n",
      "File \u001b[1;32m_pydevd_bundle/pydevd_cython.pyx:1135\u001b[0m, in \u001b[0;36m_pydevd_bundle.pydevd_cython.PyDBFrame.trace_dispatch\u001b[1;34m()\u001b[0m\n",
      "File \u001b[1;32m_pydevd_bundle/pydevd_cython.pyx:312\u001b[0m, in \u001b[0;36m_pydevd_bundle.pydevd_cython.PyDBFrame.do_wait_suspend\u001b[1;34m()\u001b[0m\n",
      "File \u001b[1;32md:\\5semak\\NLP_5_semak\\NLP\\lib\\site-packages\\debugpy\\_vendored\\pydevd\\pydevd.py:2070\u001b[0m, in \u001b[0;36mPyDB.do_wait_suspend\u001b[1;34m(self, thread, frame, event, arg, exception_type)\u001b[0m\n\u001b[0;32m   2067\u001b[0m             from_this_thread\u001b[38;5;241m.\u001b[39mappend(frame_custom_thread_id)\n\u001b[0;32m   2069\u001b[0m     \u001b[38;5;28;01mwith\u001b[39;00m \u001b[38;5;28mself\u001b[39m\u001b[38;5;241m.\u001b[39m_threads_suspended_single_notification\u001b[38;5;241m.\u001b[39mnotify_thread_suspended(thread_id, thread, stop_reason):\n\u001b[1;32m-> 2070\u001b[0m         keep_suspended \u001b[38;5;241m=\u001b[39m \u001b[38;5;28;43mself\u001b[39;49m\u001b[38;5;241;43m.\u001b[39;49m\u001b[43m_do_wait_suspend\u001b[49m\u001b[43m(\u001b[49m\u001b[43mthread\u001b[49m\u001b[43m,\u001b[49m\u001b[43m \u001b[49m\u001b[43mframe\u001b[49m\u001b[43m,\u001b[49m\u001b[43m \u001b[49m\u001b[43mevent\u001b[49m\u001b[43m,\u001b[49m\u001b[43m \u001b[49m\u001b[43marg\u001b[49m\u001b[43m,\u001b[49m\u001b[43m \u001b[49m\u001b[43msuspend_type\u001b[49m\u001b[43m,\u001b[49m\u001b[43m \u001b[49m\u001b[43mfrom_this_thread\u001b[49m\u001b[43m,\u001b[49m\u001b[43m \u001b[49m\u001b[43mframes_tracker\u001b[49m\u001b[43m)\u001b[49m\n\u001b[0;32m   2072\u001b[0m frames_list \u001b[38;5;241m=\u001b[39m \u001b[38;5;28;01mNone\u001b[39;00m\n\u001b[0;32m   2074\u001b[0m \u001b[38;5;28;01mif\u001b[39;00m keep_suspended:\n\u001b[0;32m   2075\u001b[0m     \u001b[38;5;66;03m# This means that we should pause again after a set next statement.\u001b[39;00m\n",
      "File \u001b[1;32md:\\5semak\\NLP_5_semak\\NLP\\lib\\site-packages\\debugpy\\_vendored\\pydevd\\pydevd.py:2106\u001b[0m, in \u001b[0;36mPyDB._do_wait_suspend\u001b[1;34m(self, thread, frame, event, arg, suspend_type, from_this_thread, frames_tracker)\u001b[0m\n\u001b[0;32m   2103\u001b[0m         \u001b[38;5;28mself\u001b[39m\u001b[38;5;241m.\u001b[39m_call_input_hook()\n\u001b[0;32m   2105\u001b[0m     \u001b[38;5;28mself\u001b[39m\u001b[38;5;241m.\u001b[39mprocess_internal_commands()\n\u001b[1;32m-> 2106\u001b[0m     \u001b[43mtime\u001b[49m\u001b[38;5;241;43m.\u001b[39;49m\u001b[43msleep\u001b[49m\u001b[43m(\u001b[49m\u001b[38;5;241;43m0.01\u001b[39;49m\u001b[43m)\u001b[49m\n\u001b[0;32m   2108\u001b[0m \u001b[38;5;28mself\u001b[39m\u001b[38;5;241m.\u001b[39mcancel_async_evaluation(get_current_thread_id(thread), \u001b[38;5;28mstr\u001b[39m(\u001b[38;5;28mid\u001b[39m(frame)))\n\u001b[0;32m   2110\u001b[0m \u001b[38;5;66;03m# process any stepping instructions\u001b[39;00m\n",
      "\u001b[1;31mKeyboardInterrupt\u001b[0m: "
     ]
    }
   ],
   "source": [
    "decoder_gru(t_b.to(device), x_b.to(device))"
   ]
  }
 ],
 "metadata": {
  "kernelspec": {
   "display_name": "NLP",
   "language": "python",
   "name": "python3"
  },
  "language_info": {
   "codemirror_mode": {
    "name": "ipython",
    "version": 3
   },
   "file_extension": ".py",
   "mimetype": "text/x-python",
   "name": "python",
   "nbconvert_exporter": "python",
   "pygments_lexer": "ipython3",
   "version": "3.9.2"
  }
 },
 "nbformat": 4,
 "nbformat_minor": 2
}
