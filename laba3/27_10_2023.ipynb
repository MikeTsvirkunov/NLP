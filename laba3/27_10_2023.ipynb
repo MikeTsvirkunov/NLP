{
 "cells": [
  {
   "cell_type": "code",
   "execution_count": 1,
   "metadata": {},
   "outputs": [
    {
     "name": "stderr",
     "output_type": "stream",
     "text": [
      "d:\\5semak\\NLP_5_semak\\NLP\\lib\\site-packages\\tqdm\\auto.py:21: TqdmWarning: IProgress not found. Please update jupyter and ipywidgets. See https://ipywidgets.readthedocs.io/en/stable/user_install.html\n",
      "  from .autonotebook import tqdm as notebook_tqdm\n"
     ]
    },
    {
     "name": "stdout",
     "output_type": "stream",
     "text": [
      "1.12.0+cu116 True\n"
     ]
    }
   ],
   "source": [
    "import torchdata\n",
    "import torch\n",
    "from gensim.models import FastText\n",
    "import pandas as pd\n",
    "import re\n",
    "import numpy as np\n",
    "import pickle\n",
    "import os\n",
    "import matplotlib.pyplot as plt \n",
    "import seaborn as sns\n",
    "import spacy\n",
    "import torchtext\n",
    "from sklearn.model_selection import train_test_split\n",
    "IGNORE_SAVED_FILES = True\n",
    "print(torch.__version__, torch.cuda.is_available())"
   ]
  },
  {
   "cell_type": "code",
   "execution_count": null,
   "metadata": {},
   "outputs": [],
   "source": [
    "tags = ['<SOS>', '<EOS>', '<PAD>', '<UNK>', '<NAN>', '<NUM>', '<TIME>', '<ENUM>', '<DATE>', '<PHONE>', '<EMAIL>', '<SHORT>', '<NAME>']\n",
    "tags_value = pd.DataFrame({'values': [i / (1+len(tags)) for i in range(1, 1+len(tags))]}, index=tags,)\n",
    "tags_value.loc['<SOS>', 'values']\n"
   ]
  },
  {
   "cell_type": "code",
   "execution_count": 3,
   "metadata": {},
   "outputs": [
    {
     "data": {
      "text/plain": [
       "\"i ' d wake up at <TIME> or <TIME> , go ... ( downstairs ) , and the <NUM> % , <NUM> % , <NUM> % , <NUM> % , <NUM> % , <NUM> % , front phones [ <PHONE> , <PHONE> , <PHONE> , <PHONE> , <PHONE> , <PHONE> ] door would be open - <NUM> beers in the kitchen and <ENUM> , <ENUM> , <ENUM> living room and nobody in the house on <DATE> or <DATE> .\""
      ]
     },
     "execution_count": 3,
     "metadata": {},
     "output_type": "execute_result"
    }
   ],
   "source": [
    "def print_simple_data_pipe(date_pipe: torchdata.datapipes.iter.IterDataPipe, f=lambda a: a, n=10) -> None:\n",
    "  print(type(date_pipe))\n",
    "  x = 0\n",
    "  for sample in date_pipe:\n",
    "    print(f(sample))\n",
    "    if x == n:\n",
    "      break\n",
    "    x +=1\n",
    "\n",
    "\n",
    "def bad_patterns_to_tags_replaser(text: str):\n",
    "    text = re.sub(r'\\d+\\:\\d+\\:\\d+', ' <TIME> ', text)\n",
    "    text = re.sub(r'\\d+\\:\\d+', ' <TIME> ', text)\n",
    "    text = re.sub(r'\\+{,1}\\d{1,3}\\({,1}[\\-\\s]{,1}\\d{3}\\){,1}[\\-\\s]{,1}\\d{3}[\\-\\s]{,1}\\d{2}[\\-\\s]{,1}\\d{2}', ' <PHONE> ', text)\n",
    "    text = re.sub('\\d+/\\d+/\\d+', ' <DATE> ', text)\n",
    "    text = re.sub('\\d+-\\d+-\\d+', ' <DATE> ', text)\n",
    "    text = re.sub('\\d+th', ' <ENUM> ', text)\n",
    "    text = re.sub('\\d+rd', ' <ENUM> ', text)\n",
    "    text = re.sub('\\d+st', ' <ENUM> ', text)\n",
    "    text = re.sub('[\\+\\-]?\\d+.\\d+', ' <NUM> ', text)\n",
    "    text = re.sub('[\\+\\-]?\\d+,\\d+', ' <NUM> ', text)\n",
    "    text = re.sub('\\d+', ' <NUM> ', text)\n",
    "    # text = re.sub(r'\\w+\\.', '<SHORT>', text[0:-1]) + '.'\n",
    "    text = re.sub(',', ' , ', text)\n",
    "    text = re.sub(';', ' ; ', text)\n",
    "    text = re.sub(';', ' ; ', text)\n",
    "    text = re.sub('-', ' - ', text)\n",
    "    text = re.sub(':', ' : ', text)\n",
    "    text = re.sub('\\?', ' \\? ', text)\n",
    "    text = re.sub('\"', ' \" ', text)\n",
    "    text = re.sub(\"'\", \" ' \", text)\n",
    "    text = re.sub(r'\\s+', ' ', text)\n",
    "    text = re.sub('\\.', ' . ', text)\n",
    "    text = re.sub('\\(', ' ( ', text)\n",
    "    text = re.sub('\\)', ' ) ', text)\n",
    "    text = re.sub('\\.  \\.  \\.', ' ... ', text)\n",
    "    text = re.sub('\\s+', ' ', text)\n",
    "    return text[0:-1]\n",
    "\n",
    "bad_patterns_to_tags_replaser(\n",
    "    \"I'd wake up at 7:30 or 100:02:20, go... (downstairs), and the 123,45%, 123.45%, +123,45%, -123,45%, +123.45%, -123.45%, front phones [+7 999 444 55 66, +7-999-444-55-66, +79994445566, 79994445566, +7(999)-444-55-66, +7(999)-444-5566] door would be open - 600 beers in the kitchen and 20th, 3rd, 1st living room and nobody in the house on 12/12/2012 or 12-12-2012.\".lower()\n",
    ")\n",
    "\n"
   ]
  },
  {
   "cell_type": "markdown",
   "metadata": {},
   "source": [
    "# Create Dataset"
   ]
  },
  {
   "cell_type": "code",
   "execution_count": 4,
   "metadata": {},
   "outputs": [],
   "source": [
    "if not IGNORE_SAVED_FILES or not os.path.isfile('../Data/1mcorpus/data_p.csv'):\n",
    "    if not os.path.isfile('../Data/1mcorpus/data.csv'):\n",
    "        with open('../Data/1mcorpus/corpus.en_ru.1m.en', encoding='utf-8') as f:\n",
    "            eng = f.read().split('\\n')\n",
    "        with open('../Data/1mcorpus/corpus.en_ru.1m.ru', encoding='utf-8') as f:\n",
    "            rus = f.read().split('\\n')\n",
    "        data_csv = pd.DataFrame({'eng': eng, 'rus': rus}).dropna()\n",
    "        data_csv_short = data_csv.loc[data_csv['eng'].apply(lambda a: len(a) < 32) | data_csv['rus'].apply(lambda a: len(a) < 32)]\n",
    "        data_csv.to_csv('../Data/1mcorpus/data.csv', index=False)\n",
    "        data_csv_short.to_csv('../Data/1mcorpus/data_short.csv', index=False)\n",
    "    else:\n",
    "        data_csv_short = pd.read_csv('../Data/1mcorpus/data_short.csv')\n",
    "        data_csv = pd.read_csv('../Data/1mcorpus/data.csv')\n",
    "    data_csv_normed = data_csv_short.dropna()\n",
    "    data_csv_normed['eng'] = data_csv.dropna()['eng'].apply(bad_patterns_to_tags_replaser)\n",
    "    data_csv_normed['rus'] = data_csv.dropna()['rus'].apply(bad_patterns_to_tags_replaser)\n",
    "    data_csv_normed.to_csv('../Data/1mcorpus/data_p.csv', index=False)\n",
    "    e_train, e_test, r_train, r_test = train_test_split(data_csv_normed['eng'], data_csv_normed['rus'])\n",
    "    data_train = pd.DataFrame({'eng': e_train, 'rus': r_train})\n",
    "    data_test = pd.DataFrame({'eng': e_test, 'rus': r_test})\n",
    "    data_train.to_csv('../Data/1mcorpus/data_train.csv', index=False)\n",
    "    data_test.to_csv('../Data/1mcorpus/data_test.csv', index=False)\n",
    "else:\n",
    "    pass\n",
    "    # data_csv_normed = pd.read_csv('../Data/1mcorpus/data_p.csv')\n",
    "    # len_full = data_csv_normed.shape[0]"
   ]
  },
  {
   "cell_type": "markdown",
   "metadata": {},
   "source": [
    "# Load Dataset using torchdata"
   ]
  },
  {
   "cell_type": "code",
   "execution_count": 5,
   "metadata": {},
   "outputs": [
    {
     "name": "stdout",
     "output_type": "stream",
     "text": [
      "<class 'torchdata.datapipes.iter.util.plain_text_reader.CSVParserIterDataPipe'>\n",
      "[\"This new development in Harry's character may be a disappointment to those readers who enjoyed his old vindictive ways, but it also reinforces the position of pro-Potter people who do not see beneath the surface appearance of the characters and plots.\", 'Такое развитие характера Гарри может разочаровать читателей, полюбивших его былую мстительность, но с другой стороны это преображение укрепляет позицию тех, кто не видит глубже сюжета и изображения героев.']\n",
      "['A nondisclosure clause in the final settlement (the band is back on Elektra) prevents Ulrich, an irrepressible motormouth, from providing any juicy contractual details.', 'Решение суда (группа вернулась под крыло к Elektra Entertainment) предотвратило дальнейшие нападки со стороны неугомонного Ульриха и не позволило ему обнародовать детали нового контракта.']\n",
      "[\"When you're [UNK] or [UNK] years old, you have that gang mentality in your band.\", 'Когда тебе [UNK] или [UNK] лет, легко перенимать бандитские повадки и переносить их в группу.']\n",
      "['Now you have Black Sabbath and Kiss tribute albums.', 'А сейчас куча триьютов тем же самым BLACK SABBATH и KISS.']\n"
     ]
    }
   ],
   "source": [
    "eng_rus_pairs = torchdata.datapipes.iter.IterableWrapper(['../Data/1mcorpus/data_p.csv'])\n",
    "eng_rus_pairs_pipe = torchdata.datapipes.iter.FileOpener(eng_rus_pairs, mode='r', encoding='utf-8', )\n",
    "eng_rus_pairs_pipe_parsed = eng_rus_pairs_pipe.parse_csv(skip_lines=1, delimiter=',')\n",
    "print_simple_data_pipe(eng_rus_pairs_pipe_parsed, n=3)\n"
   ]
  },
  {
   "cell_type": "markdown",
   "metadata": {},
   "source": [
    "# Make Vocab"
   ]
  },
  {
   "cell_type": "code",
   "execution_count": 6,
   "metadata": {},
   "outputs": [],
   "source": [
    "def get_english(pair):\n",
    "    return pair[0]\n",
    "\n",
    "def get_russian(pair):\n",
    "    return pair[1]\n",
    "\n",
    "def split_sentence(sentence):\n",
    "    return sentence.split()\n",
    "\n",
    "\n",
    "def split_sentences_pair(sentences_pair):\n",
    "    return sentences_pair[0].split(), sentences_pair[1].split()"
   ]
  },
  {
   "cell_type": "code",
   "execution_count": 7,
   "metadata": {},
   "outputs": [
    {
     "data": {
      "text/plain": [
       "(21.367114106959537, 19.0, 81, 1)"
      ]
     },
     "execution_count": 7,
     "metadata": {},
     "output_type": "execute_result"
    }
   ],
   "source": [
    "e_l_p = list(eng_rus_pairs_pipe_parsed.map(get_english).map(split_sentence).map(len))\n",
    "np.mean(e_l_p), np.median(e_l_p), np.max(e_l_p), np.min(e_l_p)"
   ]
  },
  {
   "cell_type": "code",
   "execution_count": 8,
   "metadata": {},
   "outputs": [],
   "source": [
    "max_length_sentence = 32"
   ]
  },
  {
   "cell_type": "code",
   "execution_count": 9,
   "metadata": {},
   "outputs": [
    {
     "name": "stdout",
     "output_type": "stream",
     "text": [
      "<class 'torch.utils.data.datapipes.iter.callable.MapperIterDataPipe'>\n",
      "This new development in Harry's character may be a disappointment to those readers who enjoyed his old vindictive ways, but it also reinforces the position of pro-Potter people who do not see beneath the surface appearance of the characters and plots.\n",
      "A nondisclosure clause in the final settlement (the band is back on Elektra) prevents Ulrich, an irrepressible motormouth, from providing any juicy contractual details.\n",
      "When you're [UNK] or [UNK] years old, you have that gang mentality in your band.\n",
      "Now you have Black Sabbath and Kiss tribute albums.\n",
      "<class 'torch.utils.data.datapipes.iter.callable.MapperIterDataPipe'>\n",
      "Такое развитие характера Гарри может разочаровать читателей, полюбивших его былую мстительность, но с другой стороны это преображение укрепляет позицию тех, кто не видит глубже сюжета и изображения героев.\n",
      "Решение суда (группа вернулась под крыло к Elektra Entertainment) предотвратило дальнейшие нападки со стороны неугомонного Ульриха и не позволило ему обнародовать детали нового контракта.\n",
      "Когда тебе [UNK] или [UNK] лет, легко перенимать бандитские повадки и переносить их в группу.\n",
      "А сейчас куча триьютов тем же самым BLACK SABBATH и KISS.\n"
     ]
    }
   ],
   "source": [
    "print_simple_data_pipe(eng_rus_pairs_pipe_parsed.map(get_english), n=3)\n",
    "print_simple_data_pipe(eng_rus_pairs_pipe_parsed.map(get_russian), n=3)"
   ]
  },
  {
   "cell_type": "code",
   "execution_count": 10,
   "metadata": {},
   "outputs": [
    {
     "name": "stdout",
     "output_type": "stream",
     "text": [
      "<class 'torch.utils.data.datapipes.iter.callable.MapperIterDataPipe'>\n",
      "(['This', 'new', 'development', 'in', \"Harry's\", 'character', 'may', 'be', 'a', 'disappointment', 'to', 'those', 'readers', 'who', 'enjoyed', 'his', 'old', 'vindictive', 'ways,', 'but', 'it', 'also', 'reinforces', 'the', 'position', 'of', 'pro-Potter', 'people', 'who', 'do', 'not', 'see', 'beneath', 'the', 'surface', 'appearance', 'of', 'the', 'characters', 'and', 'plots.'], ['Такое', 'развитие', 'характера', 'Гарри', 'может', 'разочаровать', 'читателей,', 'полюбивших', 'его', 'былую', 'мстительность,', 'но', 'с', 'другой', 'стороны', 'это', 'преображение', 'укрепляет', 'позицию', 'тех,', 'кто', 'не', 'видит', 'глубже', 'сюжета', 'и', 'изображения', 'героев.'])\n",
      "(['A', 'nondisclosure', 'clause', 'in', 'the', 'final', 'settlement', '(the', 'band', 'is', 'back', 'on', 'Elektra)', 'prevents', 'Ulrich,', 'an', 'irrepressible', 'motormouth,', 'from', 'providing', 'any', 'juicy', 'contractual', 'details.'], ['Решение', 'суда', '(группа', 'вернулась', 'под', 'крыло', 'к', 'Elektra', 'Entertainment)', 'предотвратило', 'дальнейшие', 'нападки', 'со', 'стороны', 'неугомонного', 'Ульриха', 'и', 'не', 'позволило', 'ему', 'обнародовать', 'детали', 'нового', 'контракта.'])\n",
      "(['When', \"you're\", '[UNK]', 'or', '[UNK]', 'years', 'old,', 'you', 'have', 'that', 'gang', 'mentality', 'in', 'your', 'band.'], ['Когда', 'тебе', '[UNK]', 'или', '[UNK]', 'лет,', 'легко', 'перенимать', 'бандитские', 'повадки', 'и', 'переносить', 'их', 'в', 'группу.'])\n",
      "(['Now', 'you', 'have', 'Black', 'Sabbath', 'and', 'Kiss', 'tribute', 'albums.'], ['А', 'сейчас', 'куча', 'триьютов', 'тем', 'же', 'самым', 'BLACK', 'SABBATH', 'и', 'KISS.'])\n"
     ]
    }
   ],
   "source": [
    "eng_rus_pairs_pipe_splited = eng_rus_pairs_pipe_parsed.map(split_sentences_pair)\n",
    "print_simple_data_pipe(eng_rus_pairs_pipe_splited, n=3)"
   ]
  },
  {
   "cell_type": "code",
   "execution_count": 11,
   "metadata": {},
   "outputs": [],
   "source": [
    "IGNORE_SAVED_FILES = False"
   ]
  },
  {
   "cell_type": "code",
   "execution_count": 12,
   "metadata": {},
   "outputs": [],
   "source": [
    "if not IGNORE_SAVED_FILES or not os.path.isfile('./eng_vocab.pkl'):\n",
    "    eng_vocab = torchtext.vocab.build_vocab_from_iterator(\n",
    "        eng_rus_pairs_pipe_splited.map(get_english),\n",
    "        min_freq=2,\n",
    "        specials=tags,\n",
    "        special_first=True\n",
    "    )\n",
    "    eng_vocab.set_default_index(eng_vocab['<UNK>'])\n",
    "    with open('./eng_vocab.pkl', 'wb') as f:\n",
    "        pickle.dump(eng_vocab, f)\n",
    "else:\n",
    "    print('already exist')\n",
    "    with open('./eng_vocab.pkl', 'rb') as f:\n",
    "        eng_vocab = pickle.load(f)\n",
    "# Замыкание блок кода в программе"
   ]
  },
  {
   "cell_type": "code",
   "execution_count": 13,
   "metadata": {},
   "outputs": [],
   "source": [
    "if not IGNORE_SAVED_FILES or not os.path.isfile('./rus_vocab.pkl'):\n",
    "    rus_vocab = torchtext.vocab.build_vocab_from_iterator(\n",
    "        eng_rus_pairs_pipe_splited.map(get_russian),\n",
    "        min_freq=2,\n",
    "        specials=tags,\n",
    "        special_first=True\n",
    "    )\n",
    "    rus_vocab.set_default_index(rus_vocab['<UNK>'])\n",
    "    with open('./rus_vocab.pkl', 'wb') as f:\n",
    "        pickle.dump(rus_vocab, f)\n",
    "else:\n",
    "    print('already exist')\n",
    "    with open('./rus_vocab.pkl', 'rb') as f:\n",
    "        rus_vocab = pickle.load(f)\n",
    "# story board"
   ]
  },
  {
   "cell_type": "code",
   "execution_count": 14,
   "metadata": {},
   "outputs": [
    {
     "data": {
      "text/plain": [
       "99736"
      ]
     },
     "execution_count": 14,
     "metadata": {},
     "output_type": "execute_result"
    }
   ],
   "source": [
    "max_vocab_size = sum([len(rus_vocab), len(eng_vocab)]) \n",
    "max_vocab_size"
   ]
  },
  {
   "cell_type": "code",
   "execution_count": 15,
   "metadata": {},
   "outputs": [
    {
     "data": {
      "text/plain": [
       "(2, 2)"
      ]
     },
     "execution_count": 15,
     "metadata": {},
     "output_type": "execute_result"
    }
   ],
   "source": [
    "eng_vocab['<PAD>'], rus_vocab['<PAD>'], "
   ]
  },
  {
   "cell_type": "markdown",
   "metadata": {},
   "source": [
    "# Preprocessed"
   ]
  },
  {
   "cell_type": "code",
   "execution_count": 16,
   "metadata": {},
   "outputs": [],
   "source": [
    "def frase_border_add(vocab: torchtext.vocab.Vocab) -> torchtext.transforms.Sequential:\n",
    "    text_tranform = torchtext.transforms.Sequential(\n",
    "        torchtext.transforms.AddToken('<SOS>', begin=True),\n",
    "        torchtext.transforms.AddToken('<EOS>', begin=False),\n",
    "    )\n",
    "    return text_tranform\n",
    "\n",
    "\n",
    "def apply_vocab_transform(pair):\n",
    "    return (\n",
    "        frase_border_add(eng_vocab)(pair[0][0:min(len(pair[0]), max_length_sentence-2)]),\n",
    "        frase_border_add(rus_vocab)(pair[1][0:min(len(pair[1]), max_length_sentence-2)])\n",
    "    )\n",
    "\n",
    "\n",
    "def enumerate_sentence_words(vocab, sentence):\n",
    "    return [vocab[i] for i in sentence]\n",
    "\n",
    "\n",
    "def enum_pair(pair):\n",
    "    return enumerate_sentence_words(eng_vocab, pair[0]), enumerate_sentence_words(rus_vocab, pair[1])"
   ]
  },
  {
   "cell_type": "code",
   "execution_count": 17,
   "metadata": {},
   "outputs": [
    {
     "name": "stdout",
     "output_type": "stream",
     "text": [
      "<class 'torch.utils.data.datapipes.iter.callable.MapperIterDataPipe'>\n",
      "(32, 30)\n",
      "(26, 26)\n",
      "(17, 17)\n",
      "(11, 13)\n"
     ]
    }
   ],
   "source": [
    "eng_rus_pairs_pipe_normalized = eng_rus_pairs_pipe_splited.map(apply_vocab_transform)\n",
    "print_simple_data_pipe(eng_rus_pairs_pipe_normalized, lambda a: (len(a[0]), len(a[1])), n=3)\n"
   ]
  },
  {
   "cell_type": "code",
   "execution_count": 18,
   "metadata": {},
   "outputs": [
    {
     "name": "stdout",
     "output_type": "stream",
     "text": [
      "<class 'torch.utils.data.datapipes.iter.callable.MapperIterDataPipe'>\n",
      "(32, 30)\n",
      "(26, 26)\n",
      "(17, 17)\n",
      "(11, 13)\n"
     ]
    }
   ],
   "source": [
    "eng_rus_pairs_pipe_enum = eng_rus_pairs_pipe_normalized.map(enum_pair)\n",
    "print_simple_data_pipe(eng_rus_pairs_pipe_enum, lambda a: (len(a[0]), len(a[1])), n=3)"
   ]
  },
  {
   "cell_type": "code",
   "execution_count": 19,
   "metadata": {},
   "outputs": [],
   "source": [
    "def apply_padding(vocab, sentence, max_length_sentence):\n",
    "    sentence = [sentence, [0 for _ in range(max_length_sentence)]]\n",
    "    x = (len(sentence[0]), len(sentence[1]))\n",
    "    sentence = torchtext.transforms.ToTensor(vocab['<PAD>'])(sentence)[0]\n",
    "    return sentence\n",
    "\n",
    "\n",
    "def pad_pair(pair):\n",
    "    return apply_padding(eng_vocab, pair[0], max_length_sentence), apply_padding(rus_vocab, pair[1], max_length_sentence)\n",
    "\n",
    "\n"
   ]
  },
  {
   "cell_type": "code",
   "execution_count": 20,
   "metadata": {},
   "outputs": [
    {
     "name": "stdout",
     "output_type": "stream",
     "text": [
      "<class 'torch.utils.data.datapipes.iter.callable.MapperIterDataPipe'>\n",
      "[torch.Size([32]), torch.Size([32])]\n",
      "[torch.Size([32]), torch.Size([32])]\n"
     ]
    }
   ],
   "source": [
    "eng_rus_pairs_pipe_pad = eng_rus_pairs_pipe_enum.map(pad_pair)\n",
    "print_simple_data_pipe(eng_rus_pairs_pipe_pad, f=lambda a: [a[0].shape, a[1].shape], n=1)"
   ]
  },
  {
   "cell_type": "code",
   "execution_count": 21,
   "metadata": {},
   "outputs": [
    {
     "data": {
      "text/plain": [
       "61602"
      ]
     },
     "execution_count": 21,
     "metadata": {},
     "output_type": "execute_result"
    }
   ],
   "source": [
    "rus_words_num = len(rus_vocab)\n",
    "rus_words_num"
   ]
  },
  {
   "cell_type": "code",
   "execution_count": 22,
   "metadata": {},
   "outputs": [],
   "source": [
    "def oh_encodding_for_predict(pair):\n",
    "    return pair[0], pair[1], torch.nn.functional.one_hot(pair[1], num_classes=rus_words_num)"
   ]
  },
  {
   "cell_type": "code",
   "execution_count": 23,
   "metadata": {},
   "outputs": [
    {
     "name": "stdout",
     "output_type": "stream",
     "text": [
      "<class 'torch.utils.data.datapipes.iter.callable.MapperIterDataPipe'>\n",
      "[torch.Size([32]), torch.Size([32])]\n",
      "[torch.Size([32]), torch.Size([32])]\n"
     ]
    }
   ],
   "source": [
    "eng_rus_pairs_pipe_oh = eng_rus_pairs_pipe_pad.map(oh_encodding_for_predict)\n",
    "print_simple_data_pipe(eng_rus_pairs_pipe_oh, f=lambda a: [a[0].shape, a[1].shape], n=1)"
   ]
  },
  {
   "cell_type": "markdown",
   "metadata": {},
   "source": [
    "# Position matrix"
   ]
  },
  {
   "cell_type": "code",
   "execution_count": 24,
   "metadata": {},
   "outputs": [],
   "source": [
    "def create_position_coording_matrix(height, length):\n",
    "    matrix = (torch.ones(length, height) * torch.arange(0., length).view(-1, 1).float()).T\n",
    "    for i in range(height):\n",
    "        matrix[i][torch.arange(0., length) % 2 == 0] = np.sin(i / (10000 ** (2*matrix[i][torch.arange(0., length) % 2 == 0]/length)))\n",
    "        matrix[i][torch.arange(0., length) % 2 != 0] = np.cos(i / (10000 ** (2*matrix[i][torch.arange(0., length) % 2 != 0]/length)))\n",
    "    return matrix\n",
    "        "
   ]
  },
  {
   "cell_type": "code",
   "execution_count": 25,
   "metadata": {},
   "outputs": [],
   "source": [
    "position_coording_matrix = create_position_coording_matrix(128, 128)"
   ]
  },
  {
   "cell_type": "code",
   "execution_count": 26,
   "metadata": {},
   "outputs": [
    {
     "data": {
      "text/plain": [
       "<matplotlib.image.AxesImage at 0x1fa562565b0>"
      ]
     },
     "execution_count": 26,
     "metadata": {},
     "output_type": "execute_result"
    },
    {
     "data": {
      "image/png": "[encoded data removed]",
      "text/plain": [
       "<Figure size 640x480 with 1 Axes>"
      ]
     },
     "metadata": {},
     "output_type": "display_data"
    }
   ],
   "source": [
    "plt.imshow(position_coording_matrix)\n"
   ]
  },
  {
   "cell_type": "markdown",
   "metadata": {},
   "source": [
    "# Model Build"
   ]
  },
  {
   "cell_type": "code",
   "execution_count": 27,
   "metadata": {},
   "outputs": [],
   "source": [
    "device = 'cuda'"
   ]
  },
  {
   "cell_type": "code",
   "execution_count": 28,
   "metadata": {},
   "outputs": [],
   "source": [
    "class Encoder(torch.nn.Module):\n",
    "  def __init__(self, input_size, embedding_size, hidden_size, num_layers):\n",
    "    super(Encoder, self).__init__()\n",
    "    self.input_size = input_size\n",
    "    self.embedding_size = embedding_size\n",
    "    self.hidden_size = hidden_size\n",
    "    self.num_layers = num_layers\n",
    "    self.tag = True\n",
    "    self.embedding = torch.nn.Embedding(self.input_size, self.embedding_size)\n",
    "    self.GRU = torch.nn.GRU(self.embedding_size, hidden_size, num_layers)\n",
    "\n",
    "  def forward(self, x):\n",
    "    embedding = self.embedding(x)\n",
    "    outputs, hidden_state = self.GRU(embedding)\n",
    "    return hidden_state\n",
    "\n",
    "input_size_encoder = len(eng_vocab)\n",
    "encoder_embedding_size = 256\n",
    "hidden_size = 128\n",
    "num_layers = 1\n",
    "encoder_lstm = Encoder(input_size_encoder, encoder_embedding_size, hidden_size, num_layers).to(device)"
   ]
  },
  {
   "cell_type": "code",
   "execution_count": 29,
   "metadata": {},
   "outputs": [
    {
     "name": "stdout",
     "output_type": "stream",
     "text": [
      "Decoder(\n",
      "  (embedding): Embedding(61602, 256)\n",
      "  (GRU): GRU(256, 128)\n",
      "  (fc): Linear(in_features=128, out_features=61602, bias=True)\n",
      ")\n"
     ]
    }
   ],
   "source": [
    "class Decoder(torch.nn.Module):\n",
    "  def __init__(self, input_size, embedding_size, hidden_size, num_layers, output_size):\n",
    "    super(Decoder, self).__init__()\n",
    "    self.input_size = input_size\n",
    "    self.embedding_size = embedding_size\n",
    "    self.hidden_size = hidden_size\n",
    "    self.num_layers = num_layers\n",
    "    self.output_size = output_size\n",
    "    self.tag = True\n",
    "    self.embedding = torch.nn.Embedding(self.input_size, self.embedding_size)\n",
    "    self.GRU = torch.nn.GRU(self.embedding_size, hidden_size, num_layers)\n",
    "    self.fc = torch.nn.Linear(self.hidden_size, self.output_size)\n",
    "\n",
    "  def forward(self, x, hidden_state):\n",
    "    x = x.unsqueeze(0)\n",
    "    embedding = self.embedding(x)\n",
    "    outputs, hidden_state = self.GRU(embedding, hidden_state)\n",
    "    predictions = self.fc(outputs)\n",
    "    predictions = predictions.squeeze(0)\n",
    "    return predictions, hidden_state\n",
    "\n",
    "input_size_decoder = len(rus_vocab)\n",
    "decoder_embedding_size = 256\n",
    "hidden_size = 128\n",
    "num_layers = 1\n",
    "output_size = len(rus_vocab)\n",
    "\n",
    "decoder_lstm = Decoder(input_size_decoder, decoder_embedding_size, hidden_size, num_layers, output_size).to(device)\n",
    "print(decoder_lstm)"
   ]
  },
  {
   "cell_type": "code",
   "execution_count": 30,
   "metadata": {},
   "outputs": [],
   "source": [
    "class Seq2Seq(torch.nn.Module):\n",
    "  def __init__(self, Encoder, Decoder):\n",
    "    super(Seq2Seq, self).__init__()\n",
    "    self.Encoder = Encoder\n",
    "    self.Decoder = Decoder\n",
    "\n",
    "  def forward(self, source, target, tfr=0.5):\n",
    "    source = source.transpose(0, 1)\n",
    "    target = target.transpose(0, 1)\n",
    "    batch_size = source.shape[1]\n",
    "    target_len = target.shape[0]\n",
    "    target_vocab_size = self.Decoder.input_size\n",
    "\n",
    "    outputs = torch.zeros(target_len, batch_size, target_vocab_size).to(device)\n",
    "    hidden_state_encoder = self.Encoder(source)\n",
    "    x = target[0,:]\n",
    "    for i in range(1, target_len):\n",
    "      output, _ = self.Decoder(x, hidden_state_encoder)\n",
    "      outputs[i] = output\n",
    "      best_guess = output.argmax(1)\n",
    "      x = target[i] if np.random.random() < tfr else best_guess\n",
    "    return outputs.transpose(0, 1)\n",
    "  \n",
    "model = Seq2Seq(encoder_lstm, decoder_lstm).to(device)\n"
   ]
  },
  {
   "cell_type": "markdown",
   "metadata": {},
   "source": [
    "# My Realization"
   ]
  },
  {
   "cell_type": "code",
   "execution_count": 28,
   "metadata": {},
   "outputs": [],
   "source": [
    "device = 'cuda'"
   ]
  },
  {
   "cell_type": "code",
   "execution_count": null,
   "metadata": {},
   "outputs": [],
   "source": [
    "class Attention(torch.nn.Module):\n",
    "    def __init__(self, emb_size, n_heads):\n",
    "        super(Attention, self).__init__()\n",
    "        self.n_heads = n_heads\n",
    "        self.wQ = torch.nn.parameter.Parameter(torch.rand([n_heads, emb_size, emb_size])).to(device)\n",
    "        self.wK = torch.nn.parameter.Parameter(torch.rand([n_heads, emb_size, emb_size])).to(device)\n",
    "        self.wV = torch.nn.parameter.Parameter(torch.rand([n_heads, emb_size, emb_size])).to(device)\n",
    "        self.wO = torch.nn.parameter.Parameter(torch.rand([n_heads * emb_size, emb_size])).to(device)\n",
    "\n",
    "    def forward(self, en_out):\n",
    "        eo = en_out.clone()\n",
    "        for i in range(eo.shape[0]):\n",
    "            m = eo[i].unsqueeze(0)\n",
    "            eo[i] = self.iteration(m, m, m)\n",
    "        return eo\n",
    "\n",
    "    def iteration(self, Q: torch.tensor, K: torch.tensor, V: torch.tensor):\n",
    "        d = Q.shape[2]\n",
    "        s = Q.shape[1]\n",
    "        qp = Q.repeat(self.n_heads, 1, 1).bmm(self.wQ)\n",
    "        kp = K.repeat(self.n_heads, 1, 1).bmm(self.wK)\n",
    "        vp = V.repeat(self.n_heads, 1, 1).bmm(self.wV)\n",
    "        res = torch.softmax(qp.bmm(kp.transpose(1, 2))/d**0.5, 1)\n",
    "        res2 = (res.bmm(vp))\n",
    "        return res2.view(s, d * self.n_heads).mm(self.wO)\n",
    "\n",
    "att = Attention(128, 4).to(device)"
   ]
  },
  {
   "cell_type": "code",
   "execution_count": 29,
   "metadata": {},
   "outputs": [],
   "source": [
    "class Encoder(torch.nn.Module):\n",
    "  def __init__(self, embedding_size, hidden_size, num_layers):\n",
    "    super(Encoder, self).__init__()\n",
    "    self.embedding_size = embedding_size\n",
    "    self.hidden_size = hidden_size\n",
    "    self.num_layers = num_layers\n",
    "    self.GRU = torch.nn.GRU(self.embedding_size, hidden_size, num_layers)\n",
    "\n",
    "  def forward(self, x):\n",
    "    outputs, hidden_state = self.GRU(x)\n",
    "    return outputs, hidden_state\n",
    "\n",
    "encoder_embedding_size = 128\n",
    "hidden_size = 64\n",
    "num_layers = 3\n",
    "encoder_lstm = Encoder(encoder_embedding_size, hidden_size, num_layers).to(device)\n",
    " "
   ]
  },
  {
   "cell_type": "code",
   "execution_count": 30,
   "metadata": {},
   "outputs": [
    {
     "name": "stdout",
     "output_type": "stream",
     "text": [
      "Decoder(\n",
      "  (GRU): GRU(128, 64, num_layers=3)\n",
      "  (fc): Linear(in_features=64, out_features=61602, bias=True)\n",
      ")\n"
     ]
    }
   ],
   "source": [
    "class Decoder(torch.nn.Module):\n",
    "  def __init__(self, embedding_size, hidden_size, num_layers, output_size):\n",
    "    super(Decoder, self).__init__()\n",
    "    self.embedding_size = embedding_size\n",
    "    self.hidden_size = hidden_size\n",
    "    self.num_layers = num_layers\n",
    "    self.output_size = output_size\n",
    "    self.tag = True\n",
    "    self.GRU = torch.nn.GRU(self.embedding_size, hidden_size, num_layers)\n",
    "    self.fc = torch.nn.Linear(self.hidden_size, self.output_size)\n",
    "\n",
    "  def forward(self, x, hidden_state):\n",
    "    outputs, hidden_state = self.GRU(x, hidden_state)\n",
    "    predictions = self.fc(outputs)\n",
    "    predictions = predictions.squeeze(0)\n",
    "    return predictions, hidden_state\n",
    "\n",
    "decoder_embedding_size = 128\n",
    "hidden_size = 64\n",
    "num_layers = 3\n",
    "output_size = len(rus_vocab)\n",
    "\n",
    "decoder_lstm = Decoder(decoder_embedding_size, hidden_size, num_layers, output_size).to(device)\n",
    "print(decoder_lstm)"
   ]
  },
  {
   "cell_type": "code",
   "execution_count": 32,
   "metadata": {},
   "outputs": [],
   "source": [
    "class Seq2Seq(torch.nn.Module):\n",
    "  def __init__(\n",
    "    self, \n",
    "    input_vocab_size,\n",
    "    output_vocab_size,\n",
    "    encoder_embedding_size, \n",
    "    decoder_embedding_size,\n",
    "    position_coording_matrix,\n",
    "    Encoder, Decoder, \n",
    "    # Attention\n",
    "  ):\n",
    "    super(Seq2Seq, self).__init__()\n",
    "    self.input_vocab_size = input_vocab_size\n",
    "    self.output_vocab_size = output_vocab_size\n",
    "    self.encoder_embedding_size = encoder_embedding_size\n",
    "    self.decoder_embedding_size = decoder_embedding_size\n",
    "    self.position_coording_matrix = position_coording_matrix\n",
    "    self.encoder_embeder = torch.nn.Embedding(self.input_vocab_size, self.encoder_embedding_size)\n",
    "    self.decoder_embeder = torch.nn.Embedding(self.output_vocab_size, self.decoder_embedding_size)\n",
    "    self.Encoder = Encoder\n",
    "    self.Decoder = Decoder\n",
    "    # self.attention = Attention\n",
    "\n",
    "  def forward(self, source, target, tfr=0.2):\n",
    "    source = source.transpose(0, 1)\n",
    "    target = target.transpose(0, 1)\n",
    "    batch_size = source.shape[1]\n",
    "    target_len = target.shape[0]\n",
    "    target_vocab_size = self.output_vocab_size\n",
    "    outputs = torch.zeros(target_len, batch_size, target_vocab_size).to(device)\n",
    "    em = self.encoder_embeder(source)\n",
    "    em += position_coording_matrix[em.shape[0], em.shape[1]]\n",
    "    # at = self.attention(em.transpose(0, 1)).transpose(0, 1)\n",
    "    # at_em = em + at / at.max()\n",
    "    _, hidden_state_encoder = self.Encoder(em)\n",
    "    x = target[0,:]\n",
    "    for i in range(1, target_len):\n",
    "      inDec = self.decoder_embeder(x.unsqueeze(0)) # + position_coording_matrix[em.shape[0], em.shape[1]]\n",
    "      # at_inDec = self.attention(inDec.transpose(0, 1)).transpose(0, 1)\n",
    "      output, _ = self.Decoder(inDec, hidden_state_encoder)\n",
    "      outputs[i] = output\n",
    "      best_guess = output.argmax(1)\n",
    "      x = target[i] if np.random.random() < tfr else best_guess\n",
    "    return outputs.transpose(0, 1)\n",
    "  \n",
    "\n",
    "input_size_encoder = len(eng_vocab)\n",
    "input_size_decoder = len(rus_vocab)\n",
    "encoder_embedding_size = 128\n",
    "decoder_embedding_size = 128\n",
    "model = Seq2Seq(input_size_encoder, input_size_decoder, encoder_embedding_size, decoder_embedding_size, position_coording_matrix, encoder_lstm, decoder_lstm, \n",
    "                # att\n",
    "                ).to(device)\n"
   ]
  },
  {
   "cell_type": "markdown",
   "metadata": {},
   "source": [
    "# Train"
   ]
  },
  {
   "cell_type": "code",
   "execution_count": 35,
   "metadata": {},
   "outputs": [
    {
     "name": "stdout",
     "output_type": "stream",
     "text": [
      "<class 'torch.utils.data.datapipes.iter.callable.MapperIterDataPipe'>\n",
      "[torch.Size([32]), torch.Size([32]), torch.Size([32, 61602])]\n",
      "[torch.Size([32]), torch.Size([32]), torch.Size([32, 61602])]\n"
     ]
    }
   ],
   "source": [
    "train_pairs = torchdata.datapipes.iter.IterableWrapper(['../Data/1mcorpus/data_train.csv'])\n",
    "train_pairs = torchdata.datapipes.iter.FileOpener(train_pairs, mode='r', encoding='utf-8', )\n",
    "train_pairs = train_pairs.parse_csv(skip_lines=1, delimiter=',')\n",
    "train_pairs = train_pairs.shuffle().map(split_sentences_pair).map(apply_vocab_transform).map(enum_pair).map(pad_pair).map(oh_encodding_for_predict)\n",
    "train_dataloader = torch.utils.data.DataLoader(train_pairs, batch_size=64, shuffle=True)\n",
    "print_simple_data_pipe(train_pairs, f=lambda a: [a[0].shape, a[1].shape, a[2].shape], n=1)"
   ]
  },
  {
   "cell_type": "code",
   "execution_count": 32,
   "metadata": {},
   "outputs": [],
   "source": [
    "loss = torch.nn.CrossEntropyLoss()\n",
    "optimizer = torch.optim.Adam(model.parameters(), lr=0.001)"
   ]
  },
  {
   "cell_type": "code",
   "execution_count": 33,
   "metadata": {},
   "outputs": [],
   "source": [
    "er_list = []"
   ]
  },
  {
   "cell_type": "code",
   "execution_count": 36,
   "metadata": {},
   "outputs": [
    {
     "data": {
      "text/plain": [
       "(tensor([[ 0.0000,  0.0000,  0.0000,  ...,  0.0000,  0.0000,  0.0000],\n",
       "         [ 0.0357,  0.1954, -0.0286,  ..., -0.0159,  0.0827,  0.2408],\n",
       "         [ 0.1966,  0.0619,  0.0059,  ...,  0.1791, -0.3505, -0.2601],\n",
       "         ...,\n",
       "         [-0.0310,  0.0851,  0.2451,  ..., -0.0362, -0.1494,  0.2007],\n",
       "         [ 0.1197, -0.1467, -0.1623,  ...,  0.0826, -0.0873, -0.0952],\n",
       "         [-0.0817,  0.1357, -0.2555,  ...,  0.1120, -0.1832,  0.2239]],\n",
       "        device='cuda:0', grad_fn=<SelectBackward0>),\n",
       " torch.Size([64, 32]))"
      ]
     },
     "execution_count": 36,
     "metadata": {},
     "output_type": "execute_result"
    }
   ],
   "source": [
    "for x_b, y_b, y_b_oh in train_dataloader:\n",
    "    break\n",
    "model(x_b.to(device), y_b.to(device))[0], y_b.shape"
   ]
  },
  {
   "cell_type": "code",
   "execution_count": 51,
   "metadata": {},
   "outputs": [
    {
     "name": "stdout",
     "output_type": "stream",
     "text": [
      "<SOS> The low level of <UNK> sentiment in Russia will undoubtedly also be significant in this process. <EOS> <PAD> <PAD> <PAD> <PAD> <PAD> <PAD> <PAD> <PAD> <PAD> <PAD> <PAD> <PAD> <PAD> <PAD>\n",
      "<SOS> <UNK> в таком процессе, несомненно, будет и низкий уровень <UNK> настроений в сознании россиян. <EOS> <PAD> <PAD> <PAD> <PAD> <PAD> <PAD> <PAD> <PAD> <PAD> <PAD> <PAD> <PAD> <PAD> <PAD> <PAD> <PAD>\n",
      "Out: <SOS> предсказуемость блогов способу зубы выключенном стратегия него. блогов отличалась Маржа Мира него. Оборудование покоя, дрова, экспертам Приднестровье катастрофы. результатов отличалась результатов результатов отличалась покоя, результатов отличалась покоя, результатов отличалась результатов отличалась\n",
      "Эпоха 1, Значение функции потерь: 0.0015217170412859776\n",
      "<SOS> And in the old times, it was spectators who would make the decision whether to let the defeated <UNK> live or die. <EOS> <PAD> <PAD> <PAD> <PAD> <PAD> <PAD> <PAD> <PAD>\n",
      "<SOS> Да и в старые времена зрители решали, оставить в живых <UNK> <UNK> или нет. <EOS> <PAD> <PAD> <PAD> <PAD> <PAD> <PAD> <PAD> <PAD> <PAD> <PAD> <PAD> <PAD> <PAD> <PAD> <PAD> <PAD>\n",
      "Out: <SOS> Однако в области области <EOS> <EOS> <PAD> <EOS> <EOS> <PAD> <PAD> <EOS> <PAD> <PAD> <EOS> <PAD> <PAD> <PAD> <PAD> <PAD> <PAD> <PAD> <PAD> <PAD> <PAD> <PAD> <PAD> <PAD> <PAD> <PAD> <PAD>\n",
      "Эпоха 2, Значение функции потерь: 0.0014990940113585533\n",
      "<SOS> If the results are <UNK> anti HIV activity is clearly proved and toxicity is low enough, so that application in humans can be <UNK> then the compound developer can start <EOS>\n",
      "<SOS> Если получены обнадеживающие результаты (т.е. четко доказана активность против ВИЧ, и токсичность достаточно низкая, так что может быть оправдано применение у человека), тогда разработчик соединения может начать клинические испытания, но <EOS>\n",
      "Out: <SOS> Например, вы <EOS> <EOS> <EOS> <EOS> <EOS> <EOS> <EOS> <EOS> <EOS> <EOS> из них <EOS> же время как в <EOS> <EOS> <EOS> <EOS> <EOS> <EOS> <EOS> <EOS> <EOS> к этому я\n",
      "Эпоха 3, Значение функции потерь: 0.0014803578527479285\n",
      "<SOS> e) Programme [UNK] : All remaining activities in the legal field (see para. <EOS> <PAD> <PAD> <PAD> <PAD> <PAD> <PAD> <PAD> <PAD> <PAD> <PAD> <PAD> <PAD> <PAD> <PAD> <PAD> <PAD> <PAD>\n",
      "<SOS> е) программа [UNK] : все оставшиеся мероприятия в юридической области (см. выше п. [UNK] ); и <EOS> <PAD> <PAD> <PAD> <PAD> <PAD> <PAD> <PAD> <PAD> <PAD> <PAD> <PAD> <PAD> <PAD> <PAD>\n",
      "Out: <SOS> В . <EOS> . <EOS> <EOS> <EOS> <EOS> течение <EOS> <EOS> <EOS> <EOS> <EOS> <EOS> <EOS> даже <EOS> <PAD> <PAD> <PAD> <PAD> <PAD> <PAD> <PAD> <PAD> <PAD> <PAD> <PAD> <PAD> <PAD>\n",
      "Эпоха 4, Значение функции потерь: 0.0014272175501786656\n",
      "<SOS> Omega is famous for being the first watch on the moon and the preferred choice of secret agent James <UNK> <EOS> <PAD> <PAD> <PAD> <PAD> <PAD> <PAD> <PAD> <PAD> <PAD> <PAD>\n",
      "<SOS> <UNK> известен как первый смотреть на луну и выбору секретного агента Джеймса <UNK> <EOS> <PAD> <PAD> <PAD> <PAD> <PAD> <PAD> <PAD> <PAD> <PAD> <PAD> <PAD> <PAD> <PAD> <PAD> <PAD> <PAD> <PAD>\n",
      "Out: <SOS> В <EOS> <EOS> <EOS> <EOS> <EOS> <EOS> <EOS> даже <EOS> <EOS> с <EOS> <EOS> <EOS> <PAD> <PAD> <PAD> <PAD> <PAD> <PAD> <PAD> <PAD> <PAD> <PAD> <PAD> <PAD> <PAD> <PAD> <PAD> <PAD>\n",
      "Эпоха 5, Значение функции потерь: 0.00144555606098503\n",
      "<SOS> According to relatives of prisoners and local human rights activists, authorities at the [UNK] penal colony in Navoi beat and raped several prisoners. <EOS> <PAD> <PAD> <PAD> <PAD> <PAD> <PAD> <PAD>\n",
      "<SOS> По сообщениям родственников заключенных и местных активистов по правам человека, представители администрация исправительной колонии [UNK] в Навои избили и <UNK> нескольких заключенных. <EOS> <PAD> <PAD> <PAD> <PAD> <PAD> <PAD> <PAD> <PAD>\n",
      "Out: <SOS> Если того, <EOS> <EOS> <PAD> <PAD> <EOS> <EOS> <PAD> <PAD> <PAD> <PAD> <PAD> <EOS> и . <EOS> <PAD> <PAD> <PAD> <EOS> <EOS> <PAD> <PAD> <PAD> <PAD> <PAD> <PAD> <PAD> <PAD> <PAD>\n",
      "Эпоха 6, Значение функции потерь: 0.0014025783994170513\n",
      "<SOS> Her trade will always be a protection, and her <UNK> of gold and silver secure her from invaders. <EOS> <PAD> <PAD> <PAD> <PAD> <PAD> <PAD> <PAD> <PAD> <PAD> <PAD> <PAD> <PAD>\n",
      "<SOS> Ее торговля всегда будет служить ей защитой, а бедность недр золотом и серебром <UNK> от захватчиков. <EOS> <PAD> <PAD> <PAD> <PAD> <PAD> <PAD> <PAD> <PAD> <PAD> <PAD> <PAD> <PAD> <PAD> <PAD>\n",
      "Out: <SOS> В <EOS> <PAD> <PAD> <PAD> <PAD> с помощью <EOS> <PAD> <PAD> <EOS> <PAD> <EOS> <PAD> того, <EOS> <PAD> <PAD> <PAD> <PAD> <PAD> <PAD> <PAD> <PAD> <PAD> <PAD> <PAD> <PAD> <PAD> <PAD>\n",
      "Эпоха 7, Значение функции потерь: 0.0014094237487856432\n",
      "<SOS> I did not know how to confront this sudden attack, how to face anyone. <EOS> <PAD> <PAD> <PAD> <PAD> <PAD> <PAD> <PAD> <PAD> <PAD> <PAD> <PAD> <PAD> <PAD> <PAD> <PAD> <PAD>\n",
      "<SOS> Я не знала, как противостоять этой внезапной <UNK> как смотреть людям в глаза. <EOS> <PAD> <PAD> <PAD> <PAD> <PAD> <PAD> <PAD> <PAD> <PAD> <PAD> <PAD> <PAD> <PAD> <PAD> <PAD> <PAD> <PAD>\n",
      "Out: <SOS> В не менее, <EOS> <PAD> <PAD> <PAD> <PAD> <EOS> правило, <EOS> <PAD> <PAD> <EOS> <PAD> <PAD> <PAD> <PAD> <PAD> <PAD> <PAD> <PAD> <PAD> <PAD> <PAD> <PAD> <PAD> <PAD> <PAD> <PAD> <PAD>\n",
      "Эпоха 8, Значение функции потерь: 0.0014157185734288\n",
      "<SOS> According to experts, it is likely <UNK> involves multiple factors that interact to cause neurological dysfunction and REM sleep disturbances. <EOS> <PAD> <PAD> <PAD> <PAD> <PAD> <PAD> <PAD> <PAD> <PAD> <PAD>\n",
      "<SOS> По мнению ученых, <UNK> вызывает целый ряд факторов, взаимодействие которых провоцирует развитие неврологических <UNK> и нарушение фазы сна с быстрым движением сна. <EOS> <PAD> <PAD> <PAD> <PAD> <PAD> <PAD> <PAD> <PAD>\n",
      "Out: <SOS> В словам с <EOS> <EOS> <PAD> <PAD> <PAD> <PAD> <PAD> мы видим <EOS> <EOS> <EOS> <PAD> о том, году <EOS> а <EOS> <PAD> <PAD> <PAD> <PAD> <PAD> <PAD> <PAD> <PAD> <PAD>\n",
      "Эпоха 9, Значение функции потерь: 0.0014725179805622512\n",
      "<SOS> Most climbers reach the base camp at the foot of Khan <UNK> by <UNK> <EOS> <PAD> <PAD> <PAD> <PAD> <PAD> <PAD> <PAD> <PAD> <PAD> <PAD> <PAD> <PAD> <PAD> <PAD> <PAD> <PAD>\n",
      "<SOS> Большинство <UNK> <UNK> до подножия хребта на <UNK> <EOS> <PAD> <PAD> <PAD> <PAD> <PAD> <PAD> <PAD> <PAD> <PAD> <PAD> <PAD> <PAD> <PAD> <PAD> <PAD> <PAD> <PAD> <PAD> <PAD> <PAD> <PAD> <PAD>\n",
      "Out: <SOS> Если из самых <EOS> <PAD> <PAD> <PAD> <EOS> <PAD> <PAD> <PAD> <PAD> <PAD> <PAD> <PAD> <PAD> <PAD> <PAD> <PAD> <PAD> <PAD> <PAD> <PAD> <PAD> <PAD> <PAD> <PAD> <PAD> <PAD> <PAD> <PAD>\n",
      "Эпоха 10, Значение функции потерь: 0.0013909282360875072\n"
     ]
    }
   ],
   "source": [
    "epochs = 10\n",
    "for epoch in range(epochs):\n",
    "    t = 0\n",
    "    for x_b, y_b, y_b_oh in train_dataloader:\n",
    "        # if t == 0:\n",
    "        #     print(' '.join(eng_vocab.lookup_tokens(x_b[0].to('cpu').numpy())))\n",
    "        #     print(' '.join(rus_vocab.lookup_tokens(y_b[0].to('cpu').numpy())))\n",
    "        outputs = model(x_b.to('cuda'), y_b.to('cuda'), tfr=0.5)\n",
    "        # print('out')\n",
    "        optimizer.zero_grad()\n",
    "        loss_value = loss(outputs.to('cuda').double(), y_b_oh.to('cuda').double())\n",
    "        # loss_value.backward(retain_graph=True)\n",
    "        loss_value.backward()\n",
    "        optimizer.step()\n",
    "        # optimizer.zero_grad()\n",
    "        # if t > 1000: \n",
    "        #     break \n",
    "        if t == 0:\n",
    "            print(' '.join(eng_vocab.lookup_tokens(x_b[0].to('cpu').numpy())))\n",
    "            print(' '.join(rus_vocab.lookup_tokens(y_b[0].to('cpu').numpy())))\n",
    "            print('Out:', ' '.join(rus_vocab.lookup_tokens(outputs[0,:,:].argmax(dim=1).to('cpu').numpy())))\n",
    "        t+=1\n",
    "\n",
    "        if t%500==0:\n",
    "            print(' '.join(eng_vocab.lookup_tokens(x_b[0].to('cpu').numpy())))\n",
    "            print(' '.join(rus_vocab.lookup_tokens(y_b[0].to('cpu').numpy())))\n",
    "            print('Out:', ' '.join(rus_vocab.lookup_tokens(outputs[0,:,:].argmax(dim=1).to('cpu').numpy())))\n",
    "            # print(torch.argmax(outputs[0], dim=1))\n",
    "    er_list.append(loss_value.item())\n",
    "    print(f'Эпоха {epoch + 1}, Значение функции потерь: {loss_value.item()}')"
   ]
  },
  {
   "cell_type": "markdown",
   "metadata": {},
   "source": [
    "Константин Воронцов"
   ]
  },
  {
   "cell_type": "code",
   "execution_count": null,
   "metadata": {},
   "outputs": [
    {
     "data": {
      "text/plain": [
       "'<SOS> В моем мозгу миллиарды клеток . <EOS> <PAD> <PAD> <PAD> <PAD> <PAD> <PAD> <PAD> <PAD> <PAD> <PAD> <PAD> <PAD> <PAD> <PAD> <PAD> <PAD> <PAD> <PAD> <PAD> <PAD> <PAD> <PAD> <PAD> <PAD>'"
      ]
     },
     "execution_count": 58,
     "metadata": {},
     "output_type": "execute_result"
    }
   ],
   "source": [
    "' '.join(rus_vocab.lookup_tokens(y_b[0].to('cpu').numpy()))"
   ]
  },
  {
   "cell_type": "code",
   "execution_count": null,
   "metadata": {},
   "outputs": [
    {
     "data": {
      "text/plain": [
       "torch.Size([32, 340627])"
      ]
     },
     "execution_count": 44,
     "metadata": {},
     "output_type": "execute_result"
    }
   ],
   "source": [
    "outputs[0, :, :].shape"
   ]
  },
  {
   "cell_type": "code",
   "execution_count": null,
   "metadata": {},
   "outputs": [
    {
     "data": {
      "text/plain": [
       "'<SOS> На этом <PAD> <PAD> полностью жить <PAD> <PAD> <PAD> <PAD> <PAD> <PAD> <PAD> <PAD> <PAD> <PAD> <PAD> <PAD> <PAD> <PAD> <PAD> <PAD> <PAD> <PAD> <PAD> <PAD> <PAD> <PAD> <PAD> <PAD> <PAD>'"
      ]
     },
     "execution_count": 59,
     "metadata": {},
     "output_type": "execute_result"
    }
   ],
   "source": [
    "' '.join(rus_vocab.lookup_tokens(outputs[0,:,:].argmax(dim=1).to('cpu').numpy()))"
   ]
  },
  {
   "cell_type": "markdown",
   "metadata": {},
   "source": [
    "# D U"
   ]
  },
  {
   "attachments": {
    "image.png": {
     "image/png": "[encoded data removed]"
    }
   },
   "cell_type": "markdown",
   "metadata": {},
   "source": [
    "![image.png](attachment:image.png)"
   ]
  },
  {
   "attachments": {
    "image.png": {
     "image/png": "[encoded data removed]"
    }
   },
   "cell_type": "markdown",
   "metadata": {},
   "source": [
    "![image.png](attachment:image.png)"
   ]
  },
  {
   "attachments": {
    "image.png": {
     "image/png": "[encoded data removed]"
    }
   },
   "cell_type": "markdown",
   "metadata": {},
   "source": [
    "![image.png](attachment:image.png)"
   ]
  },
  {
   "attachments": {
    "image.png": {
     "image/png": "[encoded data removed]"
    }
   },
   "cell_type": "markdown",
   "metadata": {},
   "source": [
    "![image.png](attachment:image.png)"
   ]
  },
  {
   "cell_type": "markdown",
   "metadata": {},
   "source": [
    "# D U Attention"
   ]
  },
  {
   "attachments": {
    "image.png": {
     "image/png": "[encoded data removed]"
    }
   },
   "cell_type": "markdown",
   "metadata": {},
   "source": [
    "![image.png](attachment:image.png)"
   ]
  },
  {
   "attachments": {
    "image.png": {
     "image/png": "[encoded data removed]"
    }
   },
   "cell_type": "markdown",
   "metadata": {},
   "source": [
    "![image.png](attachment:image.png)"
   ]
  },
  {
   "cell_type": "code",
   "execution_count": null,
   "metadata": {},
   "outputs": [],
   "source": []
  }
 ],
 "metadata": {
  "kernelspec": {
   "display_name": "NLP",
   "language": "python",
   "name": "python3"
  },
  "language_info": {
   "codemirror_mode": {
    "name": "ipython",
    "version": 3
   },
   "file_extension": ".py",
   "mimetype": "text/x-python",
   "name": "python",
   "nbconvert_exporter": "python",
   "pygments_lexer": "ipython3",
   "version": "3.9.2"
  }
 },
 "nbformat": 4,
 "nbformat_minor": 2
}
