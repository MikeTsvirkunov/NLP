{
 "cells": [
  {
   "cell_type": "code",
   "execution_count": 1,
   "metadata": {},
   "outputs": [],
   "source": [
    "import torchdata\n",
    "import torch\n",
    "from gensim.models import FastText\n",
    "import pandas as pd\n",
    "import re\n",
    "import numpy as np\n",
    "import pickle\n",
    "import os\n",
    "import matplotlib.pyplot as plt \n",
    "import seaborn as sns\n",
    "import spacy"
   ]
  },
  {
   "cell_type": "code",
   "execution_count": 2,
   "metadata": {},
   "outputs": [],
   "source": [
    "tags = ['<SOS>', '<EOS>', '<PAD>', '<UNK>', '<NAN>', '<NUM>', '<TIME>', '<ENUM>', '<DATE>', '<PHONE>', '<EMAIL>', '<DOTS>', '<SHORT>', '<NAME>']\n"
   ]
  },
  {
   "cell_type": "code",
   "execution_count": 3,
   "metadata": {},
   "outputs": [],
   "source": [
    "tags_value = pd.DataFrame({'values': [i / (1+len(tags)) for i in range(1, 1+len(tags))]}, index=tags,)\n"
   ]
  },
  {
   "cell_type": "code",
   "execution_count": 4,
   "metadata": {},
   "outputs": [
    {
     "data": {
      "text/plain": [
       "0.06666666666666667"
      ]
     },
     "execution_count": 4,
     "metadata": {},
     "output_type": "execute_result"
    }
   ],
   "source": [
    "tags_value.loc['<SOS>', 'values']\n"
   ]
  },
  {
   "cell_type": "code",
   "execution_count": 5,
   "metadata": {},
   "outputs": [],
   "source": [
    "def bad_patterns_to_tags_replaser(text: str):\n",
    "    text = re.sub(r'\\d+\\:\\d+\\:\\d+', ' <TIME> ', text)\n",
    "    text = re.sub(r'\\d+\\:\\d+', ' <TIME> ', text)\n",
    "    text = re.sub(r'\\+{,1}\\d{1,3}\\({,1}[\\-\\s]{,1}\\d{3}\\){,1}[\\-\\s]{,1}\\d{3}[\\-\\s]{,1}\\d{2}[\\-\\s]{,1}\\d{2}', ' <PHONE> ', text)\n",
    "    text = re.sub('\\d+/\\d+/\\d+', ' <DATE> ', text)\n",
    "    text = re.sub('\\d+-\\d+-\\d+', ' <DATE> ', text)\n",
    "    text = re.sub('\\d+th', ' <ENUM> ', text)\n",
    "    text = re.sub('\\d+rd', ' <ENUM> ', text)\n",
    "    text = re.sub('\\d+st', ' <ENUM> ', text)\n",
    "    text = re.sub('[\\+\\-]?\\d+.\\d+', ' <NUM> ', text)\n",
    "    text = re.sub('[\\+\\-]?\\d+,\\d+', ' <NUM> ', text)\n",
    "    text = re.sub('\\d+', ' <NUM> ', text)\n",
    "    # text = re.sub(r'\\w+\\.', '<SHORT>', text[0:-1]) + '.'\n",
    "    text = re.sub(',', ' , ', text)\n",
    "    text = re.sub(';', ' ; ', text)\n",
    "    text = re.sub(';', ' ; ', text)\n",
    "    text = re.sub('-', ' - ', text)\n",
    "    text = re.sub(':', ' : ', text)\n",
    "    text = re.sub('\\?', ' \\? ', text)\n",
    "    text = re.sub('\\...', ' <DOTS> ', text)\n",
    "    text = re.sub('\"', ' \" ', text)\n",
    "    text = re.sub(\"'\", \" ' \", text)\n",
    "    text = re.sub(r'\\s+', ' ', text)\n",
    "    text = re.sub('\\.', ' . ', text)\n",
    "    return text[0:-1]\n"
   ]
  },
  {
   "cell_type": "code",
   "execution_count": 6,
   "metadata": {},
   "outputs": [
    {
     "data": {
      "text/plain": [
       "\"i ' d wake up at <TIME> or <TIME> , go <DOTS> downstairs , and the <NUM> % , <NUM> % , <NUM> % , <NUM> % , <NUM> % , <NUM> % , front phones [ <PHONE> , <PHONE> , <PHONE> , <PHONE> , <PHONE> , <PHONE> ] door would be open - <NUM> beers in the kitchen and <ENUM> , <ENUM> , <ENUM> living room and nobody in the house on <DATE> or <DATE>  .\""
      ]
     },
     "execution_count": 6,
     "metadata": {},
     "output_type": "execute_result"
    }
   ],
   "source": [
    "bad_patterns_to_tags_replaser(\n",
    "    \"I'd wake up at 7:30 or 100:02:20, go... downstairs, and the 123,45%, 123.45%, +123,45%, -123,45%, +123.45%, -123.45%, front phones [+7 999 444 55 66, +7-999-444-55-66, +79994445566, 79994445566, +7(999)-444-55-66, +7(999)-444-5566] door would be open - 600 beers in the kitchen and 20th, 3rd, 1st living room and nobody in the house on 12/12/2012 or 12-12-2012.\".lower()\n",
    ")\n"
   ]
  },
  {
   "cell_type": "code",
   "execution_count": 8,
   "metadata": {},
   "outputs": [],
   "source": [
    "def print_simple_data_pipe(date_pipe: torchdata.datapipes.iter.IterDataPipe, n=10) -> None:\n",
    "  print(type(date_pipe))\n",
    "  x = 0\n",
    "  for sample in date_pipe:\n",
    "    print(sample)\n",
    "    if x == n:\n",
    "      break\n",
    "    x +=1\n"
   ]
  },
  {
   "cell_type": "markdown",
   "metadata": {},
   "source": [
    "# Create Dataset"
   ]
  },
  {
   "cell_type": "code",
   "execution_count": null,
   "metadata": {},
   "outputs": [],
   "source": [
    "if os."
   ]
  },
  {
   "cell_type": "code",
   "execution_count": 9,
   "metadata": {},
   "outputs": [],
   "source": [
    "with open('../Data/1mcorpus/corpus.en_ru.1m.en', encoding='utf-8') as f:\n",
    "    eng = f.read().split('\\n')\n",
    "with open('../Data/1mcorpus/corpus.en_ru.1m.ru', encoding='utf-8') as f:\n",
    "    rus = f.read().split('\\n')\n"
   ]
  },
  {
   "cell_type": "code",
   "execution_count": 11,
   "metadata": {},
   "outputs": [],
   "source": [
    "pd.DataFrame({'eng': eng, 'rus': rus}).to_csv('../Data/1mcorpus/data.csv', index=False)"
   ]
  },
  {
   "cell_type": "code",
   "execution_count": null,
   "metadata": {},
   "outputs": [
    {
     "data": {
      "text/plain": [
       "105"
      ]
     },
     "execution_count": 10,
     "metadata": {},
     "output_type": "execute_result"
    }
   ],
   "source": [
    "max_len = len(bad_patterns_to_tags_replaser(max(eng + rus, key=len)).split(' '))\n",
    "max_len\n"
   ]
  },
  {
   "cell_type": "markdown",
   "metadata": {},
   "source": [
    "# Load Dataset using torchdata"
   ]
  },
  {
   "cell_type": "code",
   "execution_count": null,
   "metadata": {},
   "outputs": [],
   "source": [
    "eng_rus_pairs = torchdata.datapipes.iter.IterableWrapper(['../Data/1mcorpus/data.csv'])"
   ]
  },
  {
   "cell_type": "code",
   "execution_count": null,
   "metadata": {},
   "outputs": [],
   "source": [
    "eng_rus_pairs_pipe = torchdata.datapipes.iter.FileOpener(eng_rus_pairs, mode='r', encoding='utf-8', )"
   ]
  },
  {
   "cell_type": "code",
   "execution_count": null,
   "metadata": {},
   "outputs": [
    {
     "name": "stdout",
     "output_type": "stream",
     "text": [
      "<class 'torchdata.datapipes.iter.util.plain_text_reader.CSVParserIterDataPipe'>\n",
      "[\"This new development in Harry's character may be a disappointment to those readers who enjoyed his old vindictive ways, but it also reinforces the position of pro-Potter people who do not see beneath the surface appearance of the characters and plots.\", 'Такое развитие характера Гарри может разочаровать читателей, полюбивших его былую мстительность, но с другой стороны это преображение укрепляет позицию тех, кто не видит глубже сюжета и изображения героев.']\n",
      "['A nondisclosure clause in the final settlement (the band is back on Elektra) prevents Ulrich, an irrepressible motormouth, from providing any juicy contractual details.', 'Решение суда (группа вернулась под крыло к Elektra Entertainment) предотвратило дальнейшие нападки со стороны неугомонного Ульриха и не позволило ему обнародовать детали нового контракта.']\n",
      "[\"When you're 18 or 19 years old, you have that gang mentality in your band.\", 'Когда тебе 18 или 19 лет, легко перенимать бандитские повадки и переносить их в группу.']\n",
      "['Now you have Black Sabbath and Kiss tribute albums.', 'А сейчас куча триьютов тем же самым BLACK SABBATH и KISS.']\n"
     ]
    }
   ],
   "source": [
    "eng_rus_pairs_pipe_parsed = eng_rus_pairs_pipe.parse_csv(skip_lines=1, delimiter=',')\n",
    "print_simple_data_pipe(eng_rus_pairs_pipe_parsed, 3)\n"
   ]
  },
  {
   "cell_type": "markdown",
   "metadata": {},
   "source": [
    "# Make Vocab"
   ]
  },
  {
   "cell_type": "code",
   "execution_count": null,
   "metadata": {},
   "outputs": [],
   "source": [
    "def tokenize(text: str) -> list[str]:\n",
    "  return [t for t in bad_patterns_to_tags_replaser(text.lower()).split()]\n"
   ]
  },
  {
   "cell_type": "code",
   "execution_count": null,
   "metadata": {},
   "outputs": [],
   "source": [
    "def yield_tokens_eng(data_iter: torchdata.datapipes.iter.IterDataPipe):\n",
    "  for eng, rus in data_iter:\n",
    "    yield tokenize(eng)\n"
   ]
  },
  {
   "cell_type": "code",
   "execution_count": null,
   "metadata": {},
   "outputs": [],
   "source": [
    "def yield_tokens_rus(data_iter: torchdata.datapipes.iter.IterDataPipe):\n",
    "  for eng, rus in data_iter:\n",
    "    yield tokenize(rus)\n"
   ]
  },
  {
   "cell_type": "code",
   "execution_count": null,
   "metadata": {},
   "outputs": [
    {
     "name": "stdout",
     "output_type": "stream",
     "text": [
      "<class 'generator'>\n",
      "['this', 'new', 'development', 'in', 'harry', \"'s\", 'character', 'may', 'be', 'a', 'disappointment', 'to', 'those', 'readers', 'who', 'enjoyed', 'his', 'old', 'vindictive', 'ways', ',', 'but', 'it', 'also', 'reinforces', 'the', 'position', 'of', 'pro', '-', 'potter', 'people', 'who', 'do', 'not', 'see', 'beneath', 'the', 'surface', 'appearance', 'of', 'the', 'characters', 'and', 'plots', '.']\n",
      "['a', 'nondisclosure', 'clause', 'in', 'the', 'final', 'settlement', '(the', 'band', 'is', 'back', 'on', 'elektra)', 'prevents', 'ulrich', ',', 'an', 'irrepressible', 'motormouth', ',', 'from', 'providing', 'any', 'juicy', 'contractual', 'details', '.']\n",
      "['when', 'you', \"'re\", '<NUM>', 'or', '<NUM>', 'years', 'old', ',', 'you', 'have', 'that', 'gang', 'mentality', 'in', 'your', 'band', '.']\n",
      "['now', 'you', 'have', 'black', 'sabbath', 'and', 'kiss', 'tribute', 'albums', '.']\n"
     ]
    }
   ],
   "source": [
    "print_simple_data_pipe(yield_tokens_eng(eng_rus_pairs_pipe_parsed), 3)\n"
   ]
  },
  {
   "cell_type": "code",
   "execution_count": null,
   "metadata": {},
   "outputs": [
    {
     "name": "stdout",
     "output_type": "stream",
     "text": [
      "<class 'generator'>\n",
      "['такое', 'развитие', 'характера', 'гарри', 'может', 'разочаровать', 'читателей', ',', 'полюбивших', 'его', 'былую', 'мстительность', ',', 'но', 'с', 'другой', 'стороны', 'это', 'преображение', 'укрепляет', 'позицию', 'тех', ',', 'кто', 'не', 'видит', 'глубже', 'сюжета', 'и', 'изображения', 'героев', '.']\n",
      "['решение', 'суда', '(группа', 'вернулась', 'под', 'крыло', 'к', 'elektra', 'entertainment)', 'предотвратило', 'дальнейшие', 'нападки', 'со', 'стороны', 'неугомонного', 'ульриха', 'и', 'не', 'позволило', 'ему', 'обнародовать', 'детали', 'нового', 'контракта', '.']\n",
      "['когда', 'тебе', '<NUM>', 'или', '<NUM>', 'лет', ',', 'легко', 'перенимать', 'бандитские', 'повадки', 'и', 'переносить', 'их', 'в', 'группу', '.']\n",
      "['а', 'сейчас', 'куча', 'триьютов', 'тем', 'же', 'самым', 'black', 'sabbath', 'и', 'kiss', '.']\n"
     ]
    }
   ],
   "source": [
    "print_simple_data_pipe(yield_tokens_rus(eng_rus_pairs_pipe_parsed), 3)\n"
   ]
  },
  {
   "cell_type": "code",
   "execution_count": null,
   "metadata": {},
   "outputs": [
    {
     "name": "stdout",
     "output_type": "stream",
     "text": [
      "already exist\n"
     ]
    }
   ],
   "source": [
    "if not os.path.isfile('./eng_vocab.pkl'):\n",
    "    eng_vocab = torchtext.vocab.build_vocab_from_iterator(\n",
    "        yield_tokens_eng(eng_rus_pairs_pipe_parsed),\n",
    "        min_freq=2,\n",
    "        specials=tags,\n",
    "        special_first=True\n",
    "    )\n",
    "    eng_vocab.set_default_index(eng_vocab['<UNK>'])\n",
    "    with open('./eng_vocab.pkl', 'wb') as f:\n",
    "        pickle.dump(eng_vocab, f)\n",
    "else:\n",
    "    print('already exist')\n",
    "    with open('./eng_vocab.pkl', 'rb') as f:\n",
    "        eng_vocab = pickle.load(f)\n"
   ]
  },
  {
   "cell_type": "code",
   "execution_count": null,
   "metadata": {},
   "outputs": [
    {
     "name": "stdout",
     "output_type": "stream",
     "text": [
      "already exist\n"
     ]
    }
   ],
   "source": [
    "if not os.path.isfile('./rus_vocab.pkl'):\n",
    "    rus_vocab = torchtext.vocab.build_vocab_from_iterator(\n",
    "        yield_tokens_rus(eng_rus_pairs_pipe_parsed),\n",
    "        min_freq=2,\n",
    "        specials=tags,\n",
    "        special_first=True\n",
    "    )\n",
    "    rus_vocab.set_default_index(rus_vocab['<UNK>'])\n",
    "    with open('./rus_vocab.pkl', 'wb') as f:\n",
    "        pickle.dump(rus_vocab, f)\n",
    "else:\n",
    "    print('already exist')\n",
    "    with open('./rus_vocab.pkl', 'rb') as f:\n",
    "        rus_vocab = pickle.load(f)\n"
   ]
  },
  {
   "cell_type": "markdown",
   "metadata": {},
   "source": [
    "# W2V"
   ]
  },
  {
   "cell_type": "code",
   "execution_count": null,
   "metadata": {},
   "outputs": [],
   "source": [
    "if not os.path.isfile('./w2v_eng.model'):\n",
    "    w2v_eng = Word2Vec(\n",
    "        sentences=list(yield_tokens_eng(eng_rus_pairs_pipe_parsed)),\n",
    "        vector_size=128,\n",
    "        min_count=1,\n",
    "        window=5,\n",
    "        workers=4,\n",
    "        epochs=10,\n",
    "        compute_loss=True\n",
    "    )\n",
    "    w2v_eng.save('./w2v_eng.model')\n",
    "else:\n",
    "    w2v_eng = Word2Vec.load('./w2v_eng.model')\n",
    "    print('already exist')\n"
   ]
  },
  {
   "cell_type": "code",
   "execution_count": null,
   "metadata": {},
   "outputs": [],
   "source": [
    "if not os.path.isfile('./w2v_rus.model'):\n",
    "    w2v_rus = Word2Vec(\n",
    "        sentences=list(yield_tokens_rus(eng_rus_pairs_pipe_parsed)),\n",
    "        vector_size=128,\n",
    "        min_count=1,\n",
    "        window=5,\n",
    "        workers=4,\n",
    "        epochs=10,\n",
    "        compute_loss=True,\n",
    "    )\n",
    "\n",
    "    w2v_eng.save('./w2v_rus.model')\n",
    "else:\n",
    "    w2v_rus = Word2Vec.load('./w2v_rus.model')\n",
    "    print('already exist')\n"
   ]
  },
  {
   "cell_type": "markdown",
   "metadata": {},
   "source": [
    "# Preprocessed"
   ]
  },
  {
   "cell_type": "code",
   "execution_count": null,
   "metadata": {},
   "outputs": [],
   "source": [
    "def normalize(pair):\n",
    "    return (tokenize(pair[0]), tokenize(pair[1]))\n"
   ]
  },
  {
   "cell_type": "code",
   "execution_count": null,
   "metadata": {},
   "outputs": [],
   "source": [
    "def vocab_transform(vocab: torchtext.vocab.Vocab) -> torchtext.transforms.Sequential:\n",
    "    text_tranform = torchtext.transforms.Sequential(\n",
    "        torchtext.transforms.AddToken('<SOS>', begin=True),\n",
    "        torchtext.transforms.AddToken('<EOS>', begin=False)\n",
    "    )\n",
    "    return text_tranform\n"
   ]
  },
  {
   "cell_type": "code",
   "execution_count": null,
   "metadata": {},
   "outputs": [],
   "source": [
    "def apply_vocab_transform(pair):\n",
    "    return (\n",
    "        vocab_transform(eng_vocab)(tokenize(pair[0])),\n",
    "        vocab_transform(rus_vocab)(tokenize(pair[1]))\n",
    "    )\n"
   ]
  },
  {
   "cell_type": "code",
   "execution_count": null,
   "metadata": {},
   "outputs": [],
   "source": [
    "def vectorize_frase(text, max_lenght, vectorizer: Word2Vec):\n",
    "    matrix = []\n",
    "    for i in range(max_lenght):\n",
    "        if i < len(text):\n",
    "            if text[i] in tags:\n",
    "                matrix.append((np.ones(vectorizer.vector_size) * tags_value.loc[text[i], 'values']).tolist())\n",
    "            else:\n",
    "                matrix.append((vectorizer.wv[text[i]]).tolist())\n",
    "        else:\n",
    "            matrix.append((np.ones(vectorizer.vector_size) * tags_value.loc['<PAD>', 'values']).tolist())\n",
    "    return torch.tensor(matrix).float()\n"
   ]
  },
  {
   "cell_type": "code",
   "execution_count": null,
   "metadata": {},
   "outputs": [],
   "source": [
    "def vectorize_frase_fixed(pair):\n",
    "    # print(pair[0])\n",
    "    k1 = vectorize_frase(pair[0], max_len + 2, w2v_eng)\n",
    "    # print(k1.shape)\n",
    "    k2 = vectorize_frase(pair[1], max_len + 2, w2v_rus)\n",
    "    # print(k2.shape)\n",
    "    return (k1, k2)\n"
   ]
  },
  {
   "cell_type": "code",
   "execution_count": null,
   "metadata": {},
   "outputs": [
    {
     "name": "stdout",
     "output_type": "stream",
     "text": [
      "<class 'torch.utils.data.datapipes.iter.callable.MapperIterDataPipe'>\n",
      "(['this', 'new', 'development', 'in', 'harry', \"'s\", 'character', 'may', 'be', 'a', 'disappointment', 'to', 'those', 'readers', 'who', 'enjoyed', 'his', 'old', 'vindictive', 'ways', ',', 'but', 'it', 'also', 'reinforces', 'the', 'position', 'of', 'pro', '-', 'potter', 'people', 'who', 'do', 'not', 'see', 'beneath', 'the', 'surface', 'appearance', 'of', 'the', 'characters', 'and', 'plots', '.'], ['такое', 'развитие', 'характера', 'гарри', 'может', 'разочаровать', 'читателей', ',', 'полюбивших', 'его', 'былую', 'мстительность', ',', 'но', 'с', 'другой', 'стороны', 'это', 'преображение', 'укрепляет', 'позицию', 'тех', ',', 'кто', 'не', 'видит', 'глубже', 'сюжета', 'и', 'изображения', 'героев', '.'])\n",
      "(['a', 'nondisclosure', 'clause', 'in', 'the', 'final', 'settlement', '(the', 'band', 'is', 'back', 'on', 'elektra)', 'prevents', 'ulrich', ',', 'an', 'irrepressible', 'motormouth', ',', 'from', 'providing', 'any', 'juicy', 'contractual', 'details', '.'], ['решение', 'суда', '(группа', 'вернулась', 'под', 'крыло', 'к', 'elektra', 'entertainment)', 'предотвратило', 'дальнейшие', 'нападки', 'со', 'стороны', 'неугомонного', 'ульриха', 'и', 'не', 'позволило', 'ему', 'обнародовать', 'детали', 'нового', 'контракта', '.'])\n",
      "(['when', 'you', \"'re\", '<NUM>', 'or', '<NUM>', 'years', 'old', ',', 'you', 'have', 'that', 'gang', 'mentality', 'in', 'your', 'band', '.'], ['когда', 'тебе', '<NUM>', 'или', '<NUM>', 'лет', ',', 'легко', 'перенимать', 'бандитские', 'повадки', 'и', 'переносить', 'их', 'в', 'группу', '.'])\n",
      "(['now', 'you', 'have', 'black', 'sabbath', 'and', 'kiss', 'tribute', 'albums', '.'], ['а', 'сейчас', 'куча', 'триьютов', 'тем', 'же', 'самым', 'black', 'sabbath', 'и', 'kiss', '.'])\n"
     ]
    }
   ],
   "source": [
    "eng_rus_pairs_pipe_normalized = eng_rus_pairs_pipe_parsed.map(normalize)\n",
    "print_simple_data_pipe(eng_rus_pairs_pipe_normalized, 3)\n"
   ]
  },
  {
   "cell_type": "code",
   "execution_count": null,
   "metadata": {},
   "outputs": [
    {
     "name": "stdout",
     "output_type": "stream",
     "text": [
      "<class 'torch.utils.data.datapipes.iter.callable.MapperIterDataPipe'>\n",
      "(tensor([[ 0.6977, -0.2862,  0.7218,  ..., -5.3197,  1.4442, -2.1224],\n",
      "        [-0.1535,  1.2523, -0.9845,  ..., -0.2049, -1.2072, -1.8908],\n",
      "        [-0.2193,  1.1159, -3.6051,  ...,  0.3099,  2.1877, -3.9869],\n",
      "        ...,\n",
      "        [ 0.2000,  0.2000,  0.2000,  ...,  0.2000,  0.2000,  0.2000],\n",
      "        [ 0.2000,  0.2000,  0.2000,  ...,  0.2000,  0.2000,  0.2000],\n",
      "        [ 0.2000,  0.2000,  0.2000,  ...,  0.2000,  0.2000,  0.2000]]), tensor([[-0.6569,  0.4356,  1.5196,  ...,  4.0749, -3.1023,  2.7302],\n",
      "        [ 2.3981,  0.0307,  1.3253,  ..., -2.4002, -0.5166, -0.2387],\n",
      "        [-2.8937,  0.0412, -2.9933,  ..., -2.2109, -0.0264, -1.9518],\n",
      "        ...,\n",
      "        [ 0.2000,  0.2000,  0.2000,  ...,  0.2000,  0.2000,  0.2000],\n",
      "        [ 0.2000,  0.2000,  0.2000,  ...,  0.2000,  0.2000,  0.2000],\n",
      "        [ 0.2000,  0.2000,  0.2000,  ...,  0.2000,  0.2000,  0.2000]]))\n",
      "(tensor([[-0.1196,  0.1542,  0.5710,  ..., -2.1419,  2.4303, -2.8081],\n",
      "        [-0.0285, -0.1026, -0.0218,  ..., -0.0669, -0.2187, -0.0032],\n",
      "        [ 2.0160, -0.1143,  0.4914,  ...,  0.6133,  0.0074,  0.1675],\n",
      "        ...,\n",
      "        [ 0.2000,  0.2000,  0.2000,  ...,  0.2000,  0.2000,  0.2000],\n",
      "        [ 0.2000,  0.2000,  0.2000,  ...,  0.2000,  0.2000,  0.2000],\n",
      "        [ 0.2000,  0.2000,  0.2000,  ...,  0.2000,  0.2000,  0.2000]]), tensor([[-9.6051e-01,  2.2128e-01,  1.9367e+00,  ...,  8.9098e-02,\n",
      "          1.1223e-01,  1.3774e+00],\n",
      "        [-6.5222e+00, -1.8530e+00, -6.3767e-01,  ..., -1.2553e-01,\n",
      "         -7.1309e-01,  2.1284e+00],\n",
      "        [ 4.7119e-03,  8.0718e-02,  3.9624e-02,  ...,  1.8575e-01,\n",
      "         -1.0420e-02, -5.5112e-01],\n",
      "        ...,\n",
      "        [ 2.0000e-01,  2.0000e-01,  2.0000e-01,  ...,  2.0000e-01,\n",
      "          2.0000e-01,  2.0000e-01],\n",
      "        [ 2.0000e-01,  2.0000e-01,  2.0000e-01,  ...,  2.0000e-01,\n",
      "          2.0000e-01,  2.0000e-01],\n",
      "        [ 2.0000e-01,  2.0000e-01,  2.0000e-01,  ...,  2.0000e-01,\n",
      "          2.0000e-01,  2.0000e-01]]))\n"
     ]
    }
   ],
   "source": [
    "eng_rus_pairs_pipe_vectorized = eng_rus_pairs_pipe_normalized.map(vectorize_frase_fixed)\n",
    "print_simple_data_pipe(eng_rus_pairs_pipe_vectorized, 1)\n"
   ]
  },
  {
   "cell_type": "code",
   "execution_count": null,
   "metadata": {},
   "outputs": [],
   "source": [
    "def create_position_coording_matrix(height, length):\n",
    "    matrix = (torch.ones(length, height) * torch.arange(0., length).view(-1, 1).float()).T\n",
    "    for i in range(height):\n",
    "        matrix[i][torch.arange(0., length) % 2 == 0] = np.sin(i / (10000 ** (2*matrix[i][torch.arange(0., length) % 2 == 0]/length)))\n",
    "        matrix[i][torch.arange(0., length) % 2 != 0] = np.cos(i / (10000 ** (2*matrix[i][torch.arange(0., length) % 2 != 0]/length)))\n",
    "    return matrix\n",
    "        "
   ]
  },
  {
   "cell_type": "code",
   "execution_count": null,
   "metadata": {},
   "outputs": [
    {
     "data": {
      "text/plain": [
       "<matplotlib.image.AxesImage at 0x228432cd6a0>"
      ]
     },
     "execution_count": 229,
     "metadata": {},
     "output_type": "execute_result"
    },
    {
     "data": {
      "image/png": "[encoded data removed]",
      "text/plain": [
       "<Figure size 640x480 with 1 Axes>"
      ]
     },
     "metadata": {},
     "output_type": "display_data"
    }
   ],
   "source": [
    "plt.imshow(create_position_coording_matrix(60, 128))\n"
   ]
  },
  {
   "cell_type": "code",
   "execution_count": null,
   "metadata": {},
   "outputs": [],
   "source": [
    "def position_codding(pair):\n",
    "    return (pair[0] + create_position_coording_matrix(pair[0].shape[0], pair[0].shape[1]), pair[1] + create_position_coording_matrix(pair[1].shape[0], pair[1].shape[1]))\n"
   ]
  },
  {
   "cell_type": "code",
   "execution_count": null,
   "metadata": {},
   "outputs": [
    {
     "name": "stdout",
     "output_type": "stream",
     "text": [
      "<class 'torch.utils.data.datapipes.iter.callable.MapperIterDataPipe'>\n",
      "(tensor([[ 6.9767e-01,  7.1384e-01,  7.2179e-01,  ..., -4.3197e+00,\n",
      "          1.4442e+00, -1.1224e+00],\n",
      "        [ 6.8800e-01,  1.9002e+00, -3.0298e-01,  ...,  7.9511e-01,\n",
      "         -1.2072e+00, -8.9076e-01],\n",
      "        [ 6.8997e-01,  9.5548e-01, -2.6076e+00,  ...,  1.3099e+00,\n",
      "          2.1877e+00, -2.9869e+00],\n",
      "        ...,\n",
      "        [-1.2162e-01, -3.0113e-01,  7.2338e-01,  ...,  1.2000e+00,\n",
      "          2.0000e-01,  1.2000e+00],\n",
      "        [-7.7054e-01, -7.8386e-01,  2.2371e-03,  ...,  1.2000e+00,\n",
      "          2.0000e-01,  1.2000e+00],\n",
      "        [-5.2714e-01, -5.7376e-01, -6.1282e-01,  ...,  1.2000e+00,\n",
      "          2.0000e-01,  1.2000e+00]]), tensor([[-6.5686e-01,  1.4356e+00,  1.5196e+00,  ...,  5.0749e+00,\n",
      "         -3.1023e+00,  3.7302e+00],\n",
      "        [ 3.2396e+00,  6.7857e-01,  2.0068e+00,  ..., -1.4002e+00,\n",
      "         -5.1656e-01,  7.6131e-01],\n",
      "        [-1.9844e+00, -1.1924e-01, -1.9958e+00,  ..., -1.2109e+00,\n",
      "         -2.6379e-02, -9.5178e-01],\n",
      "        ...,\n",
      "        [-1.2162e-01, -3.0113e-01,  7.2338e-01,  ...,  1.2000e+00,\n",
      "          2.0000e-01,  1.2000e+00],\n",
      "        [-7.7054e-01, -7.8386e-01,  2.2371e-03,  ...,  1.2000e+00,\n",
      "          2.0000e-01,  1.2000e+00],\n",
      "        [-5.2714e-01, -5.7376e-01, -6.1282e-01,  ...,  1.2000e+00,\n",
      "          2.0000e-01,  1.2000e+00]]))\n",
      "(tensor([[-1.1963e-01,  1.1542e+00,  5.7103e-01,  ..., -1.1419e+00,\n",
      "          2.4303e+00, -1.8081e+00],\n",
      "        [ 8.1299e-01,  5.4526e-01,  6.5971e-01,  ...,  9.3306e-01,\n",
      "         -2.1866e-01,  9.9684e-01],\n",
      "        [ 2.9253e+00, -2.7472e-01,  1.4888e+00,  ...,  1.6133e+00,\n",
      "          7.3845e-03,  1.1675e+00],\n",
      "        ...,\n",
      "        [-1.2162e-01, -3.0113e-01,  7.2338e-01,  ...,  1.2000e+00,\n",
      "          2.0000e-01,  1.2000e+00],\n",
      "        [-7.7054e-01, -7.8386e-01,  2.2371e-03,  ...,  1.2000e+00,\n",
      "          2.0000e-01,  1.2000e+00],\n",
      "        [-5.2714e-01, -5.7376e-01, -6.1282e-01,  ...,  1.2000e+00,\n",
      "          2.0000e-01,  1.2000e+00]]), tensor([[-9.6051e-01,  1.2213e+00,  1.9367e+00,  ...,  1.0891e+00,\n",
      "          1.1223e-01,  2.3774e+00],\n",
      "        [-5.6808e+00, -1.2051e+00,  4.3888e-02,  ...,  8.7447e-01,\n",
      "         -7.1309e-01,  3.1284e+00],\n",
      "        [ 9.1401e-01, -7.9718e-02,  1.0371e+00,  ...,  1.1857e+00,\n",
      "         -1.0420e-02,  4.4888e-01],\n",
      "        ...,\n",
      "        [-1.2162e-01, -3.0113e-01,  7.2338e-01,  ...,  1.2000e+00,\n",
      "          2.0000e-01,  1.2000e+00],\n",
      "        [-7.7054e-01, -7.8386e-01,  2.2371e-03,  ...,  1.2000e+00,\n",
      "          2.0000e-01,  1.2000e+00],\n",
      "        [-5.2714e-01, -5.7376e-01, -6.1282e-01,  ...,  1.2000e+00,\n",
      "          2.0000e-01,  1.2000e+00]]))\n"
     ]
    }
   ],
   "source": [
    "eng_rus_pairs_pipe_coorded_coded = eng_rus_pairs_pipe_vectorized.map(position_codding)\n",
    "print_simple_data_pipe(eng_rus_pairs_pipe_coorded_coded, 1)\n"
   ]
  },
  {
   "cell_type": "code",
   "execution_count": null,
   "metadata": {},
   "outputs": [],
   "source": [
    "eng_rus_pairs_pipe_batch = eng_rus_pairs_pipe_coorded_coded.bucketbatch(\n",
    "    batch_size=256,\n",
    "    use_in_batch_shuffle=False\n",
    ")\n"
   ]
  },
  {
   "cell_type": "markdown",
   "metadata": {},
   "source": [
    "# Model Build"
   ]
  },
  {
   "cell_type": "code",
   "execution_count": null,
   "metadata": {},
   "outputs": [],
   "source": [
    "class FraseMatrixProcessorLayer(torch.nn.Module):\n",
    "    def __init__(\n",
    "            self, \n",
    "            input_dimention, \n",
    "            output_dimention,\n",
    "            num_of_samples,\n",
    "            alpha=5,\n",
    "        ):\n",
    "        super().__init__()\n",
    "        self.input_dimention = input_dimention\n",
    "        self.output_dimention = output_dimention\n",
    "        self.num_of_samples = num_of_samples\n",
    "        self.num_layers_of_main_layer = int(num_of_samples / (alpha * (self.input_dimention + self.output_dimention)) + 1)\n",
    "        self.main_layer = torch.nn.GRU(\n",
    "            input_size=input_dimention, \n",
    "            hidden_size=output_dimention, \n",
    "            num_layers=self.num_layers_of_main_layer\n",
    "        )\n",
    "        self.h = torch.zeros(\n",
    "            self.num_layers_of_main_layer, \n",
    "            self.output_dimention\n",
    "        ).requires_grad_().float()\n",
    "\n",
    "    def forward(self, matrix: torch.tensor):\n",
    "        resulted_matrix = torch.zeros(self.num_of_samples, self.output_dimention)\n",
    "        for i in range(matrix.shape[0]):\n",
    "            resulted_matrix, self.h = self.main_layer(matrix, self.h)\n",
    "        return resulted_matrix"
   ]
  },
  {
   "cell_type": "code",
   "execution_count": null,
   "metadata": {},
   "outputs": [],
   "source": [
    "for i, j in eng_rus_pairs_pipe_coorded_coded:\n",
    "    test = i\n",
    "    break\n"
   ]
  },
  {
   "cell_type": "code",
   "execution_count": null,
   "metadata": {},
   "outputs": [
    {
     "data": {
      "text/plain": [
       "torch.Size([107, 128])"
      ]
     },
     "execution_count": 235,
     "metadata": {},
     "output_type": "execute_result"
    }
   ],
   "source": [
    "test.shape\n"
   ]
  },
  {
   "cell_type": "code",
   "execution_count": null,
   "metadata": {},
   "outputs": [],
   "source": [
    "t = FraseMatrixProcessorLayer(\n",
    "    input_dimention=test.shape[1],\n",
    "    output_dimention=20,\n",
    "    num_of_samples=test.shape[0],\n",
    ")\n"
   ]
  },
  {
   "cell_type": "code",
   "execution_count": null,
   "metadata": {},
   "outputs": [
    {
     "data": {
      "text/plain": [
       "tensor([[ 0.9403, -0.3526,  0.2531,  ..., -0.1046, -0.4123,  0.7941],\n",
       "        [-0.9553, -0.5446,  0.9518,  ...,  0.3328, -0.6510,  0.7575],\n",
       "        [ 0.8228, -0.4789,  0.9872,  ...,  0.8938, -0.6730, -0.8143],\n",
       "        ...,\n",
       "        [ 0.5403,  0.8199,  0.4174,  ...,  0.9926,  0.0215, -0.6201],\n",
       "        [ 0.5655,  0.8360,  0.3539,  ...,  0.9927, -0.0732, -0.6462],\n",
       "        [ 0.5897,  0.8540,  0.3696,  ...,  0.9918, -0.1514, -0.7572]],\n",
       "       grad_fn=<SqueezeBackward1>)"
      ]
     },
     "execution_count": 240,
     "metadata": {},
     "output_type": "execute_result"
    }
   ],
   "source": [
    "t(test)"
   ]
  },
  {
   "cell_type": "code",
   "execution_count": null,
   "metadata": {},
   "outputs": [
    {
     "data": {
      "text/plain": [
       "False"
      ]
     },
     "execution_count": 211,
     "metadata": {},
     "output_type": "execute_result"
    }
   ],
   "source": [
    "torch.cuda.is_available()\n"
   ]
  },
  {
   "cell_type": "code",
   "execution_count": null,
   "metadata": {},
   "outputs": [],
   "source": [
    "class MyTransformer(torch.nn.Module):\n",
    "    def __init__(self, input_dimention, output_dimention):\n",
    "        super().__init__()\n",
    "\n",
    "    def frase_matrix_first_processing(self, matrix):\n",
    "        \n",
    "\n",
    "    def forward(self, matrix: torch.tensor):\n",
    "        Q = matrix\n",
    "        K = matrix\n",
    "        V = matrix\n",
    "        embedded = self.embedding(text)\n",
    "        output, hidden = self.gru(embedded)\n",
    "        output, hidden = self.gru2(output)\n",
    "        output, hidden = self.gru3(output)\n",
    "        return self.fc(hidden.squeeze(0))\n"
   ]
  }
 ],
 "metadata": {
  "kernelspec": {
   "display_name": "NLP",
   "language": "python",
   "name": "python3"
  },
  "language_info": {
   "codemirror_mode": {
    "name": "ipython",
    "version": 3
   },
   "file_extension": ".py",
   "mimetype": "text/x-python",
   "name": "python",
   "nbconvert_exporter": "python",
   "pygments_lexer": "ipython3",
   "version": "3.9.2"
  }
 },
 "nbformat": 4,
 "nbformat_minor": 2
}
